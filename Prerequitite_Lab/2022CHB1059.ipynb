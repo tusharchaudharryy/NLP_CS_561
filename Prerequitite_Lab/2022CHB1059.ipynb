{
  "cells": [
    {
      "cell_type": "markdown",
      "metadata": {
        "id": "qcauFL10p9dx"
      },
      "source": [
        "Q1\n",
        "Write a Python function that accepts a list of integers and returns a new list containing only\n",
        "the unique values, sorted in ascending order."
      ]
    },
    {
      "cell_type": "code",
      "execution_count": 26,
      "metadata": {
        "id": "4qGXZzQop6GK"
      },
      "outputs": [],
      "source": [
        "def unique_elements_sorted(lst):\n",
        "        return sorted(set(lst))"
      ]
    },
    {
      "cell_type": "code",
      "execution_count": null,
      "metadata": {
        "colab": {
          "base_uri": "https://localhost:8080/"
        },
        "id": "iUFN9KpfW3Qy",
        "outputId": "1c85b349-b997-4a2a-9e38-959854d82772"
      },
      "outputs": [
        {
          "name": "stdout",
          "output_type": "stream",
          "text": [
            "Q1: [1, 2, 3, 4, 5]\n"
          ]
        }
      ],
      "source": [
        "# Test for Question 1\n",
        "print(\"Q1:\", unique_elements_sorted([4, 2, 5, 2, 3, 1, 4]))  # Output: [1, 2, 3, 4, 5]\n"
      ]
    },
    {
      "cell_type": "markdown",
      "metadata": {
        "id": "UNbmIHunV7eL"
      },
      "source": [
        "Q2\n",
        "Implement a stack class in Python to push an item, to pop an item, and to check if the stack\n",
        "is empty. Provide a usage example in your code that pushes three items (e.g., 1, 2, 3), pops\n",
        "one, and checks if the stack is empty."
      ]
    },
    {
      "cell_type": "code",
      "execution_count": 33,
      "metadata": {
        "colab": {
          "base_uri": "https://localhost:8080/"
        },
        "id": "URugIVS8qYdF",
        "outputId": "10deb2b6-5c57-43d5-8242-7fed2b775fe3"
      },
      "outputs": [],
      "source": [
        "class Stack:\n",
        "    def __init__(self):\n",
        "        self.items = []\n",
        "\n",
        "    def push(self, item):       \n",
        "        self.items.append(item)\n",
        "\n",
        "    def pop(self):          \n",
        "        if not self.is_empty():\n",
        "            return self.items.pop()\n",
        "        return None\n",
        "\n",
        "    def is_empty(self):\n",
        "        return len(self.items) == 0"
      ]
    },
    {
      "cell_type": "code",
      "execution_count": 34,
      "metadata": {},
      "outputs": [
        {
          "name": "stdout",
          "output_type": "stream",
          "text": [
            "Popped item: 55\n",
            "Is stack empty? False\n"
          ]
        }
      ],
      "source": [
        "# Test case 1\n",
        "stack = Stack()\n",
        "stack.push(45)\n",
        "stack.push(50)\n",
        "stack.push(55)\n",
        "print(\"Popped item:\", stack.pop())         # Output: 55\n",
        "print(\"Is stack empty?\", stack.is_empty()) # Output: False"
      ]
    },
    {
      "cell_type": "code",
      "execution_count": 35,
      "metadata": {},
      "outputs": [
        {
          "name": "stdout",
          "output_type": "stream",
          "text": [
            "Popped item: 50\n",
            "Is stack empty? True\n"
          ]
        }
      ],
      "source": [
        "# Test case 2\n",
        "stack = Stack()\n",
        "stack.push(50)\n",
        "print(\"Popped item:\", stack.pop())         # Output: 55\n",
        "print(\"Is stack empty?\", stack.is_empty()) # Output: False"
      ]
    },
    {
      "cell_type": "markdown",
      "metadata": {
        "id": "pVRLDLQBWH7z"
      },
      "source": [
        "Q3\n",
        "Write a Python program to create a queue using a list. The code must have the functions to\n",
        "enqueue, dequeue, and display the items in the queue."
      ]
    },
    {
      "cell_type": "code",
      "execution_count": 36,
      "metadata": {
        "colab": {
          "base_uri": "https://localhost:8080/"
        },
        "id": "6eu3wWGOqlOW",
        "outputId": "a982b934-072b-4305-87e7-d2950cbd6eff"
      },
      "outputs": [],
      "source": [
        "# 3. Queue using a list\n",
        "class Queue:\n",
        "    def __init__(self):\n",
        "        self.items = []\n",
        "\n",
        "    def enqueue(self, item):            \n",
        "        self.items.append(item)\n",
        "\n",
        "    def dequeue(self):                  \n",
        "        if not self.is_empty():\n",
        "            return self.items.pop(0)\n",
        "        return None\n",
        "\n",
        "    def is_empty(self):                  \n",
        "        return len(self.items) == 0\n",
        "\n",
        "    def display(self):                  \n",
        "        print(\"Queue:\", self.items)"
      ]
    },
    {
      "cell_type": "code",
      "execution_count": 37,
      "metadata": {},
      "outputs": [
        {
          "name": "stdout",
          "output_type": "stream",
          "text": [
            "Queue: ['Tushar', 'Yuvraj', 'Divesh', 'Akhil']\n",
            "Dequeued: Tushar\n",
            "Queue: ['Yuvraj', 'Divesh', 'Akhil']\n"
          ]
        }
      ],
      "source": [
        "# Test case 1\n",
        "q = Queue()\n",
        "q.enqueue(\"Tushar\")\n",
        "q.enqueue(\"Yuvraj\")\n",
        "q.enqueue(\"Divesh\")\n",
        "q.enqueue(\"Akhil\")\n",
        "q.display()                          # Output: Queue: ['Tushar', 'Yuvraj', 'Divesh', 'Akhil']\n",
        "print(\"Dequeued:\", q.dequeue())      # Output: Dequeued: Tushar\n",
        "q.display()                          # Output: Queue: ['Yuvraj', 'Divesh', 'Akhil']"
      ]
    },
    {
      "cell_type": "code",
      "execution_count": 38,
      "metadata": {},
      "outputs": [
        {
          "name": "stdout",
          "output_type": "stream",
          "text": [
            "Queue: ['Gyanendro ']\n",
            "Dequeued: Gyanendro \n",
            "Queue: []\n"
          ]
        }
      ],
      "source": [
        "# Test case 2\n",
        "q = Queue()\n",
        "q.enqueue(\"Gyanendro \")\n",
        "# q.enqueue(\"B\")\n",
        "# q.enqueue(\"C\")\n",
        "q.display()                          # Output: Queue: ['Gyan']\n",
        "print(\"Dequeued:\", q.dequeue())      # Output: Gyan\n",
        "q.display()                          # Output: Queue: []"
      ]
    },
    {
      "cell_type": "markdown",
      "metadata": {
        "id": "eZUaHHUCWVMJ"
      },
      "source": [
        "Q4\n",
        "Write a Python recursive function to compute the nth Fibonacci number."
      ]
    },
    {
      "cell_type": "code",
      "execution_count": 39,
      "metadata": {
        "colab": {
          "base_uri": "https://localhost:8080/"
        },
        "id": "Y0thdwFEql_7",
        "outputId": "a27e1c16-c781-4424-c1df-5f59afc44547"
      },
      "outputs": [],
      "source": [
        "# 4. Recursive Fibonacci\n",
        "def fibonacci(n):\n",
        "    \"\"\"\n",
        "    Returns the nth Fibonacci number using recursion.\n",
        "    F(0)=0, F(1)=1\n",
        "    \"\"\"\n",
        "    if n <= 0:\n",
        "        return 0\n",
        "    elif n == 1:\n",
        "        return 1\n",
        "    return fibonacci(n-1) + fibonacci(n-2)\n"
      ]
    },
    {
      "cell_type": "code",
      "execution_count": 40,
      "metadata": {},
      "outputs": [
        {
          "name": "stdout",
          "output_type": "stream",
          "text": [
            "9th Fibonacci Number: 34\n"
          ]
        }
      ],
      "source": [
        "# Test case 1\n",
        "print(\"9th Fibonacci Number:\", fibonacci(9)) \n",
        "# Output: 34"
      ]
    },
    {
      "cell_type": "code",
      "execution_count": 41,
      "metadata": {},
      "outputs": [
        {
          "name": "stdout",
          "output_type": "stream",
          "text": [
            "10th Fibonacci Number: 55\n"
          ]
        }
      ],
      "source": [
        "# Test case 2\n",
        "print(\"10th Fibonacci Number:\", fibonacci(10))\n",
        "# Output: 55 "
      ]
    },
    {
      "cell_type": "markdown",
      "metadata": {
        "id": "Cme3CGhCWZNb"
      },
      "source": [
        "Q5\n",
        "Given a dictionary that maps student names to their scores, write a function to return a list of\n",
        "names sorted by scores, from highest to lowest.\n"
      ]
    },
    {
      "cell_type": "code",
      "execution_count": 42,
      "metadata": {
        "colab": {
          "base_uri": "https://localhost:8080/"
        },
        "id": "1Isu3ccpqpIV",
        "outputId": "6388d5bd-32ed-45c1-d4e1-7bdd2c5566a8"
      },
      "outputs": [],
      "source": [
        "def sort_by_score(student_scores):  #Sorts student names based on scores in descending order.\n",
        "    \n",
        "    return sorted(student_scores, key=lambda name: student_scores[name], reverse=True)"
      ]
    },
    {
      "cell_type": "code",
      "execution_count": 43,
      "metadata": {},
      "outputs": [
        {
          "name": "stdout",
          "output_type": "stream",
          "text": [
            "Sorted by scores: ['Ravi', 'Arjun', 'Meena', 'Tina']\n"
          ]
        }
      ],
      "source": [
        "# Test case 1\n",
        "scores = {'Tina': 67, 'Ravi': 92, 'Meena': 74, 'Arjun': 88}\n",
        "print(\"Sorted by scores:\", sort_by_score(scores))\n",
        "# Output: ['Ravi', 'Arjun', 'Meena', 'Tina']"
      ]
    },
    {
      "cell_type": "code",
      "execution_count": 44,
      "metadata": {},
      "outputs": [
        {
          "name": "stdout",
          "output_type": "stream",
          "text": [
            "Sorted by scores: ['Akhil', 'Tushar', 'Divesh', 'Yuvraj']\n"
          ]
        }
      ],
      "source": [
        "# Test case 2\n",
        "scores = {'Tushar': 677, 'Divesh': 592, 'Yuvraj': 174, 'Akhil': 838}\n",
        "print(\"Sorted by scores:\", sort_by_score(scores))\n",
        "# Output: ['Akhil', 'Tushar', 'Divesh', 'Yuvraj']"
      ]
    },
    {
      "cell_type": "markdown",
      "metadata": {
        "id": "nLUsGVigWe3Y"
      },
      "source": [
        "Q6\n",
        "Write a Python function that receives a list of words and returns a dictionary mapping each\n",
        "unique word to the number of times it appears in the list.\n"
      ]
    },
    {
      "cell_type": "code",
      "execution_count": 45,
      "metadata": {
        "colab": {
          "base_uri": "https://localhost:8080/"
        },
        "id": "l2Y2mN3Mqsn7",
        "outputId": "308f9b1c-8677-4964-f012-de4ff3421358"
      },
      "outputs": [],
      "source": [
        "def word_count(words):  #Returns a dictionary with word frequencies.\n",
        "    count_dict = {}\n",
        "    for word in words:\n",
        "        count_dict[word] = count_dict.get(word, 0) + 1\n",
        "    return count_dict"
      ]
    },
    {
      "cell_type": "code",
      "execution_count": 46,
      "metadata": {},
      "outputs": [
        {
          "name": "stdout",
          "output_type": "stream",
          "text": [
            "Word count: {'apple': 3, 'banana': 2, 'orange': 1}\n"
          ]
        }
      ],
      "source": [
        "# Test case 1\n",
        "words_list = [\"apple\", \"banana\", \"apple\", \"orange\", \"banana\", \"apple\"]\n",
        "print(\"Word count:\", word_count(words_list))\n",
        "# Output: {'apple': 3, 'banana': 2, 'orange': 1}"
      ]
    },
    {
      "cell_type": "code",
      "execution_count": 47,
      "metadata": {},
      "outputs": [
        {
          "name": "stdout",
          "output_type": "stream",
          "text": [
            "Word count: {'cat': 3, 'dog': 3, 'bird': 1, 'fish': 1}\n"
          ]
        }
      ],
      "source": [
        "# Test case 2\n",
        "words_list = [\"cat\", \"dog\", \"cat\", \"bird\", \"dog\", \"cat\", \"dog\", \"fish\"]\n",
        "print(\"Word count:\", word_count(words_list))\n",
        "# Output: {'cat': 3, 'dog': 3, 'bird': 1, 'fish': 1}\n"
      ]
    },
    {
      "cell_type": "markdown",
      "metadata": {},
      "source": [
        "Lab-1 Question 1\n"
      ]
    },
    {
      "cell_type": "code",
      "execution_count": null,
      "metadata": {},
      "outputs": [
        {
          "name": "stdout",
          "output_type": "stream",
          "text": [
            "[('Alice', 30), ('Bob', 25), ('John', 25)]\n"
          ]
        }
      ],
      "source": [
        "def sort_by_age_then_name(people):\n",
        "    return sorted(people, key=lambda x: (-x[1], x[0]))\n",
        "# Sample Input\n",
        "input_list = [('John', 25), ('Alice', 30), ('Bob', 25)]\n",
        "\n",
        "# Function Call\n",
        "sorted_list = sort_by_age_then_name(input_list)\n",
        "\n",
        "print(sorted_list)\n"
      ]
    },
    {
      "cell_type": "code",
      "execution_count": null,
      "metadata": {},
      "outputs": [],
      "source": []
    }
  ],
  "metadata": {
    "colab": {
      "provenance": []
    },
    "kernelspec": {
      "display_name": "myenv",
      "language": "python",
      "name": "python3"
    },
    "language_info": {
      "codemirror_mode": {
        "name": "ipython",
        "version": 3
      },
      "file_extension": ".py",
      "mimetype": "text/x-python",
      "name": "python",
      "nbconvert_exporter": "python",
      "pygments_lexer": "ipython3",
      "version": "3.10.18"
    }
  },
  "nbformat": 4,
  "nbformat_minor": 0
}
