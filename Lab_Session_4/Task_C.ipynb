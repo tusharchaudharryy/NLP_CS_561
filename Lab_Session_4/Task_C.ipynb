{
 "cells": [
  {
   "cell_type": "markdown",
   "id": "e9aed84f",
   "metadata": {},
   "source": [
    "# Lab Session 4 - Task C: Visualization\n",
    "\n",
    "1. Setup and Imports "
   ]
  },
  {
   "cell_type": "code",
   "execution_count": 6,
   "id": "a43e7629",
   "metadata": {},
   "outputs": [
    {
     "name": "stdout",
     "output_type": "stream",
     "text": [
      "ERROR: Could not find a required variable: name 'ppmi_matrix' is not defined\n",
      "Please make sure you have run the notebooks for Task A and Task B in this session first.\n"
     ]
    }
   ],
   "source": [
    "import numpy as np\n",
    "import pandas as pd\n",
    "from sklearn.decomposition import PCA\n",
    "from sklearn.manifold import TSNE\n",
    "import plotly.express as px\n",
    "from tqdm.notebook import tqdm\n",
    "\n",
    "try:\n",
    "    _ = ppmi_matrix\n",
    "    _ = svd_matrix\n",
    "    _ = word2vec_embeddings\n",
    "    _ = id_to_word\n",
    "    print(\"Found all necessary variables from previous tasks. Ready to proceed.\")\n",
    "except NameError as e:\n",
    "    print(f\"ERROR: Could not find a required variable: {e}\")\n",
    "    print(\"Please make sure you have run the notebooks for Task A and Task B in this session first.\")"
   ]
  },
  {
   "cell_type": "code",
   "execution_count": 7,
   "id": "c94dada1",
   "metadata": {},
   "outputs": [
    {
     "ename": "NameError",
     "evalue": "name 'id_to_word' is not defined",
     "output_type": "error",
     "traceback": [
      "\u001b[31m---------------------------------------------------------------------------\u001b[39m",
      "\u001b[31mNameError\u001b[39m                                 Traceback (most recent call last)",
      "\u001b[36mCell\u001b[39m\u001b[36m \u001b[39m\u001b[32mIn[7]\u001b[39m\u001b[32m, line 9\u001b[39m\n\u001b[32m      7\u001b[39m \u001b[38;5;66;03m# Assuming id_to_word is ordered by frequency (which it is from our setup)\u001b[39;00m\n\u001b[32m      8\u001b[39m plot_indices = \u001b[38;5;28mlist\u001b[39m(\u001b[38;5;28mrange\u001b[39m(NUM_WORDS_TO_PLOT))\n\u001b[32m----> \u001b[39m\u001b[32m9\u001b[39m plot_words = \u001b[43m[\u001b[49m\u001b[43mid_to_word\u001b[49m\u001b[43m[\u001b[49m\u001b[43mi\u001b[49m\u001b[43m]\u001b[49m\u001b[43m \u001b[49m\u001b[38;5;28;43;01mfor\u001b[39;49;00m\u001b[43m \u001b[49m\u001b[43mi\u001b[49m\u001b[43m \u001b[49m\u001b[38;5;129;43;01min\u001b[39;49;00m\u001b[43m \u001b[49m\u001b[43mplot_indices\u001b[49m\u001b[43m]\u001b[49m\n\u001b[32m     11\u001b[39m \u001b[38;5;66;03m# Get the corresponding vectors from each matrix\u001b[39;00m\n\u001b[32m     12\u001b[39m \u001b[38;5;66;03m# Note: PPMI is a sparse matrix, so we convert it to a dense array first\u001b[39;00m\n\u001b[32m     13\u001b[39m ppmi_vectors_plot = ppmi_matrix[plot_indices, :].toarray()\n",
      "\u001b[36mCell\u001b[39m\u001b[36m \u001b[39m\u001b[32mIn[7]\u001b[39m\u001b[32m, line 9\u001b[39m, in \u001b[36m<listcomp>\u001b[39m\u001b[34m(.0)\u001b[39m\n\u001b[32m      7\u001b[39m \u001b[38;5;66;03m# Assuming id_to_word is ordered by frequency (which it is from our setup)\u001b[39;00m\n\u001b[32m      8\u001b[39m plot_indices = \u001b[38;5;28mlist\u001b[39m(\u001b[38;5;28mrange\u001b[39m(NUM_WORDS_TO_PLOT))\n\u001b[32m----> \u001b[39m\u001b[32m9\u001b[39m plot_words = [\u001b[43mid_to_word\u001b[49m[i] \u001b[38;5;28;01mfor\u001b[39;00m i \u001b[38;5;129;01min\u001b[39;00m plot_indices]\n\u001b[32m     11\u001b[39m \u001b[38;5;66;03m# Get the corresponding vectors from each matrix\u001b[39;00m\n\u001b[32m     12\u001b[39m \u001b[38;5;66;03m# Note: PPMI is a sparse matrix, so we convert it to a dense array first\u001b[39;00m\n\u001b[32m     13\u001b[39m ppmi_vectors_plot = ppmi_matrix[plot_indices, :].toarray()\n",
      "\u001b[31mNameError\u001b[39m: name 'id_to_word' is not defined"
     ]
    }
   ],
   "source": [
    "# === 2. Prepare Data for Visualization ===\n",
    "# Plotting all 10,000 words would be unreadable.\n",
    "# We will select the 750 most frequent words from our vocabulary for a clearer plot.\n",
    "\n",
    "NUM_WORDS_TO_PLOT = 750\n",
    "\n",
    "# Assuming id_to_word is ordered by frequency (which it is from our setup)\n",
    "plot_indices = list(range(NUM_WORDS_TO_PLOT))\n",
    "plot_words = [id_to_word[i] for i in plot_indices]\n",
    "\n",
    "# Get the corresponding vectors from each matrix\n",
    "# Note: PPMI is a sparse matrix, so we convert it to a dense array first\n",
    "ppmi_vectors_plot = ppmi_matrix[plot_indices, :].toarray()\n",
    "svd_vectors_plot = svd_matrix[plot_indices, :]\n",
    "word2vec_vectors_plot = word2vec_embeddings[plot_indices, :]\n",
    "\n",
    "print(f\"Selected {len(plot_words)} most frequent words for visualization.\")"
   ]
  },
  {
   "cell_type": "code",
   "execution_count": 4,
   "id": "21f95e0e",
   "metadata": {},
   "outputs": [
    {
     "name": "stdout",
     "output_type": "stream",
     "text": [
      "Starting dimensionality reduction for all three models...\n"
     ]
    },
    {
     "ename": "ImportError",
     "evalue": "IProgress not found. Please update jupyter and ipywidgets. See https://ipywidgets.readthedocs.io/en/stable/user_install.html",
     "output_type": "error",
     "traceback": [
      "\u001b[31m---------------------------------------------------------------------------\u001b[39m",
      "\u001b[31mImportError\u001b[39m                               Traceback (most recent call last)",
      "\u001b[36mCell\u001b[39m\u001b[36m \u001b[39m\u001b[32mIn[4]\u001b[39m\u001b[32m, line 21\u001b[39m\n\u001b[32m     18\u001b[39m \u001b[38;5;28mprint\u001b[39m(\u001b[33m\"\u001b[39m\u001b[33mStarting dimensionality reduction for all three models...\u001b[39m\u001b[33m\"\u001b[39m)\n\u001b[32m     20\u001b[39m \u001b[38;5;66;03m# This might take a few minutes, especially the t-SNE parts.\u001b[39;00m\n\u001b[32m---> \u001b[39m\u001b[32m21\u001b[39m \u001b[38;5;28;01mwith\u001b[39;00m \u001b[43mtqdm\u001b[49m\u001b[43m(\u001b[49m\u001b[43mtotal\u001b[49m\u001b[43m=\u001b[49m\u001b[32;43m3\u001b[39;49m\u001b[43m,\u001b[49m\u001b[43m \u001b[49m\u001b[43mdesc\u001b[49m\u001b[43m=\u001b[49m\u001b[33;43m\"\u001b[39;49m\u001b[33;43mReducing Dimensions\u001b[39;49m\u001b[33;43m\"\u001b[39;49m\u001b[43m)\u001b[49m \u001b[38;5;28;01mas\u001b[39;00m pbar:\n\u001b[32m     22\u001b[39m     ppmi_pca, ppmi_tsne = reduce_dimensions(ppmi_vectors_plot)\n\u001b[32m     23\u001b[39m     pbar.update(\u001b[32m1\u001b[39m)\n",
      "\u001b[36mFile \u001b[39m\u001b[32mc:\\Users\\Tushar\\anaconda3\\envs\\cs561\\Lib\\site-packages\\tqdm\\notebook.py:234\u001b[39m, in \u001b[36mtqdm_notebook.__init__\u001b[39m\u001b[34m(self, *args, **kwargs)\u001b[39m\n\u001b[32m    232\u001b[39m unit_scale = \u001b[32m1\u001b[39m \u001b[38;5;28;01mif\u001b[39;00m \u001b[38;5;28mself\u001b[39m.unit_scale \u001b[38;5;129;01mis\u001b[39;00m \u001b[38;5;28;01mTrue\u001b[39;00m \u001b[38;5;28;01melse\u001b[39;00m \u001b[38;5;28mself\u001b[39m.unit_scale \u001b[38;5;129;01mor\u001b[39;00m \u001b[32m1\u001b[39m\n\u001b[32m    233\u001b[39m total = \u001b[38;5;28mself\u001b[39m.total * unit_scale \u001b[38;5;28;01mif\u001b[39;00m \u001b[38;5;28mself\u001b[39m.total \u001b[38;5;28;01melse\u001b[39;00m \u001b[38;5;28mself\u001b[39m.total\n\u001b[32m--> \u001b[39m\u001b[32m234\u001b[39m \u001b[38;5;28mself\u001b[39m.container = \u001b[38;5;28;43mself\u001b[39;49m\u001b[43m.\u001b[49m\u001b[43mstatus_printer\u001b[49m\u001b[43m(\u001b[49m\u001b[38;5;28;43mself\u001b[39;49m\u001b[43m.\u001b[49m\u001b[43mfp\u001b[49m\u001b[43m,\u001b[49m\u001b[43m \u001b[49m\u001b[43mtotal\u001b[49m\u001b[43m,\u001b[49m\u001b[43m \u001b[49m\u001b[38;5;28;43mself\u001b[39;49m\u001b[43m.\u001b[49m\u001b[43mdesc\u001b[49m\u001b[43m,\u001b[49m\u001b[43m \u001b[49m\u001b[38;5;28;43mself\u001b[39;49m\u001b[43m.\u001b[49m\u001b[43mncols\u001b[49m\u001b[43m)\u001b[49m\n\u001b[32m    235\u001b[39m \u001b[38;5;28mself\u001b[39m.container.pbar = proxy(\u001b[38;5;28mself\u001b[39m)\n\u001b[32m    236\u001b[39m \u001b[38;5;28mself\u001b[39m.displayed = \u001b[38;5;28;01mFalse\u001b[39;00m\n",
      "\u001b[36mFile \u001b[39m\u001b[32mc:\\Users\\Tushar\\anaconda3\\envs\\cs561\\Lib\\site-packages\\tqdm\\notebook.py:108\u001b[39m, in \u001b[36mtqdm_notebook.status_printer\u001b[39m\u001b[34m(_, total, desc, ncols)\u001b[39m\n\u001b[32m     99\u001b[39m \u001b[38;5;66;03m# Fallback to text bar if there's no total\u001b[39;00m\n\u001b[32m    100\u001b[39m \u001b[38;5;66;03m# DEPRECATED: replaced with an 'info' style bar\u001b[39;00m\n\u001b[32m    101\u001b[39m \u001b[38;5;66;03m# if not total:\u001b[39;00m\n\u001b[32m   (...)\u001b[39m\u001b[32m    105\u001b[39m \n\u001b[32m    106\u001b[39m \u001b[38;5;66;03m# Prepare IPython progress bar\u001b[39;00m\n\u001b[32m    107\u001b[39m \u001b[38;5;28;01mif\u001b[39;00m IProgress \u001b[38;5;129;01mis\u001b[39;00m \u001b[38;5;28;01mNone\u001b[39;00m:  \u001b[38;5;66;03m# #187 #451 #558 #872\u001b[39;00m\n\u001b[32m--> \u001b[39m\u001b[32m108\u001b[39m     \u001b[38;5;28;01mraise\u001b[39;00m \u001b[38;5;167;01mImportError\u001b[39;00m(WARN_NOIPYW)\n\u001b[32m    109\u001b[39m \u001b[38;5;28;01mif\u001b[39;00m total:\n\u001b[32m    110\u001b[39m     pbar = IProgress(\u001b[38;5;28mmin\u001b[39m=\u001b[32m0\u001b[39m, \u001b[38;5;28mmax\u001b[39m=total)\n",
      "\u001b[31mImportError\u001b[39m: IProgress not found. Please update jupyter and ipywidgets. See https://ipywidgets.readthedocs.io/en/stable/user_install.html"
     ]
    }
   ],
   "source": [
    "# === 3. Dimensionality Reduction ===\n",
    "# We will now run both PCA and t-SNE on our subset of vectors from each of the three models.\n",
    "# t-SNE can take a minute or two to run.\n",
    "\n",
    "def reduce_dimensions(vectors, random_state=42):\n",
    "    \"\"\"Reduces dimensions of vectors using both PCA and t-SNE.\"\"\"\n",
    "    # PCA reduction\n",
    "    pca = PCA(n_components=2, random_state=random_state)\n",
    "    vectors_pca = pca.fit_transform(vectors)\n",
    "    \n",
    "    # t-SNE reduction\n",
    "    tsne = TSNE(n_components=2, perplexity=15, random_state=random_state, n_iter=1000)\n",
    "    vectors_tsne = tsne.fit_transform(vectors)\n",
    "    \n",
    "    return vectors_pca, vectors_tsne\n",
    "\n",
    "\n",
    "print(\"Starting dimensionality reduction for all three models...\")\n",
    "\n",
    "# This might take a few minutes, especially the t-SNE parts.\n",
    "with tqdm(total=3, desc=\"Reducing Dimensions\") as pbar:\n",
    "    ppmi_pca, ppmi_tsne = reduce_dimensions(ppmi_vectors_plot)\n",
    "    pbar.update(1)\n",
    "    svd_pca, svd_tsne = reduce_dimensions(svd_vectors_plot)\n",
    "    pbar.update(1)\n",
    "    word2vec_pca, word2vec_tsne = reduce_dimensions(word2vec_vectors_plot)\n",
    "    pbar.update(1)\n",
    "\n",
    "print(\"Dimensionality reduction complete.\")"
   ]
  },
  {
   "cell_type": "code",
   "execution_count": 5,
   "id": "f3a437e8",
   "metadata": {},
   "outputs": [
    {
     "ename": "NameError",
     "evalue": "name 'ppmi_pca' is not defined",
     "output_type": "error",
     "traceback": [
      "\u001b[31m---------------------------------------------------------------------------\u001b[39m",
      "\u001b[31mNameError\u001b[39m                                 Traceback (most recent call last)",
      "\u001b[36mCell\u001b[39m\u001b[36m \u001b[39m\u001b[32mIn[5]\u001b[39m\u001b[32m, line 25\u001b[39m\n\u001b[32m     20\u001b[39m     fig_tsne.show()\n\u001b[32m     23\u001b[39m \u001b[38;5;66;03m# Create DataFrames and plot for each model\u001b[39;00m\n\u001b[32m     24\u001b[39m models_data = {\n\u001b[32m---> \u001b[39m\u001b[32m25\u001b[39m     \u001b[33m'\u001b[39m\u001b[33mPPMI (VSM)\u001b[39m\u001b[33m'\u001b[39m: (\u001b[43mppmi_pca\u001b[49m, ppmi_tsne),\n\u001b[32m     26\u001b[39m     \u001b[33m'\u001b[39m\u001b[33mTruncated SVD\u001b[39m\u001b[33m'\u001b[39m: (svd_pca, svd_tsne),\n\u001b[32m     27\u001b[39m     \u001b[33m'\u001b[39m\u001b[33mWord2Vec\u001b[39m\u001b[33m'\u001b[39m: (word2vec_pca, word2vec_tsne)\n\u001b[32m     28\u001b[39m }\n\u001b[32m     30\u001b[39m \u001b[38;5;28;01mfor\u001b[39;00m model_name, (pca_data, tsne_data) \u001b[38;5;129;01min\u001b[39;00m models_data.items():\n\u001b[32m     31\u001b[39m     df = pd.DataFrame({\n\u001b[32m     32\u001b[39m         \u001b[33m'\u001b[39m\u001b[33mword\u001b[39m\u001b[33m'\u001b[39m: plot_words,\n\u001b[32m     33\u001b[39m         \u001b[33m'\u001b[39m\u001b[33mpca_x\u001b[39m\u001b[33m'\u001b[39m: pca_data[:, \u001b[32m0\u001b[39m],\n\u001b[32m   (...)\u001b[39m\u001b[32m     36\u001b[39m         \u001b[33m'\u001b[39m\u001b[33mtsne_y\u001b[39m\u001b[33m'\u001b[39m: tsne_data[:, \u001b[32m1\u001b[39m]\n\u001b[32m     37\u001b[39m     })\n",
      "\u001b[31mNameError\u001b[39m: name 'ppmi_pca' is not defined"
     ]
    }
   ],
   "source": [
    "# === 4. Create Interactive Plots ===\n",
    "# We will now create a DataFrame to hold all our results\n",
    "# and then generate interactive plots using Plotly.\n",
    "# Hover over the points in the plot to see which word they represent.\n",
    "\n",
    "def create_plots(df, model_name):\n",
    "    \"\"\"Generates PCA and t-SNE plots for a given model.\"\"\"\n",
    "    # PCA Plot\n",
    "    fig_pca = px.scatter(df, x='pca_x', y='pca_y', text='word',\n",
    "                         title=f'PCA Visualization of {model_name} Embeddings')\n",
    "    fig_pca.update_traces(textposition='top center', mode='markers+text', textfont_size=8, marker=dict(size=5))\n",
    "    fig_pca.update_layout(height=800, width=800, showlegend=False)\n",
    "    fig_pca.show()\n",
    "    \n",
    "    # t-SNE Plot\n",
    "    fig_tsne = px.scatter(df, x='tsne_x', y='tsne_y', text='word',\n",
    "                          title=f't-SNE Visualization of {model_name} Embeddings')\n",
    "    fig_tsne.update_traces(textposition='top center', mode='markers+text', textfont_size=8, marker=dict(size=5))\n",
    "    fig_tsne.update_layout(height=800, width=800, showlegend=False)\n",
    "    fig_tsne.show()\n",
    "\n",
    "\n",
    "# Create DataFrames and plot for each model\n",
    "models_data = {\n",
    "    'PPMI (VSM)': (ppmi_pca, ppmi_tsne),\n",
    "    'Truncated SVD': (svd_pca, svd_tsne),\n",
    "    'Word2Vec': (word2vec_pca, word2vec_tsne)\n",
    "}\n",
    "\n",
    "for model_name, (pca_data, tsne_data) in models_data.items():\n",
    "    df = pd.DataFrame({\n",
    "        'word': plot_words,\n",
    "        'pca_x': pca_data[:, 0],\n",
    "        'pca_y': pca_data[:, 1],\n",
    "        'tsne_x': tsne_data[:, 0],\n",
    "        'tsne_y': tsne_data[:, 1]\n",
    "    })\n",
    "    create_plots(df, model_name)\n"
   ]
  },
  {
   "cell_type": "markdown",
   "id": "4986043e",
   "metadata": {},
   "source": [
    " === 5. How to Interpret the Plots ===\n",
    "\n",
    "#As you explore the interactive plots, here are some things to look for to compare the models:\n",
    "\n",
    "#* Semantic Clustering: Look for meaningful groups of words.\n",
    "  Do you see clusters for countries, names, technologies, or sports terms?\n",
    "  A good model should place semantically similar words close to each other.\n",
    "\n",
    "* Model Comparison: How do these clusters compare across the three models (PPMI, SVD, Word2Vec)?\n",
    "  Often, SVD and Word2Vec will show more defined and coherent clusters than the raw PPMI matrix.\n",
    "\n",
    "* PCA vs. t-SNE:\n",
    " - PCA is a linear projection that tries to preserve the global variance in the data.\n",
    "    You might see broad themes or directions in the PCA plot.\n",
    "  - t-SNE is a non-linear technique that focuses on preserving the local neighborhood of each point.\n",
    "   It is excellent at revealing fine-grained clusters but can sometimes create a false sense of separation between clusters.\n",
    " By comparing these visualizations, you can gain a more intuitive understanding of the conceptual differences\n",
    "#between these powerful word representation techniques.\n"
   ]
  },
  {
   "cell_type": "code",
   "execution_count": null,
   "id": "37ab7bd5",
   "metadata": {},
   "outputs": [],
   "source": []
  }
 ],
 "metadata": {
  "kernelspec": {
   "display_name": "cs561",
   "language": "python",
   "name": "python3"
  },
  "language_info": {
   "codemirror_mode": {
    "name": "ipython",
    "version": 3
   },
   "file_extension": ".py",
   "mimetype": "text/x-python",
   "name": "python",
   "nbconvert_exporter": "python",
   "pygments_lexer": "ipython3",
   "version": "3.11.13"
  }
 },
 "nbformat": 4,
 "nbformat_minor": 5
}
