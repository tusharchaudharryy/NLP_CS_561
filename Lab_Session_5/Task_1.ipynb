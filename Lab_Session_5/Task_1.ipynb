{
 "cells": [
  {
   "cell_type": "code",
   "execution_count": null,
   "id": "4eaaa592",
   "metadata": {},
   "outputs": [
    {
     "name": "stdout",
     "output_type": "stream",
     "text": [
      "\n",
      "Libraries imported and configuration set.\n"
     ]
    }
   ],
   "source": [
    "import os\n",
    "import re\n",
    "import string\n",
    "from collections import Counter\n",
    "\n",
    "import numpy as np\n",
    "import pandas as pd\n",
    "from scipy.sparse import lil_matrix, csr_matrix\n",
    "from sklearn.decomposition import TruncatedSVD, PCA\n",
    "from sklearn.manifold import TSNE\n",
    "from sklearn.metrics.pairwise import cosine_similarity\n",
    "\n",
    "# PyTorch for neural network models\n",
    "import torch\n",
    "import torch.nn as nn\n",
    "import torch.optim as optim\n",
    "from torch.utils.data import Dataset, DataLoader\n",
    "\n",
    "# NLTK for natural language processing tasks\n",
    "import nltk\n",
    "try:\n",
    "    nltk.data.find('tokenizers/punkt')\n",
    "    nltk.data.find('corpora/stopwords')\n",
    "except nltk.downloader.DownloadError:\n",
    "    nltk.download('punkt')\n",
    "    nltk.download('stopwords')\n",
    "from nltk.corpus import stopwords\n",
    "from nltk.tokenize import word_tokenize\n",
    "\n",
    "# Plotly for interactive visualizations\n",
    "import plotly.express as px\n",
    "\n",
    "# tqdm for progress bars\n",
    "from tqdm.notebook import tqdm\n",
    "\n",
    "# --- Configuration ---\n",
    "DATASET_PATH = 'bbc'\n",
    "VOCAB_SIZE = 10000\n",
    "MIN_WORD_COUNT = 5\n",
    "WINDOW_SIZE = 5       # K=5\n",
    "SVD_DIMS = 300        # d=300\n",
    "W2V_DIMS = 300        # d=300\n",
    "RANDOM_SEED = 42\n",
    "\n",
    "# --- Set seeds for reproducibility ---\n",
    "np.random.seed(RANDOM_SEED)\n",
    "torch.manual_seed(RANDOM_SEED)\n",
    "\n",
    "print(\"\\nLibraries imported and configuration set.\")"
   ]
  },
  {
   "cell_type": "code",
   "execution_count": 2,
   "id": "428fd29e",
   "metadata": {},
   "outputs": [
    {
     "name": "stdout",
     "output_type": "stream",
     "text": [
      "Preprocessing functions defined.\n"
     ]
    }
   ],
   "source": [
    "def load_data(path):\n",
    "    \"\"\"Loads text documents from the BBC dataset directory.\"\"\"\n",
    "    texts = []\n",
    "    for category in os.listdir(path):\n",
    "        category_path = os.path.join(path, category)\n",
    "        if os.path.isdir(category_path):\n",
    "            # Loop through each .txt file in the category folder\n",
    "            for filename in os.listdir(category_path):\n",
    "                if filename.endswith('.txt'):\n",
    "                    with open(os.path.join(category_path, filename), 'r', encoding='latin-1') as f:\n",
    "                        texts.append(f.read())\n",
    "    return texts\n",
    "\n",
    "def preprocess(texts):\n",
    "    \"\"\"Cleans and tokenizes a list of text documents.\"\"\"\n",
    "    print(\"Preprocessing documents...\")\n",
    "    stop_words = set(stopwords.words('english'))\n",
    "    tokenized_corpus = []\n",
    "    for doc in texts:\n",
    "        # Lowercase, remove punctuation and numbers\n",
    "        doc = doc.lower()\n",
    "        doc = re.sub(f'[{re.escape(string.punctuation)}]', '', doc)\n",
    "        doc = re.sub(r'\\d+', '', doc)\n",
    "        tokens = word_tokenize(doc)\n",
    "        tokens = [word for word in tokens if word not in stop_words and len(word) > 2]\n",
    "        tokenized_corpus.append(tokens)\n",
    "    print(\"Preprocessing complete.\")\n",
    "    return tokenized_corpus\n",
    "\n",
    "def build_vocabulary(corpus):\n",
    "    \"\"\"Builds vocabulary and word-to-index mappings.\"\"\"\n",
    "    print(\"Building vocabulary...\")\n",
    "    word_counts = Counter(word for doc in corpus for word in doc)\n",
    "    \n",
    "    # Get a sorted list of (word, count) tuples that meet the minimum count requirement\n",
    "    sorted_and_filtered = [item for item in word_counts.most_common() if item[1] >= MIN_WORD_COUNT]\n",
    "    \n",
    "    # Create the vocabulary by taking the word from the top N items in the filtered list\n",
    "    vocabulary = [word for word, count in sorted_and_filtered[:VOCAB_SIZE]]\n",
    "    \n",
    "    # Create word-to-index mappings\n",
    "    word_to_idx = {word: i for i, word in enumerate(vocabulary)}\n",
    "    idx_to_word = {i: word for i, word in enumerate(vocabulary)}\n",
    "    print(\"Vocabulary built.\")\n",
    "    return vocabulary, word_to_idx, idx_to_word\n",
    "\n",
    "print(\"Preprocessing functions defined.\")"
   ]
  },
  {
   "cell_type": "code",
   "execution_count": 3,
   "id": "d3673199",
   "metadata": {},
   "outputs": [
    {
     "name": "stdout",
     "output_type": "stream",
     "text": [
      "--- Starting Data Preparation ---\n",
      "Preprocessing documents...\n",
      "Preprocessing complete.\n",
      "Building vocabulary...\n",
      "Vocabulary built.\n",
      "\n",
      "Data preparation complete. Vocabulary size: 10000\n"
     ]
    }
   ],
   "source": [
    "print(\"--- Starting Data Preparation ---\")\n",
    "docs = load_data(DATASET_PATH)\n",
    "tokenized_corpus = preprocess(docs)\n",
    "vocabulary, word_to_idx, idx_to_word = build_vocabulary(tokenized_corpus)\n",
    "print(f\"\\nData preparation complete. Vocabulary size: {len(vocabulary)}\")"
   ]
  },
  {
   "cell_type": "code",
   "execution_count": 4,
   "id": "99123287",
   "metadata": {},
   "outputs": [
    {
     "name": "stdout",
     "output_type": "stream",
     "text": [
      " VSM & SVD helper functions defined.\n"
     ]
    }
   ],
   "source": [
    "def build_cooccurrence_matrix(corpus, word_to_idx, window_size=5):\n",
    "    \"\"\"Builds a word-word co-occurrence matrix.\"\"\"\n",
    "    vocab_size = len(word_to_idx)\n",
    "    cooc_matrix = lil_matrix((vocab_size, vocab_size), dtype=np.float32)\n",
    "    \n",
    "    print(\"Building co-occurrence matrix (this may take a moment)...\")\n",
    "    for doc in corpus:\n",
    "        doc_indices = [word_to_idx[word] for word in doc if word in word_to_idx]\n",
    "        for i, target_idx in enumerate(doc_indices):\n",
    "            start = max(0, i - window_size)\n",
    "            end = min(len(doc_indices), i + window_size + 1)\n",
    "            for j in range(start, end):\n",
    "                if i != j:\n",
    "                    context_idx = doc_indices[j]\n",
    "                    cooc_matrix[target_idx, context_idx] += 1\n",
    "    \n",
    "    print(\"Co-occurrence matrix built.\")\n",
    "    return cooc_matrix.tocsr() \n",
    "\n",
    "def calculate_ppmi(cooc_matrix):\n",
    "    \"\"\"Calculates the Positive Pointwise Mutual Information (PPMI) matrix.\"\"\"\n",
    "    total_cooccurrences = cooc_matrix.sum()\n",
    "    word_counts = np.array(cooc_matrix.sum(axis=1)).flatten()\n",
    "    word_counts[word_counts == 0] = 1\n",
    "    p_w_c = cooc_matrix / total_cooccurrences\n",
    "    p_w = word_counts / total_cooccurrences\n",
    "    pmi = np.log2(p_w_c.toarray() / (p_w[:, None] * p_w[None, :]) + 1e-9) \n",
    "    ppmi_matrix = np.maximum(0, pmi) # This step ensures it's Positive PMI\n",
    "    \n",
    "    return csr_matrix(ppmi_matrix)\n",
    "\n",
    "def get_most_similar(query_word, word_vectors, word_to_idx, idx_to_word, top_n=5):\n",
    "    if query_word not in word_to_idx:\n",
    "        return [f\"'{query_word}' not in vocabulary\"] * top_n\n",
    "        \n",
    "    query_idx = word_to_idx[query_word]\n",
    "    query_vector = word_vectors[query_idx].reshape(1, -1)\n",
    "    \n",
    "    similarities = cosine_similarity(query_vector, word_vectors).flatten()\n",
    "    top_indices = np.argsort(-similarities)[1:top_n+1]\n",
    "    \n",
    "    return [idx_to_word[i] for i in top_indices]\n",
    "\n",
    "print(\" VSM & SVD helper functions defined.\")"
   ]
  },
  {
   "cell_type": "code",
   "execution_count": 5,
   "id": "0ad13691",
   "metadata": {},
   "outputs": [
    {
     "name": "stdout",
     "output_type": "stream",
     "text": [
      "--- Starting Task A: VSM & SVD Execution ---\n",
      "Building co-occurrence matrix...\n",
      "Building co-occurrence matrix (this may take a moment)...\n",
      "Co-occurrence matrix built.\n",
      "\n",
      "Calculating PPMI matrix...\n",
      "Final PPMI matrix dimensions: (10000, 10000)\n",
      "\n",
      "Applying Truncated SVD...\n",
      "SVD-reduced matrix dimensions: (10000, 300)\n",
      "\n",
      " Task A models are ready.\n"
     ]
    }
   ],
   "source": [
    "print(\"--- Starting Task A: VSM & SVD Execution ---\")\n",
    "print(\"Building co-occurrence matrix...\")\n",
    "cooc_matrix = build_cooccurrence_matrix(tokenized_corpus, word_to_idx, window_size=WINDOW_SIZE)\n",
    "\n",
    "print(\"\\nCalculating PPMI matrix...\")\n",
    "ppmi_matrix = calculate_ppmi(cooc_matrix)\n",
    "print(f\"Final PPMI matrix dimensions: {ppmi_matrix.shape}\")\n",
    "\n",
    "print(\"\\nApplying Truncated SVD...\")\n",
    "svd = TruncatedSVD(n_components=SVD_DIMS, random_state=RANDOM_SEED)\n",
    "svd_vectors = svd.fit_transform(ppmi_matrix)\n",
    "print(f\"SVD-reduced matrix dimensions: {svd_vectors.shape}\")\n",
    "\n",
    "print(\"\\n Task A models are ready.\")"
   ]
  },
  {
   "cell_type": "code",
   "execution_count": 6,
   "id": "741eb311",
   "metadata": {},
   "outputs": [
    {
     "name": "stdout",
     "output_type": "stream",
     "text": [
      "--- VSM vs. SVD Similarity Results ---\n"
     ]
    },
    {
     "data": {
      "text/html": [
       "<div>\n",
       "<style scoped>\n",
       "    .dataframe tbody tr th:only-of-type {\n",
       "        vertical-align: middle;\n",
       "    }\n",
       "\n",
       "    .dataframe tbody tr th {\n",
       "        vertical-align: top;\n",
       "    }\n",
       "\n",
       "    .dataframe thead th {\n",
       "        text-align: right;\n",
       "    }\n",
       "</style>\n",
       "<table border=\"1\" class=\"dataframe\">\n",
       "  <thead>\n",
       "    <tr style=\"text-align: right;\">\n",
       "      <th></th>\n",
       "      <th>Query Word</th>\n",
       "      <th>Top 5 (VSM - PPMI)</th>\n",
       "      <th>Top 5 (SVD)</th>\n",
       "    </tr>\n",
       "  </thead>\n",
       "  <tbody>\n",
       "    <tr>\n",
       "      <th>0</th>\n",
       "      <td>market</td>\n",
       "      <td>stock, housing, growth, prices, sales</td>\n",
       "      <td>stock, share, analysts, growth, prices</td>\n",
       "    </tr>\n",
       "    <tr>\n",
       "      <th>1</th>\n",
       "      <td>film</td>\n",
       "      <td>best, awards, actress, director, actor</td>\n",
       "      <td>films, movie, best, actress, director</td>\n",
       "    </tr>\n",
       "    <tr>\n",
       "      <th>2</th>\n",
       "      <td>election</td>\n",
       "      <td>general, labour, campaign, blair, party</td>\n",
       "      <td>labour, general, partys, labours, campaign</td>\n",
       "    </tr>\n",
       "    <tr>\n",
       "      <th>3</th>\n",
       "      <td>game</td>\n",
       "      <td>games, play, players, match, playing</td>\n",
       "      <td>play, games, playing, players, first</td>\n",
       "    </tr>\n",
       "    <tr>\n",
       "      <th>4</th>\n",
       "      <td>software</td>\n",
       "      <td>microsoft, programs, users, antivirus, windows</td>\n",
       "      <td>programs, microsoft, windows, users, program</td>\n",
       "    </tr>\n",
       "  </tbody>\n",
       "</table>\n",
       "</div>"
      ],
      "text/plain": [
       "  Query Word                              Top 5 (VSM - PPMI)  \\\n",
       "0     market           stock, housing, growth, prices, sales   \n",
       "1       film          best, awards, actress, director, actor   \n",
       "2   election         general, labour, campaign, blair, party   \n",
       "3       game            games, play, players, match, playing   \n",
       "4   software  microsoft, programs, users, antivirus, windows   \n",
       "\n",
       "                                    Top 5 (SVD)  \n",
       "0        stock, share, analysts, growth, prices  \n",
       "1         films, movie, best, actress, director  \n",
       "2    labour, general, partys, labours, campaign  \n",
       "3          play, games, playing, players, first  \n",
       "4  programs, microsoft, windows, users, program  "
      ]
     },
     "metadata": {},
     "output_type": "display_data"
    }
   ],
   "source": [
    "query_words = ['market', 'film', 'election', 'game', 'software']\n",
    "results_data = []\n",
    "\n",
    "for word in query_words:\n",
    "    vsm_sim = get_most_similar(word, ppmi_matrix, word_to_idx, idx_to_word)\n",
    "    svd_sim = get_most_similar(word, svd_vectors, word_to_idx, idx_to_word)\n",
    "    results_data.append({\n",
    "        \"Query Word\": word,\n",
    "        \"Top 5 (VSM - PPMI)\": ', '.join(vsm_sim),\n",
    "        \"Top 5 (SVD)\": ', '.join(svd_sim)\n",
    "    })\n",
    "results_df_A = pd.DataFrame(results_data)\n",
    "print(\"--- VSM vs. SVD Similarity Results ---\")\n",
    "display(results_df_A)"
   ]
  },
  {
   "cell_type": "code",
   "execution_count": 7,
   "id": "44141d29",
   "metadata": {},
   "outputs": [
    {
     "name": "stdout",
     "output_type": "stream",
     "text": [
      "Word2Vec Model and Dataset classes defined.\n"
     ]
    }
   ],
   "source": [
    "class Word2VecDataset(Dataset):\n",
    "    \"\"\"PyTorch Dataset for generating skip-gram pairs and negative samples.\"\"\"\n",
    "    def __init__(self, corpus, word_to_idx, word_counts, window_size=5, num_neg_samples=5):\n",
    "        self.data = []\n",
    "        self.num_neg_samples = num_neg_samples\n",
    "        \n",
    "        freq = np.array([word_counts[word] for word in vocabulary])**0.75\n",
    "        self.sampling_dist = freq / freq.sum()\n",
    "        \n",
    "        print(\"Creating Skip-gram dataset (this might take a minute)...\")\n",
    "\n",
    "        for doc in corpus:\n",
    "            doc_indices = [word_to_idx[word] for word in doc if word in word_to_idx]\n",
    "            for i, target_word_idx in enumerate(doc_indices):\n",
    "                start = max(0, i - window_size)\n",
    "                end = min(len(doc_indices), i + window_size + 1)\n",
    "                for j in range(start, end):\n",
    "                    if i != j:\n",
    "                        context_word_idx = doc_indices[j]\n",
    "                        self.data.append((target_word_idx, context_word_idx))\n",
    "        print(\"Dataset creation complete.\")\n",
    "\n",
    "    def __len__(self):\n",
    "        return len(self.data)\n",
    "\n",
    "    def __getitem__(self, idx):\n",
    "        target, context = self.data[idx]\n",
    "        # Draw negative samples from the frequency distribution\n",
    "        neg_samples = np.random.choice(\n",
    "            len(self.sampling_dist),\n",
    "            size=self.num_neg_samples,\n",
    "            p=self.sampling_dist\n",
    "        )\n",
    "        return torch.tensor(target), torch.tensor(context), torch.from_numpy(neg_samples)\n",
    "\n",
    "class SkipGramNegativeSampling(nn.Module):\n",
    "    \"\"\"PyTorch implementation of Skip-gram with Negative Sampling.\"\"\"\n",
    "    def __init__(self, vocab_size, embed_dim):\n",
    "        super(SkipGramNegativeSampling, self).__init__()\n",
    "        self.target_embeddings = nn.Embedding(vocab_size, embed_dim)\n",
    "        self.context_embeddings = nn.Embedding(vocab_size, embed_dim)\n",
    "        self.init_embeds()\n",
    "\n",
    "    def init_embeds(self):\n",
    "        # Initialize embeddings with a uniform distribution\n",
    "        initrange = 0.5 / self.target_embeddings.embedding_dim\n",
    "        self.target_embeddings.weight.data.uniform_(-initrange, initrange)\n",
    "        self.context_embeddings.weight.data.uniform_(-0, 0) # Context vectors initialized to zero\n",
    "\n",
    "    def forward(self, target, context, neg_samples):\n",
    "        target_embed = self.target_embeddings(target)\n",
    "        context_embed = self.context_embeddings(context)\n",
    "        neg_embed = self.context_embeddings(neg_samples)\n",
    "\n",
    "        # Positive score (dot product between target and true context)\n",
    "        pos_score = torch.sum(target_embed * context_embed, dim=1)\n",
    "        pos_loss = -torch.nn.functional.logsigmoid(pos_score).mean()\n",
    "\n",
    "        # Negative score (dot products between target and negative samples)\n",
    "        neg_score = torch.bmm(neg_embed, target_embed.unsqueeze(2)).squeeze()\n",
    "        neg_loss = -torch.nn.functional.logsigmoid(-neg_score).mean()\n",
    "\n",
    "        return pos_loss + neg_loss\n",
    "\n",
    "print(\"Word2Vec Model and Dataset classes defined.\")"
   ]
  },
  {
   "cell_type": "code",
   "execution_count": 8,
   "id": "32385611",
   "metadata": {},
   "outputs": [
    {
     "name": "stdout",
     "output_type": "stream",
     "text": [
      "--- Starting Task B: Word2Vec Training ---\n",
      "Creating Skip-gram dataset (this might take a minute)...\n",
      "Dataset creation complete.\n",
      "Starting model training...\n",
      "Epoch 1, Loss: 1.2512\n",
      "Epoch 2, Loss: 1.0957\n",
      "Epoch 3, Loss: 1.0230\n",
      "Epoch 4, Loss: 0.9925\n",
      "Epoch 5, Loss: 0.9758\n",
      "Epoch 6, Loss: 0.9657\n",
      "Epoch 7, Loss: 0.9597\n",
      "Epoch 8, Loss: 0.9552\n",
      "Epoch 9, Loss: 0.9515\n",
      "Epoch 10, Loss: 0.9496\n",
      "Epoch 11, Loss: 0.9480\n",
      "Epoch 12, Loss: 0.9458\n",
      "Epoch 13, Loss: 0.9457\n",
      "Epoch 14, Loss: 0.9447\n",
      "Epoch 15, Loss: 0.9437\n",
      "Epoch 16, Loss: 0.9436\n",
      "Epoch 17, Loss: 0.9432\n",
      "Epoch 18, Loss: 0.9431\n",
      "Epoch 19, Loss: 0.9428\n",
      "Epoch 20, Loss: 0.9432\n",
      "Epoch 21, Loss: 0.9422\n",
      "Epoch 22, Loss: 0.9423\n",
      "Epoch 23, Loss: 0.9428\n",
      "Epoch 24, Loss: 0.9419\n",
      "Epoch 25, Loss: 0.9427\n",
      "Epoch 26, Loss: 0.9426\n",
      "Epoch 27, Loss: 0.9425\n",
      "Epoch 28, Loss: 0.9427\n",
      "Epoch 29, Loss: 0.9430\n",
      "Epoch 30, Loss: 0.9425\n",
      "Epoch 31, Loss: 0.9431\n",
      "Epoch 32, Loss: 0.9426\n",
      "Epoch 33, Loss: 0.9427\n",
      "Epoch 34, Loss: 0.9430\n",
      "Epoch 35, Loss: 0.9434\n",
      "Epoch 36, Loss: 0.9433\n",
      "Epoch 37, Loss: 0.9432\n",
      "Epoch 38, Loss: 0.9433\n",
      "Epoch 39, Loss: 0.9434\n",
      "Epoch 40, Loss: 0.9434\n",
      "Epoch 41, Loss: 0.9450\n",
      "Epoch 42, Loss: 0.9442\n",
      "Epoch 43, Loss: 0.9443\n",
      "Epoch 44, Loss: 0.9446\n",
      "Epoch 45, Loss: 0.9446\n",
      "Epoch 46, Loss: 0.9451\n",
      "Epoch 47, Loss: 0.9449\n",
      "Epoch 48, Loss: 0.9452\n",
      "Epoch 49, Loss: 0.9454\n",
      "Epoch 50, Loss: 0.9450\n",
      "\n",
      " Word2Vec model training complete.\n"
     ]
    }
   ],
   "source": [
    "print(\"--- Starting Task B: Word2Vec Training ---\")\n",
    "\n",
    "# Get word counts needed for negative sampling distribution\n",
    "full_word_counts = Counter(word for doc in tokenized_corpus for word in doc)\n",
    "\n",
    "# Create dataset and dataloader\n",
    "dataset = Word2VecDataset(\n",
    "    tokenized_corpus, word_to_idx, full_word_counts, window_size=WINDOW_SIZE\n",
    ")\n",
    "dataloader = DataLoader(dataset, batch_size=1024, shuffle=True)\n",
    "\n",
    "# Initialize model and optimizer\n",
    "model = SkipGramNegativeSampling(vocab_size=len(vocabulary), embed_dim=W2V_DIMS)\n",
    "optimizer = optim.Adam(model.parameters(), lr=0.005)\n",
    "\n",
    "# Training loop\n",
    "num_epochs = 50\n",
    "model.train()\n",
    "print(\"Starting model training...\")\n",
    "for epoch in range(num_epochs):\n",
    "    total_loss = 0\n",
    "    # --- MODIFIED LINE: Removed tqdm wrapper from dataloader ---\n",
    "    for target, context, neg_samples in dataloader:\n",
    "        optimizer.zero_grad()\n",
    "        loss = model(target, context, neg_samples)\n",
    "        loss.backward()\n",
    "        optimizer.step()\n",
    "        total_loss += loss.item()\n",
    "    print(f\"Epoch {epoch+1}, Loss: {total_loss / len(dataloader):.4f}\")\n",
    "\n",
    "w2v_vectors = model.target_embeddings.weight.data.cpu().numpy()\n",
    "print(\"\\n Word2Vec model training complete.\")"
   ]
  },
  {
   "cell_type": "code",
   "execution_count": 9,
   "id": "50522f27",
   "metadata": {},
   "outputs": [
    {
     "name": "stdout",
     "output_type": "stream",
     "text": [
      "--- Final Word Similarity Comparison ---\n"
     ]
    },
    {
     "data": {
      "text/html": [
       "<div>\n",
       "<style scoped>\n",
       "    .dataframe tbody tr th:only-of-type {\n",
       "        vertical-align: middle;\n",
       "    }\n",
       "\n",
       "    .dataframe tbody tr th {\n",
       "        vertical-align: top;\n",
       "    }\n",
       "\n",
       "    .dataframe thead th {\n",
       "        text-align: right;\n",
       "    }\n",
       "</style>\n",
       "<table border=\"1\" class=\"dataframe\">\n",
       "  <thead>\n",
       "    <tr style=\"text-align: right;\">\n",
       "      <th></th>\n",
       "      <th>Query Word</th>\n",
       "      <th>Top 5 (VSM - PPMI)</th>\n",
       "      <th>Top 5 (SVD)</th>\n",
       "      <th>Top 5 (Word2Vec)</th>\n",
       "    </tr>\n",
       "  </thead>\n",
       "  <tbody>\n",
       "    <tr>\n",
       "      <th>0</th>\n",
       "      <td>market</td>\n",
       "      <td>stock, housing, growth, prices, sales</td>\n",
       "      <td>stock, share, analysts, growth, prices</td>\n",
       "      <td>stock, shares, value, detroit, housing</td>\n",
       "    </tr>\n",
       "    <tr>\n",
       "      <th>1</th>\n",
       "      <td>film</td>\n",
       "      <td>best, awards, actress, director, actor</td>\n",
       "      <td>films, movie, best, actress, director</td>\n",
       "      <td>movie, awards, festival, oscar, aviator</td>\n",
       "    </tr>\n",
       "    <tr>\n",
       "      <th>2</th>\n",
       "      <td>election</td>\n",
       "      <td>general, labour, campaign, blair, party</td>\n",
       "      <td>labour, general, partys, labours, campaign</td>\n",
       "      <td>general, labour, party, blair, campaign</td>\n",
       "    </tr>\n",
       "    <tr>\n",
       "      <th>3</th>\n",
       "      <td>game</td>\n",
       "      <td>games, play, players, match, playing</td>\n",
       "      <td>play, games, playing, players, first</td>\n",
       "      <td>games, players, played, match, play</td>\n",
       "    </tr>\n",
       "    <tr>\n",
       "      <th>4</th>\n",
       "      <td>software</td>\n",
       "      <td>microsoft, programs, users, antivirus, windows</td>\n",
       "      <td>programs, microsoft, windows, users, program</td>\n",
       "      <td>programs, microsoft, antivirus, patent, linux</td>\n",
       "    </tr>\n",
       "  </tbody>\n",
       "</table>\n",
       "</div>"
      ],
      "text/plain": [
       "  Query Word                              Top 5 (VSM - PPMI)  \\\n",
       "0     market           stock, housing, growth, prices, sales   \n",
       "1       film          best, awards, actress, director, actor   \n",
       "2   election         general, labour, campaign, blair, party   \n",
       "3       game            games, play, players, match, playing   \n",
       "4   software  microsoft, programs, users, antivirus, windows   \n",
       "\n",
       "                                    Top 5 (SVD)  \\\n",
       "0        stock, share, analysts, growth, prices   \n",
       "1         films, movie, best, actress, director   \n",
       "2    labour, general, partys, labours, campaign   \n",
       "3          play, games, playing, players, first   \n",
       "4  programs, microsoft, windows, users, program   \n",
       "\n",
       "                                Top 5 (Word2Vec)  \n",
       "0         stock, shares, value, detroit, housing  \n",
       "1        movie, awards, festival, oscar, aviator  \n",
       "2        general, labour, party, blair, campaign  \n",
       "3            games, players, played, match, play  \n",
       "4  programs, microsoft, antivirus, patent, linux  "
      ]
     },
     "metadata": {},
     "output_type": "display_data"
    },
    {
     "name": "stdout",
     "output_type": "stream",
     "text": [
      "\n",
      "--- Word Analogy Tasks (Word2Vec) ---\n",
      "'business' is to 'profit' as 'politics' is to ---> 'carlsberg'\n",
      "'britain' is to 'london' as 'france' is to ---> 'achilles'\n",
      "'sport' is to 'football' as 'tech' is to ---> 'talents'\n",
      "'minister' is to 'government' as 'player' is to ---> 'cord'\n",
      "'movie' is to 'entertainment' as 'computer' is to ---> 'sina'\n"
     ]
    }
   ],
   "source": [
    "def solve_analogy(w1, w2, w3, word_vectors, word_to_idx, idx_to_word):\n",
    "    \"\"\"Solves word analogy: w1 is to w2 as w3 is to ?\"\"\"\n",
    "    if not all(w in word_to_idx for w in [w1, w2, w3]):\n",
    "        return \"One or more words not in vocabulary.\"\n",
    "\n",
    "    vec1 = word_vectors[word_to_idx[w1]]\n",
    "    vec2 = word_vectors[word_to_idx[w2]]\n",
    "    vec3 = word_vectors[word_to_idx[w3]]\n",
    "\n",
    "    analogy_vec = vec2 - vec1 + vec3\n",
    "    similarities = cosine_similarity(analogy_vec.reshape(1, -1), word_vectors).flatten()\n",
    "    \n",
    "    # Exclude query words from results\n",
    "    for w in [w1, w2, w3]:\n",
    "        similarities[word_to_idx[w]] = -np.inf\n",
    "        \n",
    "    # Find the single best answer\n",
    "    answer_idx = np.argmax(similarities)\n",
    "    return idx_to_word[answer_idx]\n",
    "\n",
    "# --- 1. Final Similarity Comparison ---\n",
    "print(\"--- Final Word Similarity Comparison ---\")\n",
    "w2v_sim_results = [', '.join(get_most_similar(q, w2v_vectors, word_to_idx, idx_to_word)) for q in query_words]\n",
    "results_df_A['Top 5 (Word2Vec)'] = w2v_sim_results\n",
    "display(results_df_A)\n",
    "\n",
    "# --- 2. Word Analogy Tasks ---\n",
    "print(\"\\n--- Word Analogy Tasks (Word2Vec) ---\")\n",
    "analogies = [\n",
    "    (\"business\", \"profit\", \"politics\"),\n",
    "    (\"britain\", \"london\", \"france\"),\n",
    "    (\"sport\", \"football\", \"tech\"),\n",
    "    (\"minister\", \"government\", \"player\"),\n",
    "    (\"movie\", \"entertainment\", \"computer\")\n",
    "]\n",
    "for w1, w2, w3 in analogies:\n",
    "    answer = solve_analogy(w1, w2, w3, w2v_vectors, word_to_idx, idx_to_word)\n",
    "    print(f\"'{w1}' is to '{w2}' as '{w3}' is to ---> '{answer}'\")"
   ]
  },
  {
   "cell_type": "code",
   "execution_count": 10,
   "id": "11263a80",
   "metadata": {},
   "outputs": [
    {
     "name": "stdout",
     "output_type": "stream",
     "text": [
      "Visualization function defined.\n"
     ]
    }
   ],
   "source": [
    "def visualize_embeddings(vectors, words_to_show, title):\n",
    "    \"\"\"Projects vectors to 2D using PCA and t-SNE and creates interactive plots.\"\"\"\n",
    "    print(f\"\\nCreating visualization: {title}\")\n",
    "    pca = PCA(n_components=2, random_state=RANDOM_SEED)\n",
    "    vectors_2d_pca = pca.fit_transform(vectors)\n",
    "    \n",
    "    fig_pca = px.scatter(\n",
    "        x=vectors_2d_pca[:, 0], y=vectors_2d_pca[:, 1],\n",
    "        hover_name=words_to_show,\n",
    "        title=f\"PCA Visualization - {title}\",\n",
    "        width=800, height=600\n",
    "    )\n",
    "    fig_pca.update_traces(mode='markers')\n",
    "    fig_pca.show()\n",
    "    \n",
    "    # --- t-SNE Visualization ---\n",
    "    tsne = TSNE(n_components=2, random_state=RANDOM_SEED, perplexity=30, max_iter=400)\n",
    "    vectors_2d_tsne = tsne.fit_transform(vectors)\n",
    "\n",
    "    fig_tsne = px.scatter(\n",
    "        x=vectors_2d_tsne[:, 0], y=vectors_2d_tsne[:, 1],\n",
    "        hover_name=words_to_show,\n",
    "        title=f\"t-SNE Visualization - {title}\",\n",
    "        width=800, height=600\n",
    "    )\n",
    "    fig_tsne.update_traces(mode='markers')\n",
    "    fig_tsne.show()\n",
    "\n",
    "print(\"Visualization function defined.\")"
   ]
  },
  {
   "cell_type": "code",
   "execution_count": 11,
   "id": "1382a38a",
   "metadata": {},
   "outputs": [
    {
     "name": "stdout",
     "output_type": "stream",
     "text": [
      "\n",
      "Creating visualization: SVD Embeddings\n"
     ]
    },
    {
     "data": {
      "application/vnd.plotly.v1+json": {
       "config": {
        "plotlyServerURL": "https://plot.ly"
       },
       "data": [
        {
         "hovertemplate": "<b>%{hovertext}</b><br><br>x=%{x}<br>y=%{y}<extra></extra>",
         "hovertext": [
          "said",
          "would",
          "also",
          "new",
          "people",
          "one",
          "year",
          "could",
          "last",
          "first",
          "years",
          "two",
          "time",
          "government",
          "world",
          "make",
          "best",
          "told",
          "get",
          "made",
          "like",
          "film",
          "game",
          "many",
          "music",
          "next",
          "back",
          "three",
          "number",
          "well",
          "take",
          "added",
          "way",
          "bbc",
          "set",
          "says",
          "market",
          "may",
          "labour",
          "home",
          "good",
          "games",
          "going",
          "still",
          "company",
          "election",
          "much",
          "win",
          "since",
          "work",
          "â£m",
          "think",
          "use",
          "say",
          "million",
          "show",
          "part",
          "play",
          "firm",
          "top",
          "want",
          "technology",
          "public",
          "second",
          "see",
          "england",
          "british",
          "week",
          "blair",
          "players",
          "used",
          "party",
          "news",
          "european",
          "minister",
          "however",
          "mobile",
          "sales",
          "even",
          "expected",
          "plans",
          "end",
          "months",
          "five",
          "already",
          "put",
          "group",
          "growth",
          "come",
          "six",
          "chief",
          "service",
          "four",
          "firms",
          "former",
          "economy",
          "services",
          "dont",
          "money",
          "deal",
          "companies",
          "director",
          "net",
          "users",
          "according",
          "help",
          "need",
          "system",
          "digital",
          "record",
          "including",
          "right",
          "industry",
          "tax",
          "big",
          "place",
          "around",
          "international",
          "london",
          "brown",
          "report",
          "day",
          "economic",
          "wales",
          "business",
          "great",
          "really",
          "move",
          "another",
          "software",
          "country",
          "got",
          "future",
          "phone",
          "third",
          "took",
          "open",
          "month",
          "came",
          "bank",
          "start",
          "know",
          "spokesman",
          "team",
          "europe",
          "information",
          "general",
          "hit",
          "better",
          "radio",
          "video",
          "online",
          "without",
          "final",
          "club",
          "high",
          "office",
          "life",
          "despite",
          "decision",
          "howard",
          "law",
          "court",
          "found",
          "far",
          "likely",
          "using",
          "campaign",
          "britain",
          "data",
          "action",
          "seen",
          "prime",
          "figures",
          "â£bn",
          "security",
          "saying",
          "give",
          "media",
          "real",
          "lot",
          "given",
          "awards",
          "national",
          "computer",
          "offer",
          "away",
          "president",
          "nations",
          "called",
          "countries",
          "able",
          "every",
          "executive",
          "lost",
          "oil",
          "united",
          "become",
          "france",
          "foreign",
          "rise",
          "side",
          "times",
          "internet",
          "making",
          "although",
          "cup",
          "long",
          "january",
          "days",
          "state",
          "later",
          "player",
          "whether",
          "taking",
          "past",
          "research",
          "ireland",
          "look",
          "prices",
          "early",
          "december",
          "case",
          "yearold",
          "less",
          "legal",
          "recent",
          "earlier",
          "secretary",
          "star",
          "leader",
          "biggest",
          "playing",
          "analysts",
          "due",
          "spending",
          "michael",
          "interest",
          "bill",
          "lord",
          "house",
          "films",
          "played",
          "award",
          "role",
          "never",
          "strong",
          "shares",
          "important",
          "current",
          "match",
          "hard",
          "support",
          "went",
          "left",
          "increase",
          "pay",
          "believe",
          "cut",
          "following",
          "local",
          "control",
          "little",
          "major",
          "run",
          "tory",
          "currently",
          "financial",
          "ahead",
          "police",
          "looking",
          "half",
          "issue",
          "change",
          "working",
          "thought",
          "face",
          "return",
          "different",
          "john",
          "latest",
          "rights",
          "held",
          "broadband",
          "cost",
          "david",
          "weeks",
          "something",
          "yet",
          "series",
          "south",
          "among",
          "announced",
          "access",
          "man",
          "chancellor",
          "try",
          "trade",
          "must",
          "line"
         ],
         "legendgroup": "",
         "marker": {
          "color": "#636efa",
          "symbol": "circle"
         },
         "mode": "markers",
         "name": "",
         "orientation": "v",
         "showlegend": false,
         "type": "scatter",
         "x": {
          "bdata": "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",
          "dtype": "f8"
         },
         "xaxis": "x",
         "y": {
          "bdata": "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",
          "dtype": "f8"
         },
         "yaxis": "y"
        }
       ],
       "layout": {
        "height": 600,
        "legend": {
         "tracegroupgap": 0
        },
        "template": {
         "data": {
          "bar": [
           {
            "error_x": {
             "color": "#2a3f5f"
            },
            "error_y": {
             "color": "#2a3f5f"
            },
            "marker": {
             "line": {
              "color": "#E5ECF6",
              "width": 0.5
             },
             "pattern": {
              "fillmode": "overlay",
              "size": 10,
              "solidity": 0.2
             }
            },
            "type": "bar"
           }
          ],
          "barpolar": [
           {
            "marker": {
             "line": {
              "color": "#E5ECF6",
              "width": 0.5
             },
             "pattern": {
              "fillmode": "overlay",
              "size": 10,
              "solidity": 0.2
             }
            },
            "type": "barpolar"
           }
          ],
          "carpet": [
           {
            "aaxis": {
             "endlinecolor": "#2a3f5f",
             "gridcolor": "white",
             "linecolor": "white",
             "minorgridcolor": "white",
             "startlinecolor": "#2a3f5f"
            },
            "baxis": {
             "endlinecolor": "#2a3f5f",
             "gridcolor": "white",
             "linecolor": "white",
             "minorgridcolor": "white",
             "startlinecolor": "#2a3f5f"
            },
            "type": "carpet"
           }
          ],
          "choropleth": [
           {
            "colorbar": {
             "outlinewidth": 0,
             "ticks": ""
            },
            "type": "choropleth"
           }
          ],
          "contour": [
           {
            "colorbar": {
             "outlinewidth": 0,
             "ticks": ""
            },
            "colorscale": [
             [
              0,
              "#0d0887"
             ],
             [
              0.1111111111111111,
              "#46039f"
             ],
             [
              0.2222222222222222,
              "#7201a8"
             ],
             [
              0.3333333333333333,
              "#9c179e"
             ],
             [
              0.4444444444444444,
              "#bd3786"
             ],
             [
              0.5555555555555556,
              "#d8576b"
             ],
             [
              0.6666666666666666,
              "#ed7953"
             ],
             [
              0.7777777777777778,
              "#fb9f3a"
             ],
             [
              0.8888888888888888,
              "#fdca26"
             ],
             [
              1,
              "#f0f921"
             ]
            ],
            "type": "contour"
           }
          ],
          "contourcarpet": [
           {
            "colorbar": {
             "outlinewidth": 0,
             "ticks": ""
            },
            "type": "contourcarpet"
           }
          ],
          "heatmap": [
           {
            "colorbar": {
             "outlinewidth": 0,
             "ticks": ""
            },
            "colorscale": [
             [
              0,
              "#0d0887"
             ],
             [
              0.1111111111111111,
              "#46039f"
             ],
             [
              0.2222222222222222,
              "#7201a8"
             ],
             [
              0.3333333333333333,
              "#9c179e"
             ],
             [
              0.4444444444444444,
              "#bd3786"
             ],
             [
              0.5555555555555556,
              "#d8576b"
             ],
             [
              0.6666666666666666,
              "#ed7953"
             ],
             [
              0.7777777777777778,
              "#fb9f3a"
             ],
             [
              0.8888888888888888,
              "#fdca26"
             ],
             [
              1,
              "#f0f921"
             ]
            ],
            "type": "heatmap"
           }
          ],
          "histogram": [
           {
            "marker": {
             "pattern": {
              "fillmode": "overlay",
              "size": 10,
              "solidity": 0.2
             }
            },
            "type": "histogram"
           }
          ],
          "histogram2d": [
           {
            "colorbar": {
             "outlinewidth": 0,
             "ticks": ""
            },
            "colorscale": [
             [
              0,
              "#0d0887"
             ],
             [
              0.1111111111111111,
              "#46039f"
             ],
             [
              0.2222222222222222,
              "#7201a8"
             ],
             [
              0.3333333333333333,
              "#9c179e"
             ],
             [
              0.4444444444444444,
              "#bd3786"
             ],
             [
              0.5555555555555556,
              "#d8576b"
             ],
             [
              0.6666666666666666,
              "#ed7953"
             ],
             [
              0.7777777777777778,
              "#fb9f3a"
             ],
             [
              0.8888888888888888,
              "#fdca26"
             ],
             [
              1,
              "#f0f921"
             ]
            ],
            "type": "histogram2d"
           }
          ],
          "histogram2dcontour": [
           {
            "colorbar": {
             "outlinewidth": 0,
             "ticks": ""
            },
            "colorscale": [
             [
              0,
              "#0d0887"
             ],
             [
              0.1111111111111111,
              "#46039f"
             ],
             [
              0.2222222222222222,
              "#7201a8"
             ],
             [
              0.3333333333333333,
              "#9c179e"
             ],
             [
              0.4444444444444444,
              "#bd3786"
             ],
             [
              0.5555555555555556,
              "#d8576b"
             ],
             [
              0.6666666666666666,
              "#ed7953"
             ],
             [
              0.7777777777777778,
              "#fb9f3a"
             ],
             [
              0.8888888888888888,
              "#fdca26"
             ],
             [
              1,
              "#f0f921"
             ]
            ],
            "type": "histogram2dcontour"
           }
          ],
          "mesh3d": [
           {
            "colorbar": {
             "outlinewidth": 0,
             "ticks": ""
            },
            "type": "mesh3d"
           }
          ],
          "parcoords": [
           {
            "line": {
             "colorbar": {
              "outlinewidth": 0,
              "ticks": ""
             }
            },
            "type": "parcoords"
           }
          ],
          "pie": [
           {
            "automargin": true,
            "type": "pie"
           }
          ],
          "scatter": [
           {
            "fillpattern": {
             "fillmode": "overlay",
             "size": 10,
             "solidity": 0.2
            },
            "type": "scatter"
           }
          ],
          "scatter3d": [
           {
            "line": {
             "colorbar": {
              "outlinewidth": 0,
              "ticks": ""
             }
            },
            "marker": {
             "colorbar": {
              "outlinewidth": 0,
              "ticks": ""
             }
            },
            "type": "scatter3d"
           }
          ],
          "scattercarpet": [
           {
            "marker": {
             "colorbar": {
              "outlinewidth": 0,
              "ticks": ""
             }
            },
            "type": "scattercarpet"
           }
          ],
          "scattergeo": [
           {
            "marker": {
             "colorbar": {
              "outlinewidth": 0,
              "ticks": ""
             }
            },
            "type": "scattergeo"
           }
          ],
          "scattergl": [
           {
            "marker": {
             "colorbar": {
              "outlinewidth": 0,
              "ticks": ""
             }
            },
            "type": "scattergl"
           }
          ],
          "scattermap": [
           {
            "marker": {
             "colorbar": {
              "outlinewidth": 0,
              "ticks": ""
             }
            },
            "type": "scattermap"
           }
          ],
          "scattermapbox": [
           {
            "marker": {
             "colorbar": {
              "outlinewidth": 0,
              "ticks": ""
             }
            },
            "type": "scattermapbox"
           }
          ],
          "scatterpolar": [
           {
            "marker": {
             "colorbar": {
              "outlinewidth": 0,
              "ticks": ""
             }
            },
            "type": "scatterpolar"
           }
          ],
          "scatterpolargl": [
           {
            "marker": {
             "colorbar": {
              "outlinewidth": 0,
              "ticks": ""
             }
            },
            "type": "scatterpolargl"
           }
          ],
          "scatterternary": [
           {
            "marker": {
             "colorbar": {
              "outlinewidth": 0,
              "ticks": ""
             }
            },
            "type": "scatterternary"
           }
          ],
          "surface": [
           {
            "colorbar": {
             "outlinewidth": 0,
             "ticks": ""
            },
            "colorscale": [
             [
              0,
              "#0d0887"
             ],
             [
              0.1111111111111111,
              "#46039f"
             ],
             [
              0.2222222222222222,
              "#7201a8"
             ],
             [
              0.3333333333333333,
              "#9c179e"
             ],
             [
              0.4444444444444444,
              "#bd3786"
             ],
             [
              0.5555555555555556,
              "#d8576b"
             ],
             [
              0.6666666666666666,
              "#ed7953"
             ],
             [
              0.7777777777777778,
              "#fb9f3a"
             ],
             [
              0.8888888888888888,
              "#fdca26"
             ],
             [
              1,
              "#f0f921"
             ]
            ],
            "type": "surface"
           }
          ],
          "table": [
           {
            "cells": {
             "fill": {
              "color": "#EBF0F8"
             },
             "line": {
              "color": "white"
             }
            },
            "header": {
             "fill": {
              "color": "#C8D4E3"
             },
             "line": {
              "color": "white"
             }
            },
            "type": "table"
           }
          ]
         },
         "layout": {
          "annotationdefaults": {
           "arrowcolor": "#2a3f5f",
           "arrowhead": 0,
           "arrowwidth": 1
          },
          "autotypenumbers": "strict",
          "coloraxis": {
           "colorbar": {
            "outlinewidth": 0,
            "ticks": ""
           }
          },
          "colorscale": {
           "diverging": [
            [
             0,
             "#8e0152"
            ],
            [
             0.1,
             "#c51b7d"
            ],
            [
             0.2,
             "#de77ae"
            ],
            [
             0.3,
             "#f1b6da"
            ],
            [
             0.4,
             "#fde0ef"
            ],
            [
             0.5,
             "#f7f7f7"
            ],
            [
             0.6,
             "#e6f5d0"
            ],
            [
             0.7,
             "#b8e186"
            ],
            [
             0.8,
             "#7fbc41"
            ],
            [
             0.9,
             "#4d9221"
            ],
            [
             1,
             "#276419"
            ]
           ],
           "sequential": [
            [
             0,
             "#0d0887"
            ],
            [
             0.1111111111111111,
             "#46039f"
            ],
            [
             0.2222222222222222,
             "#7201a8"
            ],
            [
             0.3333333333333333,
             "#9c179e"
            ],
            [
             0.4444444444444444,
             "#bd3786"
            ],
            [
             0.5555555555555556,
             "#d8576b"
            ],
            [
             0.6666666666666666,
             "#ed7953"
            ],
            [
             0.7777777777777778,
             "#fb9f3a"
            ],
            [
             0.8888888888888888,
             "#fdca26"
            ],
            [
             1,
             "#f0f921"
            ]
           ],
           "sequentialminus": [
            [
             0,
             "#0d0887"
            ],
            [
             0.1111111111111111,
             "#46039f"
            ],
            [
             0.2222222222222222,
             "#7201a8"
            ],
            [
             0.3333333333333333,
             "#9c179e"
            ],
            [
             0.4444444444444444,
             "#bd3786"
            ],
            [
             0.5555555555555556,
             "#d8576b"
            ],
            [
             0.6666666666666666,
             "#ed7953"
            ],
            [
             0.7777777777777778,
             "#fb9f3a"
            ],
            [
             0.8888888888888888,
             "#fdca26"
            ],
            [
             1,
             "#f0f921"
            ]
           ]
          },
          "colorway": [
           "#636efa",
           "#EF553B",
           "#00cc96",
           "#ab63fa",
           "#FFA15A",
           "#19d3f3",
           "#FF6692",
           "#B6E880",
           "#FF97FF",
           "#FECB52"
          ],
          "font": {
           "color": "#2a3f5f"
          },
          "geo": {
           "bgcolor": "white",
           "lakecolor": "white",
           "landcolor": "#E5ECF6",
           "showlakes": true,
           "showland": true,
           "subunitcolor": "white"
          },
          "hoverlabel": {
           "align": "left"
          },
          "hovermode": "closest",
          "mapbox": {
           "style": "light"
          },
          "paper_bgcolor": "white",
          "plot_bgcolor": "#E5ECF6",
          "polar": {
           "angularaxis": {
            "gridcolor": "white",
            "linecolor": "white",
            "ticks": ""
           },
           "bgcolor": "#E5ECF6",
           "radialaxis": {
            "gridcolor": "white",
            "linecolor": "white",
            "ticks": ""
           }
          },
          "scene": {
           "xaxis": {
            "backgroundcolor": "#E5ECF6",
            "gridcolor": "white",
            "gridwidth": 2,
            "linecolor": "white",
            "showbackground": true,
            "ticks": "",
            "zerolinecolor": "white"
           },
           "yaxis": {
            "backgroundcolor": "#E5ECF6",
            "gridcolor": "white",
            "gridwidth": 2,
            "linecolor": "white",
            "showbackground": true,
            "ticks": "",
            "zerolinecolor": "white"
           },
           "zaxis": {
            "backgroundcolor": "#E5ECF6",
            "gridcolor": "white",
            "gridwidth": 2,
            "linecolor": "white",
            "showbackground": true,
            "ticks": "",
            "zerolinecolor": "white"
           }
          },
          "shapedefaults": {
           "line": {
            "color": "#2a3f5f"
           }
          },
          "ternary": {
           "aaxis": {
            "gridcolor": "white",
            "linecolor": "white",
            "ticks": ""
           },
           "baxis": {
            "gridcolor": "white",
            "linecolor": "white",
            "ticks": ""
           },
           "bgcolor": "#E5ECF6",
           "caxis": {
            "gridcolor": "white",
            "linecolor": "white",
            "ticks": ""
           }
          },
          "title": {
           "x": 0.05
          },
          "xaxis": {
           "automargin": true,
           "gridcolor": "white",
           "linecolor": "white",
           "ticks": "",
           "title": {
            "standoff": 15
           },
           "zerolinecolor": "white",
           "zerolinewidth": 2
          },
          "yaxis": {
           "automargin": true,
           "gridcolor": "white",
           "linecolor": "white",
           "ticks": "",
           "title": {
            "standoff": 15
           },
           "zerolinecolor": "white",
           "zerolinewidth": 2
          }
         }
        },
        "title": {
         "text": "PCA Visualization - SVD Embeddings"
        },
        "width": 800,
        "xaxis": {
         "anchor": "y",
         "domain": [
          0,
          1
         ],
         "title": {
          "text": "x"
         }
        },
        "yaxis": {
         "anchor": "x",
         "domain": [
          0,
          1
         ],
         "title": {
          "text": "y"
         }
        }
       }
      }
     },
     "metadata": {},
     "output_type": "display_data"
    },
    {
     "data": {
      "application/vnd.plotly.v1+json": {
       "config": {
        "plotlyServerURL": "https://plot.ly"
       },
       "data": [
        {
         "hovertemplate": "<b>%{hovertext}</b><br><br>x=%{x}<br>y=%{y}<extra></extra>",
         "hovertext": [
          "said",
          "would",
          "also",
          "new",
          "people",
          "one",
          "year",
          "could",
          "last",
          "first",
          "years",
          "two",
          "time",
          "government",
          "world",
          "make",
          "best",
          "told",
          "get",
          "made",
          "like",
          "film",
          "game",
          "many",
          "music",
          "next",
          "back",
          "three",
          "number",
          "well",
          "take",
          "added",
          "way",
          "bbc",
          "set",
          "says",
          "market",
          "may",
          "labour",
          "home",
          "good",
          "games",
          "going",
          "still",
          "company",
          "election",
          "much",
          "win",
          "since",
          "work",
          "â£m",
          "think",
          "use",
          "say",
          "million",
          "show",
          "part",
          "play",
          "firm",
          "top",
          "want",
          "technology",
          "public",
          "second",
          "see",
          "england",
          "british",
          "week",
          "blair",
          "players",
          "used",
          "party",
          "news",
          "european",
          "minister",
          "however",
          "mobile",
          "sales",
          "even",
          "expected",
          "plans",
          "end",
          "months",
          "five",
          "already",
          "put",
          "group",
          "growth",
          "come",
          "six",
          "chief",
          "service",
          "four",
          "firms",
          "former",
          "economy",
          "services",
          "dont",
          "money",
          "deal",
          "companies",
          "director",
          "net",
          "users",
          "according",
          "help",
          "need",
          "system",
          "digital",
          "record",
          "including",
          "right",
          "industry",
          "tax",
          "big",
          "place",
          "around",
          "international",
          "london",
          "brown",
          "report",
          "day",
          "economic",
          "wales",
          "business",
          "great",
          "really",
          "move",
          "another",
          "software",
          "country",
          "got",
          "future",
          "phone",
          "third",
          "took",
          "open",
          "month",
          "came",
          "bank",
          "start",
          "know",
          "spokesman",
          "team",
          "europe",
          "information",
          "general",
          "hit",
          "better",
          "radio",
          "video",
          "online",
          "without",
          "final",
          "club",
          "high",
          "office",
          "life",
          "despite",
          "decision",
          "howard",
          "law",
          "court",
          "found",
          "far",
          "likely",
          "using",
          "campaign",
          "britain",
          "data",
          "action",
          "seen",
          "prime",
          "figures",
          "â£bn",
          "security",
          "saying",
          "give",
          "media",
          "real",
          "lot",
          "given",
          "awards",
          "national",
          "computer",
          "offer",
          "away",
          "president",
          "nations",
          "called",
          "countries",
          "able",
          "every",
          "executive",
          "lost",
          "oil",
          "united",
          "become",
          "france",
          "foreign",
          "rise",
          "side",
          "times",
          "internet",
          "making",
          "although",
          "cup",
          "long",
          "january",
          "days",
          "state",
          "later",
          "player",
          "whether",
          "taking",
          "past",
          "research",
          "ireland",
          "look",
          "prices",
          "early",
          "december",
          "case",
          "yearold",
          "less",
          "legal",
          "recent",
          "earlier",
          "secretary",
          "star",
          "leader",
          "biggest",
          "playing",
          "analysts",
          "due",
          "spending",
          "michael",
          "interest",
          "bill",
          "lord",
          "house",
          "films",
          "played",
          "award",
          "role",
          "never",
          "strong",
          "shares",
          "important",
          "current",
          "match",
          "hard",
          "support",
          "went",
          "left",
          "increase",
          "pay",
          "believe",
          "cut",
          "following",
          "local",
          "control",
          "little",
          "major",
          "run",
          "tory",
          "currently",
          "financial",
          "ahead",
          "police",
          "looking",
          "half",
          "issue",
          "change",
          "working",
          "thought",
          "face",
          "return",
          "different",
          "john",
          "latest",
          "rights",
          "held",
          "broadband",
          "cost",
          "david",
          "weeks",
          "something",
          "yet",
          "series",
          "south",
          "among",
          "announced",
          "access",
          "man",
          "chancellor",
          "try",
          "trade",
          "must",
          "line"
         ],
         "legendgroup": "",
         "marker": {
          "color": "#636efa",
          "symbol": "circle"
         },
         "mode": "markers",
         "name": "",
         "orientation": "v",
         "showlegend": false,
         "type": "scatter",
         "x": {
          "bdata": "85M9wAJ5XcCmMYRAdPKWQBb0aUBEJYxApH2WQJwK/7/NZZxAq9RuQNw5tkBWn69AI+HYPy8E/sCiyTNAZ3ltv/IxjsA2MlLAZwzDPxHBbkDVEH9ASTcwwAj4I0EQdW5ApAvzQG28tkCInT0/BQm9QHLHp0CMVXdA7xYyQJEsH7//b50/1ntSwLnTa0C3IctAPeliwQ2Bo8BMtxjAJcNAQdb9ekCPsyxBHHL5P4NVwb+DamTBrxoQwMrKMz+VnFlBK9uJQHUvab6p4SZBbJNDQG+vlUCcLXbAR9nJwKEgK0FbjHJAE4cQQQnvY8E4i+tA3t42P9xnPkAqHO/AICGuQNTmNz9+LINB4jAsQbt43EDHjILAVIzpQHHkeUFNa9a/Y7ZJwLWgycAGxZLAvkq1wPYxI0C1li3BJhIhP9K+HcHL5djANI8KQCxG3sBJoc5A5HIxwE/mtj18yHBBFjdJwRIxnj8ylXtBr39AwMk6mEDWj99AEpc9wcJDIkCnoETBO76WQLqIMUC5CgvB2Lg+QcR6PcFc5kDA7gjRQKeMz0BA9vfAyOR9PztTsb8K4q5AaDd3P40KBUATMDJBlKPwv/9vE8HxqifB/dXnP99B9UBud9E/8qATQbKdIUEsM7HAQdvuwE3bBUEj3T3BdW2EQROnhcGDw59AknFsQGfyfMC2Teg+JPTrQKcwx8CyzplA6tvNv+hqJUBIeLZAOdnfQIprQEE4SfdAfglAP3YodsHvlydAwcAeQNRqyb8uHe9A8RWfwLfTtEA1IB/AkOt0v+gFjD/4YU3AuxWAPwqHOkBAH/DAxWVVQWTCAj+1PYXBp8pMQdX9ZsAclX7ACnnMwOIQFcBBkxrBsuJCwWSoj0GrIsO/lIs3wYeXh0B8bMe/RGuswHGihEAjtyjB9UC4wJ5cj8A94ArBmKg9wfpDBkE6+qDAq7+AwIoi2j1S5e6+f5o0QDDa2j/NjY/A1d2LQSlX0kCZPJS/NogNPxdHUkH1cXtBb10AQc7rFkE0Ox6/hhZ0QCBCQMCh0ZFAUFGAwT4nFT8nnSlBppSMQQaWI8FvrlfBL+tzQUrZtUArA8ZAtDNBwLYnEsDfsFVBnSdLwMbsDMHI2vRAet8DwTUuk0AQPeJAoYIZwZQwcEBJXWU+HLDbwJI5iEEIHkK+t0h6wfp4wUBEtRvBBklEwY9kL0C3DeTAM4krwUYm/cC/pvtA2V6NwAuhg8DtmOi/Gl5rwfgCDEFYKFvBlgHaQHJ2Q8HsOg7AcuJiwUsCCcHgLq3AJidCwU9AIcBlgRFBguuTwNsuhMCO9CNAzw9DwbpUXsHbUgG/EvhlwKQiYEGIDqpAUvpowC04MUDTCrq//Q5YwTtDG8FtxZPA4N9DweTsAUFtvA/Bp04MwEZ7OcCgiZDAYHPdv9LCEsB4yGJBvwWDwYzc5EAUxULBNGmlv8yTsz/RCrXAV3c5wFO1F0E4VTFA8kZAP1Aorb8uP1hAMRxaQBG/FkE2df7AuhETQXD6wUBbHfHAfZ2FQVcN6EB+9Ns/h7tFwPNRRkGCeA9BX49mQdy8vUAC9MVAf2c+QEbLrsDjFwS/Hx9jwZ8xmMAO2KLA",
          "dtype": "f4"
         },
         "xaxis": "x",
         "y": {
          "bdata": "FgsGPlfkLL7X5a9AcY2fQNsv7cBxWuRAYrYFQT50Jb+fWwxBV7cTQUwiFUGhJSZByn6qQEcs8D4bzC1Bd7m2v4yyiUGbLQvBuraav8x4xkB82AnAj1WWQaYcI8Cw+9/AvSSDP+3EukAprsdACiUnQYQ68UBBeOM/qrVnQB7A2j8n1fi/hLUFwXkwQ0Gg4QA/4VwCwRfqEcBra5bBtFy7QPpxIT/HPknA9qAEPxkcSEBkMU3BjUCMwbpmNMB/e7q/T9AXQZNtB8DmSRVBIfbYvGeWC8EUXLC9qL8HwQ7XVkEwR4pAE/YmwMJ6TcE41ThBObYTvwlWJsF4pzM9dptTQXcyGD9ZwXzAACp/QXc71UAo25TBOukbwIk2cEAIs5nBHpYSwePlLUG0PI3B6FpcwOJvR8GsPBTBhSAJQH78nsDQTKi/NO7NQMzBwsC1dxlBnKmjwNwfqkBhHOZA76vdwJ5/tz/BiabA5GJCwbJqW8GRqB9B109dwW6ZZEHJ8dXALXtawfz9lL7VpBHAKLQmwXnHXMHzbKBBtjQ0wdHYH8HBbhPBD9O/wDOQNsD/urjARFQlwYR0O0G8TzpBURC9QE5bRsFVjDrA+ngqQFlaSkEgbpPAZs4vQULP20CQrprB7MUdwQZHDEFm3tPA6H9xwOgALsE6SLM9LwCyvogzq79YlulAG7YYwXJs9j+zwFe/Gbb6P4olSMHcnVRBfjVXQd6mxT/TAYJAHaInQbZ6VMBbRqZARIw/vq78psC9F6a/dImlwPOY68AU7YXBAgFLQfwfTcCHivHAXmkmwQt1AMEH+6xAtAdSv30ihEE4RrfAd67dQL4SKUE1n79AM9FoQNQLp8H2NGhAoZICQSZ9sUCG7ck+1zFNv0juGsH7YozBt+qLP0FZJcFQ3hZBZmzEQAyjjsF64AbBCrGDwCW9GcH0EkS/rlPoP8o8F8ETCT5AjXmxv6vjfUAdvYpBw3z+P17mDcEAyM3A+nt6QGMGf0C7+arAAd+TQWib1sDXAnTA93ODwGhoQsHm8DFBRx/iwAc9hUFqQ11AMfacwLVHnz83hqvAzy9RwHKpJkDeVz7B/g63PzdqtT8q0RnANYP6QFXlt8C9cgVBvvewP9rnekFeLzjAPsOxQNSkVEDyoRBBBtcowRbumcCTcxQ/Q9vRwCBk1kBLzeDAkAsBQWhYCEFqqIDAKCcUQb5a5cAvKoJAQYNqwcP/bkFedKDBm2IawWRYHMC4qunA27+pQB+WlsBCyqrBQZ9/wPT5R0CxEHrB63YBQOStlUGYUGPAhDiLQdDAYUH8BqA/lQ0Cwc/EKsFUUBm/cMZewP5W6L8+7BvAkpsTwE92HEFnmd9AUlOowLaSI8DS38A+sz8hwJBfx0AwRfq+aw73v9eRjECOcJFAhc4oQY6nocFxUdM/JO0mwLqQeEEeBolAS8GAQCclAUEJHba93V9kv3jCMD4IhSfAnfZWQfPFDUEIaK3As+qTQXbvmkBB5dlA4G/xQGgCTcHaDUnAiV4PQVJx9UBY5o6+2ThBQO5yH0FrugpA+nJEQckiiUAPRkjBQpT1QEnemcHUYbpATEs8v52AL0AkZwdB",
          "dtype": "f4"
         },
         "yaxis": "y"
        }
       ],
       "layout": {
        "height": 600,
        "legend": {
         "tracegroupgap": 0
        },
        "template": {
         "data": {
          "bar": [
           {
            "error_x": {
             "color": "#2a3f5f"
            },
            "error_y": {
             "color": "#2a3f5f"
            },
            "marker": {
             "line": {
              "color": "#E5ECF6",
              "width": 0.5
             },
             "pattern": {
              "fillmode": "overlay",
              "size": 10,
              "solidity": 0.2
             }
            },
            "type": "bar"
           }
          ],
          "barpolar": [
           {
            "marker": {
             "line": {
              "color": "#E5ECF6",
              "width": 0.5
             },
             "pattern": {
              "fillmode": "overlay",
              "size": 10,
              "solidity": 0.2
             }
            },
            "type": "barpolar"
           }
          ],
          "carpet": [
           {
            "aaxis": {
             "endlinecolor": "#2a3f5f",
             "gridcolor": "white",
             "linecolor": "white",
             "minorgridcolor": "white",
             "startlinecolor": "#2a3f5f"
            },
            "baxis": {
             "endlinecolor": "#2a3f5f",
             "gridcolor": "white",
             "linecolor": "white",
             "minorgridcolor": "white",
             "startlinecolor": "#2a3f5f"
            },
            "type": "carpet"
           }
          ],
          "choropleth": [
           {
            "colorbar": {
             "outlinewidth": 0,
             "ticks": ""
            },
            "type": "choropleth"
           }
          ],
          "contour": [
           {
            "colorbar": {
             "outlinewidth": 0,
             "ticks": ""
            },
            "colorscale": [
             [
              0,
              "#0d0887"
             ],
             [
              0.1111111111111111,
              "#46039f"
             ],
             [
              0.2222222222222222,
              "#7201a8"
             ],
             [
              0.3333333333333333,
              "#9c179e"
             ],
             [
              0.4444444444444444,
              "#bd3786"
             ],
             [
              0.5555555555555556,
              "#d8576b"
             ],
             [
              0.6666666666666666,
              "#ed7953"
             ],
             [
              0.7777777777777778,
              "#fb9f3a"
             ],
             [
              0.8888888888888888,
              "#fdca26"
             ],
             [
              1,
              "#f0f921"
             ]
            ],
            "type": "contour"
           }
          ],
          "contourcarpet": [
           {
            "colorbar": {
             "outlinewidth": 0,
             "ticks": ""
            },
            "type": "contourcarpet"
           }
          ],
          "heatmap": [
           {
            "colorbar": {
             "outlinewidth": 0,
             "ticks": ""
            },
            "colorscale": [
             [
              0,
              "#0d0887"
             ],
             [
              0.1111111111111111,
              "#46039f"
             ],
             [
              0.2222222222222222,
              "#7201a8"
             ],
             [
              0.3333333333333333,
              "#9c179e"
             ],
             [
              0.4444444444444444,
              "#bd3786"
             ],
             [
              0.5555555555555556,
              "#d8576b"
             ],
             [
              0.6666666666666666,
              "#ed7953"
             ],
             [
              0.7777777777777778,
              "#fb9f3a"
             ],
             [
              0.8888888888888888,
              "#fdca26"
             ],
             [
              1,
              "#f0f921"
             ]
            ],
            "type": "heatmap"
           }
          ],
          "histogram": [
           {
            "marker": {
             "pattern": {
              "fillmode": "overlay",
              "size": 10,
              "solidity": 0.2
             }
            },
            "type": "histogram"
           }
          ],
          "histogram2d": [
           {
            "colorbar": {
             "outlinewidth": 0,
             "ticks": ""
            },
            "colorscale": [
             [
              0,
              "#0d0887"
             ],
             [
              0.1111111111111111,
              "#46039f"
             ],
             [
              0.2222222222222222,
              "#7201a8"
             ],
             [
              0.3333333333333333,
              "#9c179e"
             ],
             [
              0.4444444444444444,
              "#bd3786"
             ],
             [
              0.5555555555555556,
              "#d8576b"
             ],
             [
              0.6666666666666666,
              "#ed7953"
             ],
             [
              0.7777777777777778,
              "#fb9f3a"
             ],
             [
              0.8888888888888888,
              "#fdca26"
             ],
             [
              1,
              "#f0f921"
             ]
            ],
            "type": "histogram2d"
           }
          ],
          "histogram2dcontour": [
           {
            "colorbar": {
             "outlinewidth": 0,
             "ticks": ""
            },
            "colorscale": [
             [
              0,
              "#0d0887"
             ],
             [
              0.1111111111111111,
              "#46039f"
             ],
             [
              0.2222222222222222,
              "#7201a8"
             ],
             [
              0.3333333333333333,
              "#9c179e"
             ],
             [
              0.4444444444444444,
              "#bd3786"
             ],
             [
              0.5555555555555556,
              "#d8576b"
             ],
             [
              0.6666666666666666,
              "#ed7953"
             ],
             [
              0.7777777777777778,
              "#fb9f3a"
             ],
             [
              0.8888888888888888,
              "#fdca26"
             ],
             [
              1,
              "#f0f921"
             ]
            ],
            "type": "histogram2dcontour"
           }
          ],
          "mesh3d": [
           {
            "colorbar": {
             "outlinewidth": 0,
             "ticks": ""
            },
            "type": "mesh3d"
           }
          ],
          "parcoords": [
           {
            "line": {
             "colorbar": {
              "outlinewidth": 0,
              "ticks": ""
             }
            },
            "type": "parcoords"
           }
          ],
          "pie": [
           {
            "automargin": true,
            "type": "pie"
           }
          ],
          "scatter": [
           {
            "fillpattern": {
             "fillmode": "overlay",
             "size": 10,
             "solidity": 0.2
            },
            "type": "scatter"
           }
          ],
          "scatter3d": [
           {
            "line": {
             "colorbar": {
              "outlinewidth": 0,
              "ticks": ""
             }
            },
            "marker": {
             "colorbar": {
              "outlinewidth": 0,
              "ticks": ""
             }
            },
            "type": "scatter3d"
           }
          ],
          "scattercarpet": [
           {
            "marker": {
             "colorbar": {
              "outlinewidth": 0,
              "ticks": ""
             }
            },
            "type": "scattercarpet"
           }
          ],
          "scattergeo": [
           {
            "marker": {
             "colorbar": {
              "outlinewidth": 0,
              "ticks": ""
             }
            },
            "type": "scattergeo"
           }
          ],
          "scattergl": [
           {
            "marker": {
             "colorbar": {
              "outlinewidth": 0,
              "ticks": ""
             }
            },
            "type": "scattergl"
           }
          ],
          "scattermap": [
           {
            "marker": {
             "colorbar": {
              "outlinewidth": 0,
              "ticks": ""
             }
            },
            "type": "scattermap"
           }
          ],
          "scattermapbox": [
           {
            "marker": {
             "colorbar": {
              "outlinewidth": 0,
              "ticks": ""
             }
            },
            "type": "scattermapbox"
           }
          ],
          "scatterpolar": [
           {
            "marker": {
             "colorbar": {
              "outlinewidth": 0,
              "ticks": ""
             }
            },
            "type": "scatterpolar"
           }
          ],
          "scatterpolargl": [
           {
            "marker": {
             "colorbar": {
              "outlinewidth": 0,
              "ticks": ""
             }
            },
            "type": "scatterpolargl"
           }
          ],
          "scatterternary": [
           {
            "marker": {
             "colorbar": {
              "outlinewidth": 0,
              "ticks": ""
             }
            },
            "type": "scatterternary"
           }
          ],
          "surface": [
           {
            "colorbar": {
             "outlinewidth": 0,
             "ticks": ""
            },
            "colorscale": [
             [
              0,
              "#0d0887"
             ],
             [
              0.1111111111111111,
              "#46039f"
             ],
             [
              0.2222222222222222,
              "#7201a8"
             ],
             [
              0.3333333333333333,
              "#9c179e"
             ],
             [
              0.4444444444444444,
              "#bd3786"
             ],
             [
              0.5555555555555556,
              "#d8576b"
             ],
             [
              0.6666666666666666,
              "#ed7953"
             ],
             [
              0.7777777777777778,
              "#fb9f3a"
             ],
             [
              0.8888888888888888,
              "#fdca26"
             ],
             [
              1,
              "#f0f921"
             ]
            ],
            "type": "surface"
           }
          ],
          "table": [
           {
            "cells": {
             "fill": {
              "color": "#EBF0F8"
             },
             "line": {
              "color": "white"
             }
            },
            "header": {
             "fill": {
              "color": "#C8D4E3"
             },
             "line": {
              "color": "white"
             }
            },
            "type": "table"
           }
          ]
         },
         "layout": {
          "annotationdefaults": {
           "arrowcolor": "#2a3f5f",
           "arrowhead": 0,
           "arrowwidth": 1
          },
          "autotypenumbers": "strict",
          "coloraxis": {
           "colorbar": {
            "outlinewidth": 0,
            "ticks": ""
           }
          },
          "colorscale": {
           "diverging": [
            [
             0,
             "#8e0152"
            ],
            [
             0.1,
             "#c51b7d"
            ],
            [
             0.2,
             "#de77ae"
            ],
            [
             0.3,
             "#f1b6da"
            ],
            [
             0.4,
             "#fde0ef"
            ],
            [
             0.5,
             "#f7f7f7"
            ],
            [
             0.6,
             "#e6f5d0"
            ],
            [
             0.7,
             "#b8e186"
            ],
            [
             0.8,
             "#7fbc41"
            ],
            [
             0.9,
             "#4d9221"
            ],
            [
             1,
             "#276419"
            ]
           ],
           "sequential": [
            [
             0,
             "#0d0887"
            ],
            [
             0.1111111111111111,
             "#46039f"
            ],
            [
             0.2222222222222222,
             "#7201a8"
            ],
            [
             0.3333333333333333,
             "#9c179e"
            ],
            [
             0.4444444444444444,
             "#bd3786"
            ],
            [
             0.5555555555555556,
             "#d8576b"
            ],
            [
             0.6666666666666666,
             "#ed7953"
            ],
            [
             0.7777777777777778,
             "#fb9f3a"
            ],
            [
             0.8888888888888888,
             "#fdca26"
            ],
            [
             1,
             "#f0f921"
            ]
           ],
           "sequentialminus": [
            [
             0,
             "#0d0887"
            ],
            [
             0.1111111111111111,
             "#46039f"
            ],
            [
             0.2222222222222222,
             "#7201a8"
            ],
            [
             0.3333333333333333,
             "#9c179e"
            ],
            [
             0.4444444444444444,
             "#bd3786"
            ],
            [
             0.5555555555555556,
             "#d8576b"
            ],
            [
             0.6666666666666666,
             "#ed7953"
            ],
            [
             0.7777777777777778,
             "#fb9f3a"
            ],
            [
             0.8888888888888888,
             "#fdca26"
            ],
            [
             1,
             "#f0f921"
            ]
           ]
          },
          "colorway": [
           "#636efa",
           "#EF553B",
           "#00cc96",
           "#ab63fa",
           "#FFA15A",
           "#19d3f3",
           "#FF6692",
           "#B6E880",
           "#FF97FF",
           "#FECB52"
          ],
          "font": {
           "color": "#2a3f5f"
          },
          "geo": {
           "bgcolor": "white",
           "lakecolor": "white",
           "landcolor": "#E5ECF6",
           "showlakes": true,
           "showland": true,
           "subunitcolor": "white"
          },
          "hoverlabel": {
           "align": "left"
          },
          "hovermode": "closest",
          "mapbox": {
           "style": "light"
          },
          "paper_bgcolor": "white",
          "plot_bgcolor": "#E5ECF6",
          "polar": {
           "angularaxis": {
            "gridcolor": "white",
            "linecolor": "white",
            "ticks": ""
           },
           "bgcolor": "#E5ECF6",
           "radialaxis": {
            "gridcolor": "white",
            "linecolor": "white",
            "ticks": ""
           }
          },
          "scene": {
           "xaxis": {
            "backgroundcolor": "#E5ECF6",
            "gridcolor": "white",
            "gridwidth": 2,
            "linecolor": "white",
            "showbackground": true,
            "ticks": "",
            "zerolinecolor": "white"
           },
           "yaxis": {
            "backgroundcolor": "#E5ECF6",
            "gridcolor": "white",
            "gridwidth": 2,
            "linecolor": "white",
            "showbackground": true,
            "ticks": "",
            "zerolinecolor": "white"
           },
           "zaxis": {
            "backgroundcolor": "#E5ECF6",
            "gridcolor": "white",
            "gridwidth": 2,
            "linecolor": "white",
            "showbackground": true,
            "ticks": "",
            "zerolinecolor": "white"
           }
          },
          "shapedefaults": {
           "line": {
            "color": "#2a3f5f"
           }
          },
          "ternary": {
           "aaxis": {
            "gridcolor": "white",
            "linecolor": "white",
            "ticks": ""
           },
           "baxis": {
            "gridcolor": "white",
            "linecolor": "white",
            "ticks": ""
           },
           "bgcolor": "#E5ECF6",
           "caxis": {
            "gridcolor": "white",
            "linecolor": "white",
            "ticks": ""
           }
          },
          "title": {
           "x": 0.05
          },
          "xaxis": {
           "automargin": true,
           "gridcolor": "white",
           "linecolor": "white",
           "ticks": "",
           "title": {
            "standoff": 15
           },
           "zerolinecolor": "white",
           "zerolinewidth": 2
          },
          "yaxis": {
           "automargin": true,
           "gridcolor": "white",
           "linecolor": "white",
           "ticks": "",
           "title": {
            "standoff": 15
           },
           "zerolinecolor": "white",
           "zerolinewidth": 2
          }
         }
        },
        "title": {
         "text": "t-SNE Visualization - SVD Embeddings"
        },
        "width": 800,
        "xaxis": {
         "anchor": "y",
         "domain": [
          0,
          1
         ],
         "title": {
          "text": "x"
         }
        },
        "yaxis": {
         "anchor": "x",
         "domain": [
          0,
          1
         ],
         "title": {
          "text": "y"
         }
        }
       }
      }
     },
     "metadata": {},
     "output_type": "display_data"
    },
    {
     "name": "stdout",
     "output_type": "stream",
     "text": [
      "\n",
      "Creating visualization: Word2Vec Embeddings\n"
     ]
    },
    {
     "data": {
      "application/vnd.plotly.v1+json": {
       "config": {
        "plotlyServerURL": "https://plot.ly"
       },
       "data": [
        {
         "hovertemplate": "<b>%{hovertext}</b><br><br>x=%{x}<br>y=%{y}<extra></extra>",
         "hovertext": [
          "said",
          "would",
          "also",
          "new",
          "people",
          "one",
          "year",
          "could",
          "last",
          "first",
          "years",
          "two",
          "time",
          "government",
          "world",
          "make",
          "best",
          "told",
          "get",
          "made",
          "like",
          "film",
          "game",
          "many",
          "music",
          "next",
          "back",
          "three",
          "number",
          "well",
          "take",
          "added",
          "way",
          "bbc",
          "set",
          "says",
          "market",
          "may",
          "labour",
          "home",
          "good",
          "games",
          "going",
          "still",
          "company",
          "election",
          "much",
          "win",
          "since",
          "work",
          "â£m",
          "think",
          "use",
          "say",
          "million",
          "show",
          "part",
          "play",
          "firm",
          "top",
          "want",
          "technology",
          "public",
          "second",
          "see",
          "england",
          "british",
          "week",
          "blair",
          "players",
          "used",
          "party",
          "news",
          "european",
          "minister",
          "however",
          "mobile",
          "sales",
          "even",
          "expected",
          "plans",
          "end",
          "months",
          "five",
          "already",
          "put",
          "group",
          "growth",
          "come",
          "six",
          "chief",
          "service",
          "four",
          "firms",
          "former",
          "economy",
          "services",
          "dont",
          "money",
          "deal",
          "companies",
          "director",
          "net",
          "users",
          "according",
          "help",
          "need",
          "system",
          "digital",
          "record",
          "including",
          "right",
          "industry",
          "tax",
          "big",
          "place",
          "around",
          "international",
          "london",
          "brown",
          "report",
          "day",
          "economic",
          "wales",
          "business",
          "great",
          "really",
          "move",
          "another",
          "software",
          "country",
          "got",
          "future",
          "phone",
          "third",
          "took",
          "open",
          "month",
          "came",
          "bank",
          "start",
          "know",
          "spokesman",
          "team",
          "europe",
          "information",
          "general",
          "hit",
          "better",
          "radio",
          "video",
          "online",
          "without",
          "final",
          "club",
          "high",
          "office",
          "life",
          "despite",
          "decision",
          "howard",
          "law",
          "court",
          "found",
          "far",
          "likely",
          "using",
          "campaign",
          "britain",
          "data",
          "action",
          "seen",
          "prime",
          "figures",
          "â£bn",
          "security",
          "saying",
          "give",
          "media",
          "real",
          "lot",
          "given",
          "awards",
          "national",
          "computer",
          "offer",
          "away",
          "president",
          "nations",
          "called",
          "countries",
          "able",
          "every",
          "executive",
          "lost",
          "oil",
          "united",
          "become",
          "france",
          "foreign",
          "rise",
          "side",
          "times",
          "internet",
          "making",
          "although",
          "cup",
          "long",
          "january",
          "days",
          "state",
          "later",
          "player",
          "whether",
          "taking",
          "past",
          "research",
          "ireland",
          "look",
          "prices",
          "early",
          "december",
          "case",
          "yearold",
          "less",
          "legal",
          "recent",
          "earlier",
          "secretary",
          "star",
          "leader",
          "biggest",
          "playing",
          "analysts",
          "due",
          "spending",
          "michael",
          "interest",
          "bill",
          "lord",
          "house",
          "films",
          "played",
          "award",
          "role",
          "never",
          "strong",
          "shares",
          "important",
          "current",
          "match",
          "hard",
          "support",
          "went",
          "left",
          "increase",
          "pay",
          "believe",
          "cut",
          "following",
          "local",
          "control",
          "little",
          "major",
          "run",
          "tory",
          "currently",
          "financial",
          "ahead",
          "police",
          "looking",
          "half",
          "issue",
          "change",
          "working",
          "thought",
          "face",
          "return",
          "different",
          "john",
          "latest",
          "rights",
          "held",
          "broadband",
          "cost",
          "david",
          "weeks",
          "something",
          "yet",
          "series",
          "south",
          "among",
          "announced",
          "access",
          "man",
          "chancellor",
          "try",
          "trade",
          "must",
          "line"
         ],
         "legendgroup": "",
         "marker": {
          "color": "#636efa",
          "symbol": "circle"
         },
         "mode": "markers",
         "name": "",
         "orientation": "v",
         "showlegend": false,
         "type": "scatter",
         "x": {
          "bdata": "r7aBPRJLAz6X33S9rlj5PYHu4D3yFZK+n/W8vXLLrjyMJcG+/DIPv7TIyL7yUfa+tafQvkItIT/tC92+/003vnS9fb9cbIS+ZrKJvmrUtr4paLK+c4DVvhxsYr+4hyo9cOIhvaddA77Gyw2/prXvvqphNL4Veni+K8SwvpgcmL5Q4Yi+MaOnvc1Fxb6Tfhc+vrs1P/a1xj34SpE+gGc4voxovb497uy+uUekvp6Wrr0iRzI/vAySPmx7Eb7+BKO/3IO9vrjxoDyEF1I+1aoTv8vHmT7AzBY+X5G/PnzrJ778X6I8Vl2Hv10TNz+suAq/6H54vofB0D7ZgwI/L2wav7MLXL65w4e/anMsvt7Cwb5ooHg+/ZY4v+DvKz5F0D8+7G9uPsHOtr0PEb0+oN1euRO/OD89eSM/+n/9vUG1Uj6otiQ/iRhUvXgiEr5EpAS/vw+7PZ/6Y73W21k+/d2RP30MwL60S1O/zRzIPvKjKz/F20e/a0KjP9Vm0r6jFG4/5sWNPySWW7/hBdE+JJZjPgaohD+BW4e+01psP5XZez9NVEQ/JL5/PgAenD01BzY/6tsAPyWpl73HQCW+7jXEvu9EMz9NmoQ/0eldvub0Dr9WFUi7efX7vuqG4z1qyDI+OHN8Pybty75FsIQ//EqMvyt1DD/AvWi/mxhov/wM0D77zRi/hEGDPzYSlr5FdHK/ei8YvbPIfT90aRO/OMwRvx2Zzr5yx4o9f+3DvrOgJT/2RP6+xm0Sv6Z/4D7ub36/Y/9PPueIPT+QftU+DKPAvVpBm77valy+b/dyPLCHED/kVgy9ToaPv5uuMb9as4E+W/vUPvC9lr6PVp+9tL5AvtTUNr5z3Q4/xZUhPrDbkT509qi+jru1PuKRBj+M35C95qy1PM9Ljz9OL469VJEAPlc6sj7tazU/L9GSP1BFhz+72yQ+7stivvMJbz4Gsu6+MLITvwHXo7715I6/LjxJPrODHj/DbKQ+x8ftvjMgFT9RZTC/MW6ePTsXCz8fbPM9GneKvuXCpD7++Au/l+rSPzI+2L74cQG+U5xiv/FdTj/UxDg/Lx+SvyX5mL5N4ps/CBB3vrcf1b2E3u6/FiKLvtNCBD0aWwy/nUUsP0QAar0Fx4e/ubaMvmm8nL7hY/29y1dnP5Ndr7+HBrK+nR2/P0jV3L3F2dg+lynyPV+Xkb9LLS0/GJadPiFN2D6lAm29h5nIPgLojL/061c+xAd6PgqSmr9cIpA//tD5PULChD/lvly+y1oCP1rFHT9my7U+75lhP5/mFL6Z0ba/csJjv1UBGr9KtiG/y1ZPPrarjD/rqJm+KDi6PgsUyb9auhO/+hchPsDYX79BUTC/a9WDP/n8Ij+cEU0+9bIKP8dhmr4KH0s/YvKgPjijmb7K6JQ92SfovMKjBT9Gkak+Xi9jP0ftw76R7nk+TkX0vu/bVL7l9Vo+sZxuPksNkT4RAsq+8RqZvo6EHL/rX9u+p0X6vowlwT41a7w+mnJ1vmtZuD/xfl4/Z69wvmOFRb/Zv/m+mgwMvvOSpr4cMBO+tXzwvPzt5T6TB7I/iY5Hv+EkKz9Ey6W+RORlP7YNHr0rP1q7",
          "dtype": "f4"
         },
         "xaxis": "x",
         "y": {
          "bdata": "7e+evWoavr2yPe09+ai5PUVntj4AtYU+wjT7Pb+8CT7RNuC8ki1bPgGfAD6m1yM+TgLOPVjJMr9yer4+BpsEPqxAYD1516a+ZY6UPi4SML2UWrI+04MhPo990j625+8+GeJZP4ZI6r0xtRG9tVgOPjafoz7PuXg+HYgIPim7tT20/D0+q2GyvSzUND6X9kU9Fz4KPy10Kb5uIbm//vzsOE0JMz5laVQ/PSpHPQFkoj2pWpI+gI3Dv/lOTz64PZW92RkQPL59gj6Irq++20R5PWZXKj90fGO+xA8vP2pvMj43mqG81wqAPb0s1z5aGag9bHp3PuhVgD967wi/6ApePqlPXT5Jz6S+HZSvvpNG975t2PS/O8w1P1U5Nj9SfrS/GRSoPa9FA71Jl9C/aYxrvRW0jD8wcxY/oipwPSM2Wr70my+/dVqbPun7pTw6ajg+HpVXPkPQg72RvR09JoIWPjvJuz0WfDk+DTvIvl3vhT55iRg+4q01P5b7GL8Z2CK/FqPaPLGEXL5QUQK9aooavgPCGD8rU8k933t3P0G+tT/NDeY+ipBFPtj1ej4Ezoc+VdzPP6mGa77rAY48BHH9vTFSzD7FZIO/TdItve3jIz5jahY/8K8PvikyAL9AAti/bkRUvsjPw71UtAS/XO0Pv9t5rT7D4/09IOV6PuwDPr1uq4c+x6uSP+SHlL7G/gO9Bs5fPpv2gj95XV67k+lyvLF0Qj7QQ0A9ycM7vuPl0r4qs4M+aAvTPAjVEb9+4aW9fFOhPh8ABz80Q4W/2vW/va3ccj765DE+QD6kP+QsbT84q/U9IbTQvTDBl77fs8E9URu1vmBq0T5ssQ6+cv8Pv8uX2b99Opu+xciTviN0AD8ne5I+cnq0PlihGz8F5l6/NqxOv2sITD9k0iU+ewDOPMse8L8EMye+Bz95vzXBjj4Rlye/jGoQPrsFCz8wG4q8sKojPwzTRb4jzIw+WaTBvmZ5sz/IRQI+i0ZwvX/1rb5W1eC+R7oRvmvH5b3x+HA/5se1PsHeOb4H0nI9r6ChvjB5h73MHSY/ijOvPViWR78gjSm8dZ/1PRFSPD51gYc/fpkIPkLawD6gANe9UbZivLVHEz78EQa+0hnUvmi8mL4Ov0M/+32HvuB7hT4CL7Q9M34kP61dGz3bw9s+RMNzPCRIij6wJLG9Q4+3vsmspb5pJKI+0xkNPX8/5r0CKZ6+z3Pyv7fGEL3OQNG/wN+gPqtXMz67DrM+TLN6vTQFNL9e3ri/6r23PWL7B7/Y+7y/2ATXvqWGZT9q8qk9b8FGPS12Hr9T4zQ+2H4IvgVKHT5C/mI+NlNmPoEqFD4luC8/wR1UPdUOG75y56a+WuroPNYHMr64ipm+Mr7Qvueggr7ob9W+8Kg0PzhNhj7KGjc+ugsFvQfvGsDviQk/c65TvgQE6r48REq/ic/aPhM3HD/1WF2/27Vfvkzjnz5penc+vHvSvPq4vD3GjVo/TY5Bv4umej6sDC4+b/DxvkXqtD83bc8+OkIZvx0xETzRfxk/StsAPvU5Mr4QKuy9YPiqPSdmXb66UEg/0JkOvaZRBcD3pa09oBOLvkbgfj6YPwY+",
          "dtype": "f4"
         },
         "yaxis": "y"
        }
       ],
       "layout": {
        "height": 600,
        "legend": {
         "tracegroupgap": 0
        },
        "template": {
         "data": {
          "bar": [
           {
            "error_x": {
             "color": "#2a3f5f"
            },
            "error_y": {
             "color": "#2a3f5f"
            },
            "marker": {
             "line": {
              "color": "#E5ECF6",
              "width": 0.5
             },
             "pattern": {
              "fillmode": "overlay",
              "size": 10,
              "solidity": 0.2
             }
            },
            "type": "bar"
           }
          ],
          "barpolar": [
           {
            "marker": {
             "line": {
              "color": "#E5ECF6",
              "width": 0.5
             },
             "pattern": {
              "fillmode": "overlay",
              "size": 10,
              "solidity": 0.2
             }
            },
            "type": "barpolar"
           }
          ],
          "carpet": [
           {
            "aaxis": {
             "endlinecolor": "#2a3f5f",
             "gridcolor": "white",
             "linecolor": "white",
             "minorgridcolor": "white",
             "startlinecolor": "#2a3f5f"
            },
            "baxis": {
             "endlinecolor": "#2a3f5f",
             "gridcolor": "white",
             "linecolor": "white",
             "minorgridcolor": "white",
             "startlinecolor": "#2a3f5f"
            },
            "type": "carpet"
           }
          ],
          "choropleth": [
           {
            "colorbar": {
             "outlinewidth": 0,
             "ticks": ""
            },
            "type": "choropleth"
           }
          ],
          "contour": [
           {
            "colorbar": {
             "outlinewidth": 0,
             "ticks": ""
            },
            "colorscale": [
             [
              0,
              "#0d0887"
             ],
             [
              0.1111111111111111,
              "#46039f"
             ],
             [
              0.2222222222222222,
              "#7201a8"
             ],
             [
              0.3333333333333333,
              "#9c179e"
             ],
             [
              0.4444444444444444,
              "#bd3786"
             ],
             [
              0.5555555555555556,
              "#d8576b"
             ],
             [
              0.6666666666666666,
              "#ed7953"
             ],
             [
              0.7777777777777778,
              "#fb9f3a"
             ],
             [
              0.8888888888888888,
              "#fdca26"
             ],
             [
              1,
              "#f0f921"
             ]
            ],
            "type": "contour"
           }
          ],
          "contourcarpet": [
           {
            "colorbar": {
             "outlinewidth": 0,
             "ticks": ""
            },
            "type": "contourcarpet"
           }
          ],
          "heatmap": [
           {
            "colorbar": {
             "outlinewidth": 0,
             "ticks": ""
            },
            "colorscale": [
             [
              0,
              "#0d0887"
             ],
             [
              0.1111111111111111,
              "#46039f"
             ],
             [
              0.2222222222222222,
              "#7201a8"
             ],
             [
              0.3333333333333333,
              "#9c179e"
             ],
             [
              0.4444444444444444,
              "#bd3786"
             ],
             [
              0.5555555555555556,
              "#d8576b"
             ],
             [
              0.6666666666666666,
              "#ed7953"
             ],
             [
              0.7777777777777778,
              "#fb9f3a"
             ],
             [
              0.8888888888888888,
              "#fdca26"
             ],
             [
              1,
              "#f0f921"
             ]
            ],
            "type": "heatmap"
           }
          ],
          "histogram": [
           {
            "marker": {
             "pattern": {
              "fillmode": "overlay",
              "size": 10,
              "solidity": 0.2
             }
            },
            "type": "histogram"
           }
          ],
          "histogram2d": [
           {
            "colorbar": {
             "outlinewidth": 0,
             "ticks": ""
            },
            "colorscale": [
             [
              0,
              "#0d0887"
             ],
             [
              0.1111111111111111,
              "#46039f"
             ],
             [
              0.2222222222222222,
              "#7201a8"
             ],
             [
              0.3333333333333333,
              "#9c179e"
             ],
             [
              0.4444444444444444,
              "#bd3786"
             ],
             [
              0.5555555555555556,
              "#d8576b"
             ],
             [
              0.6666666666666666,
              "#ed7953"
             ],
             [
              0.7777777777777778,
              "#fb9f3a"
             ],
             [
              0.8888888888888888,
              "#fdca26"
             ],
             [
              1,
              "#f0f921"
             ]
            ],
            "type": "histogram2d"
           }
          ],
          "histogram2dcontour": [
           {
            "colorbar": {
             "outlinewidth": 0,
             "ticks": ""
            },
            "colorscale": [
             [
              0,
              "#0d0887"
             ],
             [
              0.1111111111111111,
              "#46039f"
             ],
             [
              0.2222222222222222,
              "#7201a8"
             ],
             [
              0.3333333333333333,
              "#9c179e"
             ],
             [
              0.4444444444444444,
              "#bd3786"
             ],
             [
              0.5555555555555556,
              "#d8576b"
             ],
             [
              0.6666666666666666,
              "#ed7953"
             ],
             [
              0.7777777777777778,
              "#fb9f3a"
             ],
             [
              0.8888888888888888,
              "#fdca26"
             ],
             [
              1,
              "#f0f921"
             ]
            ],
            "type": "histogram2dcontour"
           }
          ],
          "mesh3d": [
           {
            "colorbar": {
             "outlinewidth": 0,
             "ticks": ""
            },
            "type": "mesh3d"
           }
          ],
          "parcoords": [
           {
            "line": {
             "colorbar": {
              "outlinewidth": 0,
              "ticks": ""
             }
            },
            "type": "parcoords"
           }
          ],
          "pie": [
           {
            "automargin": true,
            "type": "pie"
           }
          ],
          "scatter": [
           {
            "fillpattern": {
             "fillmode": "overlay",
             "size": 10,
             "solidity": 0.2
            },
            "type": "scatter"
           }
          ],
          "scatter3d": [
           {
            "line": {
             "colorbar": {
              "outlinewidth": 0,
              "ticks": ""
             }
            },
            "marker": {
             "colorbar": {
              "outlinewidth": 0,
              "ticks": ""
             }
            },
            "type": "scatter3d"
           }
          ],
          "scattercarpet": [
           {
            "marker": {
             "colorbar": {
              "outlinewidth": 0,
              "ticks": ""
             }
            },
            "type": "scattercarpet"
           }
          ],
          "scattergeo": [
           {
            "marker": {
             "colorbar": {
              "outlinewidth": 0,
              "ticks": ""
             }
            },
            "type": "scattergeo"
           }
          ],
          "scattergl": [
           {
            "marker": {
             "colorbar": {
              "outlinewidth": 0,
              "ticks": ""
             }
            },
            "type": "scattergl"
           }
          ],
          "scattermap": [
           {
            "marker": {
             "colorbar": {
              "outlinewidth": 0,
              "ticks": ""
             }
            },
            "type": "scattermap"
           }
          ],
          "scattermapbox": [
           {
            "marker": {
             "colorbar": {
              "outlinewidth": 0,
              "ticks": ""
             }
            },
            "type": "scattermapbox"
           }
          ],
          "scatterpolar": [
           {
            "marker": {
             "colorbar": {
              "outlinewidth": 0,
              "ticks": ""
             }
            },
            "type": "scatterpolar"
           }
          ],
          "scatterpolargl": [
           {
            "marker": {
             "colorbar": {
              "outlinewidth": 0,
              "ticks": ""
             }
            },
            "type": "scatterpolargl"
           }
          ],
          "scatterternary": [
           {
            "marker": {
             "colorbar": {
              "outlinewidth": 0,
              "ticks": ""
             }
            },
            "type": "scatterternary"
           }
          ],
          "surface": [
           {
            "colorbar": {
             "outlinewidth": 0,
             "ticks": ""
            },
            "colorscale": [
             [
              0,
              "#0d0887"
             ],
             [
              0.1111111111111111,
              "#46039f"
             ],
             [
              0.2222222222222222,
              "#7201a8"
             ],
             [
              0.3333333333333333,
              "#9c179e"
             ],
             [
              0.4444444444444444,
              "#bd3786"
             ],
             [
              0.5555555555555556,
              "#d8576b"
             ],
             [
              0.6666666666666666,
              "#ed7953"
             ],
             [
              0.7777777777777778,
              "#fb9f3a"
             ],
             [
              0.8888888888888888,
              "#fdca26"
             ],
             [
              1,
              "#f0f921"
             ]
            ],
            "type": "surface"
           }
          ],
          "table": [
           {
            "cells": {
             "fill": {
              "color": "#EBF0F8"
             },
             "line": {
              "color": "white"
             }
            },
            "header": {
             "fill": {
              "color": "#C8D4E3"
             },
             "line": {
              "color": "white"
             }
            },
            "type": "table"
           }
          ]
         },
         "layout": {
          "annotationdefaults": {
           "arrowcolor": "#2a3f5f",
           "arrowhead": 0,
           "arrowwidth": 1
          },
          "autotypenumbers": "strict",
          "coloraxis": {
           "colorbar": {
            "outlinewidth": 0,
            "ticks": ""
           }
          },
          "colorscale": {
           "diverging": [
            [
             0,
             "#8e0152"
            ],
            [
             0.1,
             "#c51b7d"
            ],
            [
             0.2,
             "#de77ae"
            ],
            [
             0.3,
             "#f1b6da"
            ],
            [
             0.4,
             "#fde0ef"
            ],
            [
             0.5,
             "#f7f7f7"
            ],
            [
             0.6,
             "#e6f5d0"
            ],
            [
             0.7,
             "#b8e186"
            ],
            [
             0.8,
             "#7fbc41"
            ],
            [
             0.9,
             "#4d9221"
            ],
            [
             1,
             "#276419"
            ]
           ],
           "sequential": [
            [
             0,
             "#0d0887"
            ],
            [
             0.1111111111111111,
             "#46039f"
            ],
            [
             0.2222222222222222,
             "#7201a8"
            ],
            [
             0.3333333333333333,
             "#9c179e"
            ],
            [
             0.4444444444444444,
             "#bd3786"
            ],
            [
             0.5555555555555556,
             "#d8576b"
            ],
            [
             0.6666666666666666,
             "#ed7953"
            ],
            [
             0.7777777777777778,
             "#fb9f3a"
            ],
            [
             0.8888888888888888,
             "#fdca26"
            ],
            [
             1,
             "#f0f921"
            ]
           ],
           "sequentialminus": [
            [
             0,
             "#0d0887"
            ],
            [
             0.1111111111111111,
             "#46039f"
            ],
            [
             0.2222222222222222,
             "#7201a8"
            ],
            [
             0.3333333333333333,
             "#9c179e"
            ],
            [
             0.4444444444444444,
             "#bd3786"
            ],
            [
             0.5555555555555556,
             "#d8576b"
            ],
            [
             0.6666666666666666,
             "#ed7953"
            ],
            [
             0.7777777777777778,
             "#fb9f3a"
            ],
            [
             0.8888888888888888,
             "#fdca26"
            ],
            [
             1,
             "#f0f921"
            ]
           ]
          },
          "colorway": [
           "#636efa",
           "#EF553B",
           "#00cc96",
           "#ab63fa",
           "#FFA15A",
           "#19d3f3",
           "#FF6692",
           "#B6E880",
           "#FF97FF",
           "#FECB52"
          ],
          "font": {
           "color": "#2a3f5f"
          },
          "geo": {
           "bgcolor": "white",
           "lakecolor": "white",
           "landcolor": "#E5ECF6",
           "showlakes": true,
           "showland": true,
           "subunitcolor": "white"
          },
          "hoverlabel": {
           "align": "left"
          },
          "hovermode": "closest",
          "mapbox": {
           "style": "light"
          },
          "paper_bgcolor": "white",
          "plot_bgcolor": "#E5ECF6",
          "polar": {
           "angularaxis": {
            "gridcolor": "white",
            "linecolor": "white",
            "ticks": ""
           },
           "bgcolor": "#E5ECF6",
           "radialaxis": {
            "gridcolor": "white",
            "linecolor": "white",
            "ticks": ""
           }
          },
          "scene": {
           "xaxis": {
            "backgroundcolor": "#E5ECF6",
            "gridcolor": "white",
            "gridwidth": 2,
            "linecolor": "white",
            "showbackground": true,
            "ticks": "",
            "zerolinecolor": "white"
           },
           "yaxis": {
            "backgroundcolor": "#E5ECF6",
            "gridcolor": "white",
            "gridwidth": 2,
            "linecolor": "white",
            "showbackground": true,
            "ticks": "",
            "zerolinecolor": "white"
           },
           "zaxis": {
            "backgroundcolor": "#E5ECF6",
            "gridcolor": "white",
            "gridwidth": 2,
            "linecolor": "white",
            "showbackground": true,
            "ticks": "",
            "zerolinecolor": "white"
           }
          },
          "shapedefaults": {
           "line": {
            "color": "#2a3f5f"
           }
          },
          "ternary": {
           "aaxis": {
            "gridcolor": "white",
            "linecolor": "white",
            "ticks": ""
           },
           "baxis": {
            "gridcolor": "white",
            "linecolor": "white",
            "ticks": ""
           },
           "bgcolor": "#E5ECF6",
           "caxis": {
            "gridcolor": "white",
            "linecolor": "white",
            "ticks": ""
           }
          },
          "title": {
           "x": 0.05
          },
          "xaxis": {
           "automargin": true,
           "gridcolor": "white",
           "linecolor": "white",
           "ticks": "",
           "title": {
            "standoff": 15
           },
           "zerolinecolor": "white",
           "zerolinewidth": 2
          },
          "yaxis": {
           "automargin": true,
           "gridcolor": "white",
           "linecolor": "white",
           "ticks": "",
           "title": {
            "standoff": 15
           },
           "zerolinecolor": "white",
           "zerolinewidth": 2
          }
         }
        },
        "title": {
         "text": "PCA Visualization - Word2Vec Embeddings"
        },
        "width": 800,
        "xaxis": {
         "anchor": "y",
         "domain": [
          0,
          1
         ],
         "title": {
          "text": "x"
         }
        },
        "yaxis": {
         "anchor": "x",
         "domain": [
          0,
          1
         ],
         "title": {
          "text": "y"
         }
        }
       }
      }
     },
     "metadata": {},
     "output_type": "display_data"
    },
    {
     "data": {
      "application/vnd.plotly.v1+json": {
       "config": {
        "plotlyServerURL": "https://plot.ly"
       },
       "data": [
        {
         "hovertemplate": "<b>%{hovertext}</b><br><br>x=%{x}<br>y=%{y}<extra></extra>",
         "hovertext": [
          "said",
          "would",
          "also",
          "new",
          "people",
          "one",
          "year",
          "could",
          "last",
          "first",
          "years",
          "two",
          "time",
          "government",
          "world",
          "make",
          "best",
          "told",
          "get",
          "made",
          "like",
          "film",
          "game",
          "many",
          "music",
          "next",
          "back",
          "three",
          "number",
          "well",
          "take",
          "added",
          "way",
          "bbc",
          "set",
          "says",
          "market",
          "may",
          "labour",
          "home",
          "good",
          "games",
          "going",
          "still",
          "company",
          "election",
          "much",
          "win",
          "since",
          "work",
          "â£m",
          "think",
          "use",
          "say",
          "million",
          "show",
          "part",
          "play",
          "firm",
          "top",
          "want",
          "technology",
          "public",
          "second",
          "see",
          "england",
          "british",
          "week",
          "blair",
          "players",
          "used",
          "party",
          "news",
          "european",
          "minister",
          "however",
          "mobile",
          "sales",
          "even",
          "expected",
          "plans",
          "end",
          "months",
          "five",
          "already",
          "put",
          "group",
          "growth",
          "come",
          "six",
          "chief",
          "service",
          "four",
          "firms",
          "former",
          "economy",
          "services",
          "dont",
          "money",
          "deal",
          "companies",
          "director",
          "net",
          "users",
          "according",
          "help",
          "need",
          "system",
          "digital",
          "record",
          "including",
          "right",
          "industry",
          "tax",
          "big",
          "place",
          "around",
          "international",
          "london",
          "brown",
          "report",
          "day",
          "economic",
          "wales",
          "business",
          "great",
          "really",
          "move",
          "another",
          "software",
          "country",
          "got",
          "future",
          "phone",
          "third",
          "took",
          "open",
          "month",
          "came",
          "bank",
          "start",
          "know",
          "spokesman",
          "team",
          "europe",
          "information",
          "general",
          "hit",
          "better",
          "radio",
          "video",
          "online",
          "without",
          "final",
          "club",
          "high",
          "office",
          "life",
          "despite",
          "decision",
          "howard",
          "law",
          "court",
          "found",
          "far",
          "likely",
          "using",
          "campaign",
          "britain",
          "data",
          "action",
          "seen",
          "prime",
          "figures",
          "â£bn",
          "security",
          "saying",
          "give",
          "media",
          "real",
          "lot",
          "given",
          "awards",
          "national",
          "computer",
          "offer",
          "away",
          "president",
          "nations",
          "called",
          "countries",
          "able",
          "every",
          "executive",
          "lost",
          "oil",
          "united",
          "become",
          "france",
          "foreign",
          "rise",
          "side",
          "times",
          "internet",
          "making",
          "although",
          "cup",
          "long",
          "january",
          "days",
          "state",
          "later",
          "player",
          "whether",
          "taking",
          "past",
          "research",
          "ireland",
          "look",
          "prices",
          "early",
          "december",
          "case",
          "yearold",
          "less",
          "legal",
          "recent",
          "earlier",
          "secretary",
          "star",
          "leader",
          "biggest",
          "playing",
          "analysts",
          "due",
          "spending",
          "michael",
          "interest",
          "bill",
          "lord",
          "house",
          "films",
          "played",
          "award",
          "role",
          "never",
          "strong",
          "shares",
          "important",
          "current",
          "match",
          "hard",
          "support",
          "went",
          "left",
          "increase",
          "pay",
          "believe",
          "cut",
          "following",
          "local",
          "control",
          "little",
          "major",
          "run",
          "tory",
          "currently",
          "financial",
          "ahead",
          "police",
          "looking",
          "half",
          "issue",
          "change",
          "working",
          "thought",
          "face",
          "return",
          "different",
          "john",
          "latest",
          "rights",
          "held",
          "broadband",
          "cost",
          "david",
          "weeks",
          "something",
          "yet",
          "series",
          "south",
          "among",
          "announced",
          "access",
          "man",
          "chancellor",
          "try",
          "trade",
          "must",
          "line"
         ],
         "legendgroup": "",
         "marker": {
          "color": "#636efa",
          "symbol": "circle"
         },
         "mode": "markers",
         "name": "",
         "orientation": "v",
         "showlegend": false,
         "type": "scatter",
         "x": {
          "bdata": "yZHjP/dEW0DvbkVAePR/v+7DCb3aQPw/wwMTwJ1vokCkfA/AJaluQABn17i6VxRANgyhQApFGEAxPjvAaLsrPzRQekAWDVJBRPa1PVwx/D14C11A09K1PYww7sDrv1TAxAf/wOr+7sDsarvACf1nQBopzEBGxwFAkS3TQFLywkB9zdnAeQJ9QawPycB6ASlBxmOWvCgdWMAHRMrBNmYZQfPHz7+piaRBVjOXP0Jj9kArkSLB5ga4wdKHDEGFQKS/Vmy2wK3OoEAaW/xB3PoxQUdDccBuSstAEAtwQFFsi0Ep7ZFA7l4bwUhwE0FfBOA/5PRMwdEih0EweG8/7Kr2v2BIBEGA2hrChfUXwdAPj0HzOPDBDsavwTvrhUGEDN3Be7ZhQbGcS0HFJfzBkPg0wLN93cEm4VnBbBOTwCUxTMEZYffAH6lKQbGSuUGbLLDBmqsYQbMsxsHdz2fBG7kwwR8a9EDrzCnC9gEnwcmDWUAPlGpAGHsVwolHhEF8lqLBqfJgvw73ZEG2YQlCdvxUv3vgCMG1UfzA6i+gwbhN7MH7upTAyfLsP9RPk8DGQspBKW2iQSRFDsBP/P/BK4b3QZUrQcBy1+DBbIb0wS4qAEHKktFBJ9kmwaWPgcEwSRbCYoaGwayzB8CL46XBLkUmwiJDQcEkIznBL0ABQX4yx8GkcSxBRcgrwn1cQcF9Bj/BoVGEQVzz+MH4mUPChp4SP70WAcJvQM1BqKaTQeg3xMGYAFxBau2RQe4/E0EbVJnBxS/zwJzfJkL2DKfB59iFQdkS5kH2ApdBalwuwpwlsUGEP3nBwqvTwfVkgEGSGgxCmuskQQcDC8JvYn7BroLdQZSZfcHoAa9BMt8FQsUfMsEPCqhASxauQTyLw8Ht+YjBWiJdwQ4+38HqH0hCwsXCwcCA98HfPCNBV/2YQf6d9kGVDBRBZsm+QZkxrUGFGdFBtW7+QHAnJkIAwXE/UHFwwehGz8ECHeNBJAsdwaMmUUFFYDTCzziOwa+0/sF5wrBBXwkPQh3fQcFhP5vAqsg4wTgM48GrG99ByWwTwqlrg0HqiCnBJNOnweoGzkAPnrLBDaMOQgXkUUHGZt3AooWRwfCy+EHayznBdro2QJNsREJQxU7BiMAzQg4xhMHHYjvCkm+5QcxVLsJpzUBBqrUBwtZiksD3BypCqLGrQZ8UksFCuP/APrNCQg4gMcKgNbxBzS7CQa3+p0Bq7B3ChHemwdpQCULlhNvBRyIRQrq45kE0Bw3CdVZfwBRr6UFqqhbCI5ihQVzxUcDk87zBKvORQAaUH0Ast6nADee+wE7vT8G0PzVBpI2NQEtAnL+zZu9BkASYwMu7d0HAM/1BKv3xQHbqz0A7rjtBsHsoQXPgFEIhMTBBLkhfQVv4vEDUw5fBDNoRQvQwx8EEKfE/56qQwMO130BCMwhCabqjwaKDjcHxKdDAYocqQqSRGEJJNnTBlbnLQXO9V0GbE1HC9kNhP9dRE8JLfx1CL0XxwK4YaEHQfDlC01CAwUuas0HYlVxBT6OAwfic/MGy1JZBBjWQwRF04UHzOyFC49S3wD1hDsLsY3RBE2ssQeXtj0FnFcpB",
          "dtype": "f4"
         },
         "xaxis": "x",
         "y": {
          "bdata": "c960v/nHE8AdVss+aAqIPzucUMBPWWrALcfnv3Qen783DGFA//aBQKmm5UAkI8RAZtp6wKPmNcFfdxlBLIdAO4MSiEE9HXXAVKKrwPBOgkBU/tPA1s+ZQQJRG0HgsZLA9DMVwVB2Vj/VcgbATKQEQTv52kC3GhZA/zRqQKaIfj9sfqPAIgFBwBYVg0BMep6/wJstQeR2C750x2nArnyjQGCt68AnGTVAtYwGwfRj2b+5Mc3AjhjNwPcmkMCwYTDBq1rhQMsGG8EFmK5BPojcwOQCZcGqhsjA/LFGwlE20sCvzG3B3z1EQXYuDkE3YWJBAb18v68/1D+7GGPBsdBwQSvKCcFOPWFB51sPwBXCjUGw3qC/gV5TQfohWEGbULDANzuJv10lg0H7kmFAHE7IQOxzA8JzQCFC+bfxwB++HkHuFFbBEQLaQMU72b+g3qHBndfrPwAtCUESjgrC8H/4QXuaRsGgd3O/L7XKQBmL8MGaKDRBjaGTweaztkCM269AiNKHwV7uDMFKgDvAfk/Zwcl/jcExIcFBmRAbwlTIocFrWi3B03e6wQkI7T9yhYfBKkR2wRtHBcLAwC1BHujrwH9nHsI578zB6bEbwXZ6gEEM2iRBS3kSQCYCA0ImBZBAwAqZwTZ0rcHHFq1BpSVEQchDoMHMxKZBHDGEwRltO8HSYEtB+Ky8wehLf0EJ0SPBDrC1wWfaDMI3uwdBhlYYQpawbMHlCwlCUdEUQafMkEE79aRBoDIqwTOBqEEAdGU/vyYRQo/g97993ATBcyo2Qhmy1L/uRyDA3O3dQRzuzcGs9W7BDLYBQvUz70GqswlCAW5PQr7/y8EOnqFBVui1wTjoSkF4jDHCNm8mQN2ZxcHAZ/VBaxfYwItgckC7Jb/BDuc/wrEZLMKxqjTApjMrQkDMokD3vdJBcrbywejti8GeBObBBzEJws/fSEFQUsrAyxYIwg0tZ0Go8LBBP8sEQFrmhcGMXttBZ5XwwaLKOkARMAY/MxtBwKjF30Gi8dxBdrOnwQ+MvUAnoShCF8AkwtRDs0EDLuvBZUAHQjItj8EHoV5CQOMQQkifEULQEdLBqGeIQT1LO8IY23BBF5lbwoEyJkItImnBUf0RwgOnaUHtpM9BNWsOwd0LLcF1GYHBgbM2wXpdjEGHkpvBhHqLQeoUR0FZibhBegGkwYxGgkEjdw7CPd52wSXgD8HPRh9CQk6CQVxNxkF7DfzB81n/wfzXSMG+LlhBrv7ZQdEjpECw9aTAlf3IQTjuHMIwQi/BOR+wQfB4nkEc/dVBMC6gQZnUl8GSl+HBYapEQv5Ol8AVwTDBjqEqwjx6AkKSsXNB5iCTwXtUx0EQfRlBafsrQgLHocHCcHHBrbW7wTFHHEFrnR7CwB0lQWNQyMHjDxxBZkgKwmusHb8yJT1Cf0E7wkViQEHRcNrB52pmwdk+Q0JYWrjBmFPHwZW7+sCBZ+bBeM2qQZrEGULGeWvATPDcQXLvtkFo1XtAkPOXQdf22cEPvMZAIcHbwHrw3EBvTwTCBonKQDG4H0IV0ApCjh7XQfYhQcEi6XzBaE3uQdLMjT/Wh1bBfXgAQqkjGMKRmRJA",
          "dtype": "f4"
         },
         "yaxis": "y"
        }
       ],
       "layout": {
        "height": 600,
        "legend": {
         "tracegroupgap": 0
        },
        "template": {
         "data": {
          "bar": [
           {
            "error_x": {
             "color": "#2a3f5f"
            },
            "error_y": {
             "color": "#2a3f5f"
            },
            "marker": {
             "line": {
              "color": "#E5ECF6",
              "width": 0.5
             },
             "pattern": {
              "fillmode": "overlay",
              "size": 10,
              "solidity": 0.2
             }
            },
            "type": "bar"
           }
          ],
          "barpolar": [
           {
            "marker": {
             "line": {
              "color": "#E5ECF6",
              "width": 0.5
             },
             "pattern": {
              "fillmode": "overlay",
              "size": 10,
              "solidity": 0.2
             }
            },
            "type": "barpolar"
           }
          ],
          "carpet": [
           {
            "aaxis": {
             "endlinecolor": "#2a3f5f",
             "gridcolor": "white",
             "linecolor": "white",
             "minorgridcolor": "white",
             "startlinecolor": "#2a3f5f"
            },
            "baxis": {
             "endlinecolor": "#2a3f5f",
             "gridcolor": "white",
             "linecolor": "white",
             "minorgridcolor": "white",
             "startlinecolor": "#2a3f5f"
            },
            "type": "carpet"
           }
          ],
          "choropleth": [
           {
            "colorbar": {
             "outlinewidth": 0,
             "ticks": ""
            },
            "type": "choropleth"
           }
          ],
          "contour": [
           {
            "colorbar": {
             "outlinewidth": 0,
             "ticks": ""
            },
            "colorscale": [
             [
              0,
              "#0d0887"
             ],
             [
              0.1111111111111111,
              "#46039f"
             ],
             [
              0.2222222222222222,
              "#7201a8"
             ],
             [
              0.3333333333333333,
              "#9c179e"
             ],
             [
              0.4444444444444444,
              "#bd3786"
             ],
             [
              0.5555555555555556,
              "#d8576b"
             ],
             [
              0.6666666666666666,
              "#ed7953"
             ],
             [
              0.7777777777777778,
              "#fb9f3a"
             ],
             [
              0.8888888888888888,
              "#fdca26"
             ],
             [
              1,
              "#f0f921"
             ]
            ],
            "type": "contour"
           }
          ],
          "contourcarpet": [
           {
            "colorbar": {
             "outlinewidth": 0,
             "ticks": ""
            },
            "type": "contourcarpet"
           }
          ],
          "heatmap": [
           {
            "colorbar": {
             "outlinewidth": 0,
             "ticks": ""
            },
            "colorscale": [
             [
              0,
              "#0d0887"
             ],
             [
              0.1111111111111111,
              "#46039f"
             ],
             [
              0.2222222222222222,
              "#7201a8"
             ],
             [
              0.3333333333333333,
              "#9c179e"
             ],
             [
              0.4444444444444444,
              "#bd3786"
             ],
             [
              0.5555555555555556,
              "#d8576b"
             ],
             [
              0.6666666666666666,
              "#ed7953"
             ],
             [
              0.7777777777777778,
              "#fb9f3a"
             ],
             [
              0.8888888888888888,
              "#fdca26"
             ],
             [
              1,
              "#f0f921"
             ]
            ],
            "type": "heatmap"
           }
          ],
          "histogram": [
           {
            "marker": {
             "pattern": {
              "fillmode": "overlay",
              "size": 10,
              "solidity": 0.2
             }
            },
            "type": "histogram"
           }
          ],
          "histogram2d": [
           {
            "colorbar": {
             "outlinewidth": 0,
             "ticks": ""
            },
            "colorscale": [
             [
              0,
              "#0d0887"
             ],
             [
              0.1111111111111111,
              "#46039f"
             ],
             [
              0.2222222222222222,
              "#7201a8"
             ],
             [
              0.3333333333333333,
              "#9c179e"
             ],
             [
              0.4444444444444444,
              "#bd3786"
             ],
             [
              0.5555555555555556,
              "#d8576b"
             ],
             [
              0.6666666666666666,
              "#ed7953"
             ],
             [
              0.7777777777777778,
              "#fb9f3a"
             ],
             [
              0.8888888888888888,
              "#fdca26"
             ],
             [
              1,
              "#f0f921"
             ]
            ],
            "type": "histogram2d"
           }
          ],
          "histogram2dcontour": [
           {
            "colorbar": {
             "outlinewidth": 0,
             "ticks": ""
            },
            "colorscale": [
             [
              0,
              "#0d0887"
             ],
             [
              0.1111111111111111,
              "#46039f"
             ],
             [
              0.2222222222222222,
              "#7201a8"
             ],
             [
              0.3333333333333333,
              "#9c179e"
             ],
             [
              0.4444444444444444,
              "#bd3786"
             ],
             [
              0.5555555555555556,
              "#d8576b"
             ],
             [
              0.6666666666666666,
              "#ed7953"
             ],
             [
              0.7777777777777778,
              "#fb9f3a"
             ],
             [
              0.8888888888888888,
              "#fdca26"
             ],
             [
              1,
              "#f0f921"
             ]
            ],
            "type": "histogram2dcontour"
           }
          ],
          "mesh3d": [
           {
            "colorbar": {
             "outlinewidth": 0,
             "ticks": ""
            },
            "type": "mesh3d"
           }
          ],
          "parcoords": [
           {
            "line": {
             "colorbar": {
              "outlinewidth": 0,
              "ticks": ""
             }
            },
            "type": "parcoords"
           }
          ],
          "pie": [
           {
            "automargin": true,
            "type": "pie"
           }
          ],
          "scatter": [
           {
            "fillpattern": {
             "fillmode": "overlay",
             "size": 10,
             "solidity": 0.2
            },
            "type": "scatter"
           }
          ],
          "scatter3d": [
           {
            "line": {
             "colorbar": {
              "outlinewidth": 0,
              "ticks": ""
             }
            },
            "marker": {
             "colorbar": {
              "outlinewidth": 0,
              "ticks": ""
             }
            },
            "type": "scatter3d"
           }
          ],
          "scattercarpet": [
           {
            "marker": {
             "colorbar": {
              "outlinewidth": 0,
              "ticks": ""
             }
            },
            "type": "scattercarpet"
           }
          ],
          "scattergeo": [
           {
            "marker": {
             "colorbar": {
              "outlinewidth": 0,
              "ticks": ""
             }
            },
            "type": "scattergeo"
           }
          ],
          "scattergl": [
           {
            "marker": {
             "colorbar": {
              "outlinewidth": 0,
              "ticks": ""
             }
            },
            "type": "scattergl"
           }
          ],
          "scattermap": [
           {
            "marker": {
             "colorbar": {
              "outlinewidth": 0,
              "ticks": ""
             }
            },
            "type": "scattermap"
           }
          ],
          "scattermapbox": [
           {
            "marker": {
             "colorbar": {
              "outlinewidth": 0,
              "ticks": ""
             }
            },
            "type": "scattermapbox"
           }
          ],
          "scatterpolar": [
           {
            "marker": {
             "colorbar": {
              "outlinewidth": 0,
              "ticks": ""
             }
            },
            "type": "scatterpolar"
           }
          ],
          "scatterpolargl": [
           {
            "marker": {
             "colorbar": {
              "outlinewidth": 0,
              "ticks": ""
             }
            },
            "type": "scatterpolargl"
           }
          ],
          "scatterternary": [
           {
            "marker": {
             "colorbar": {
              "outlinewidth": 0,
              "ticks": ""
             }
            },
            "type": "scatterternary"
           }
          ],
          "surface": [
           {
            "colorbar": {
             "outlinewidth": 0,
             "ticks": ""
            },
            "colorscale": [
             [
              0,
              "#0d0887"
             ],
             [
              0.1111111111111111,
              "#46039f"
             ],
             [
              0.2222222222222222,
              "#7201a8"
             ],
             [
              0.3333333333333333,
              "#9c179e"
             ],
             [
              0.4444444444444444,
              "#bd3786"
             ],
             [
              0.5555555555555556,
              "#d8576b"
             ],
             [
              0.6666666666666666,
              "#ed7953"
             ],
             [
              0.7777777777777778,
              "#fb9f3a"
             ],
             [
              0.8888888888888888,
              "#fdca26"
             ],
             [
              1,
              "#f0f921"
             ]
            ],
            "type": "surface"
           }
          ],
          "table": [
           {
            "cells": {
             "fill": {
              "color": "#EBF0F8"
             },
             "line": {
              "color": "white"
             }
            },
            "header": {
             "fill": {
              "color": "#C8D4E3"
             },
             "line": {
              "color": "white"
             }
            },
            "type": "table"
           }
          ]
         },
         "layout": {
          "annotationdefaults": {
           "arrowcolor": "#2a3f5f",
           "arrowhead": 0,
           "arrowwidth": 1
          },
          "autotypenumbers": "strict",
          "coloraxis": {
           "colorbar": {
            "outlinewidth": 0,
            "ticks": ""
           }
          },
          "colorscale": {
           "diverging": [
            [
             0,
             "#8e0152"
            ],
            [
             0.1,
             "#c51b7d"
            ],
            [
             0.2,
             "#de77ae"
            ],
            [
             0.3,
             "#f1b6da"
            ],
            [
             0.4,
             "#fde0ef"
            ],
            [
             0.5,
             "#f7f7f7"
            ],
            [
             0.6,
             "#e6f5d0"
            ],
            [
             0.7,
             "#b8e186"
            ],
            [
             0.8,
             "#7fbc41"
            ],
            [
             0.9,
             "#4d9221"
            ],
            [
             1,
             "#276419"
            ]
           ],
           "sequential": [
            [
             0,
             "#0d0887"
            ],
            [
             0.1111111111111111,
             "#46039f"
            ],
            [
             0.2222222222222222,
             "#7201a8"
            ],
            [
             0.3333333333333333,
             "#9c179e"
            ],
            [
             0.4444444444444444,
             "#bd3786"
            ],
            [
             0.5555555555555556,
             "#d8576b"
            ],
            [
             0.6666666666666666,
             "#ed7953"
            ],
            [
             0.7777777777777778,
             "#fb9f3a"
            ],
            [
             0.8888888888888888,
             "#fdca26"
            ],
            [
             1,
             "#f0f921"
            ]
           ],
           "sequentialminus": [
            [
             0,
             "#0d0887"
            ],
            [
             0.1111111111111111,
             "#46039f"
            ],
            [
             0.2222222222222222,
             "#7201a8"
            ],
            [
             0.3333333333333333,
             "#9c179e"
            ],
            [
             0.4444444444444444,
             "#bd3786"
            ],
            [
             0.5555555555555556,
             "#d8576b"
            ],
            [
             0.6666666666666666,
             "#ed7953"
            ],
            [
             0.7777777777777778,
             "#fb9f3a"
            ],
            [
             0.8888888888888888,
             "#fdca26"
            ],
            [
             1,
             "#f0f921"
            ]
           ]
          },
          "colorway": [
           "#636efa",
           "#EF553B",
           "#00cc96",
           "#ab63fa",
           "#FFA15A",
           "#19d3f3",
           "#FF6692",
           "#B6E880",
           "#FF97FF",
           "#FECB52"
          ],
          "font": {
           "color": "#2a3f5f"
          },
          "geo": {
           "bgcolor": "white",
           "lakecolor": "white",
           "landcolor": "#E5ECF6",
           "showlakes": true,
           "showland": true,
           "subunitcolor": "white"
          },
          "hoverlabel": {
           "align": "left"
          },
          "hovermode": "closest",
          "mapbox": {
           "style": "light"
          },
          "paper_bgcolor": "white",
          "plot_bgcolor": "#E5ECF6",
          "polar": {
           "angularaxis": {
            "gridcolor": "white",
            "linecolor": "white",
            "ticks": ""
           },
           "bgcolor": "#E5ECF6",
           "radialaxis": {
            "gridcolor": "white",
            "linecolor": "white",
            "ticks": ""
           }
          },
          "scene": {
           "xaxis": {
            "backgroundcolor": "#E5ECF6",
            "gridcolor": "white",
            "gridwidth": 2,
            "linecolor": "white",
            "showbackground": true,
            "ticks": "",
            "zerolinecolor": "white"
           },
           "yaxis": {
            "backgroundcolor": "#E5ECF6",
            "gridcolor": "white",
            "gridwidth": 2,
            "linecolor": "white",
            "showbackground": true,
            "ticks": "",
            "zerolinecolor": "white"
           },
           "zaxis": {
            "backgroundcolor": "#E5ECF6",
            "gridcolor": "white",
            "gridwidth": 2,
            "linecolor": "white",
            "showbackground": true,
            "ticks": "",
            "zerolinecolor": "white"
           }
          },
          "shapedefaults": {
           "line": {
            "color": "#2a3f5f"
           }
          },
          "ternary": {
           "aaxis": {
            "gridcolor": "white",
            "linecolor": "white",
            "ticks": ""
           },
           "baxis": {
            "gridcolor": "white",
            "linecolor": "white",
            "ticks": ""
           },
           "bgcolor": "#E5ECF6",
           "caxis": {
            "gridcolor": "white",
            "linecolor": "white",
            "ticks": ""
           }
          },
          "title": {
           "x": 0.05
          },
          "xaxis": {
           "automargin": true,
           "gridcolor": "white",
           "linecolor": "white",
           "ticks": "",
           "title": {
            "standoff": 15
           },
           "zerolinecolor": "white",
           "zerolinewidth": 2
          },
          "yaxis": {
           "automargin": true,
           "gridcolor": "white",
           "linecolor": "white",
           "ticks": "",
           "title": {
            "standoff": 15
           },
           "zerolinecolor": "white",
           "zerolinewidth": 2
          }
         }
        },
        "title": {
         "text": "t-SNE Visualization - Word2Vec Embeddings"
        },
        "width": 800,
        "xaxis": {
         "anchor": "y",
         "domain": [
          0,
          1
         ],
         "title": {
          "text": "x"
         }
        },
        "yaxis": {
         "anchor": "x",
         "domain": [
          0,
          1
         ],
         "title": {
          "text": "y"
         }
        }
       }
      }
     },
     "metadata": {},
     "output_type": "display_data"
    }
   ],
   "source": [
    "words_to_plot_count = 300\n",
    "plot_words = vocabulary[:words_to_plot_count]\n",
    "plot_indices = [word_to_idx[word] for word in plot_words]\n",
    "\n",
    "visualize_embeddings(svd_vectors[plot_indices], plot_words, title=\"SVD Embeddings\")\n",
    "\n",
    "visualize_embeddings(w2v_vectors[plot_indices], plot_words, title=\"Word2Vec Embeddings\")"
   ]
  },
  {
   "cell_type": "markdown",
   "id": "991cd363",
   "metadata": {},
   "source": [
    "# In Lab Evaluation\n"
   ]
  },
  {
   "cell_type": "code",
   "execution_count": 12,
   "id": "4ab67e14",
   "metadata": {},
   "outputs": [
    {
     "name": "stdout",
     "output_type": "stream",
     "text": [
      "Neighborhood visualization function defined.\n"
     ]
    }
   ],
   "source": [
    "def visualize_word_neighborhoods(query_words, all_vectors, word_to_idx, idx_to_word, model_name):\n",
    "    words_to_plot = []\n",
    "    vectors_to_plot = []\n",
    "    categories = [] \n",
    "\n",
    "    print(f\"\\n--- Generating Neighborhood Plot for {model_name} ---\")\n",
    "    \n",
    "    for query in query_words:\n",
    "        neighbors = get_most_similar(query, all_vectors, word_to_idx, idx_to_word, top_n=20)\n",
    "        words_in_neighborhood = [query] + neighbors\n",
    "        indices = [word_to_idx[word] for word in words_in_neighborhood if word in word_to_idx]\n",
    "        \n",
    "        if not indices:\n",
    "            continue\n",
    "            \n",
    "        vectors = all_vectors[indices]\n",
    "        \n",
    "        words_to_plot.extend(words_in_neighborhood)\n",
    "        vectors_to_plot.append(vectors)\n",
    "        categories.extend([query] * len(words_in_neighborhood))\n",
    "\n",
    "    if not vectors_to_plot:\n",
    "        print(\"No words found to plot.\")\n",
    "        return\n",
    "    combined_vectors = np.vstack(vectors_to_plot)\n",
    "    pca = PCA(n_components=2, random_state=RANDOM_SEED)\n",
    "    vectors_2d = pca.fit_transform(combined_vectors)\n",
    "    \n",
    "    # 3. Create a DataFrame for plotting\n",
    "    plot_df = pd.DataFrame({\n",
    "        'x': vectors_2d[:, 0],\n",
    "        'y': vectors_2d[:, 1],\n",
    "        'word': words_to_plot,\n",
    "        'category': categories\n",
    "    })\n",
    "    \n",
    "    fig = px.scatter(\n",
    "        plot_df,\n",
    "        x='x',\n",
    "        y='y',\n",
    "        text='word',\n",
    "        color='category',\n",
    "        title=f\"PCA of Word Neighborhoods - {model_name}\"\n",
    "    )\n",
    "    fig.update_traces(textposition='top center', mode='markers+text')\n",
    "    fig.update_layout(height=700, legend_title_text='Query Word')\n",
    "    fig.show()\n",
    "\n",
    "print(\"Neighborhood visualization function defined.\")"
   ]
  },
  {
   "cell_type": "code",
   "execution_count": 13,
   "id": "11b1443b",
   "metadata": {},
   "outputs": [
    {
     "name": "stdout",
     "output_type": "stream",
     "text": [
      "\n",
      "--- Generating Neighborhood Plot for SVD ---\n"
     ]
    },
    {
     "data": {
      "application/vnd.plotly.v1+json": {
       "config": {
        "plotlyServerURL": "https://plot.ly"
       },
       "data": [
        {
         "hovertemplate": "category=market<br>x=%{x}<br>y=%{y}<br>word=%{text}<extra></extra>",
         "legendgroup": "market",
         "marker": {
          "color": "#636efa",
          "symbol": "circle"
         },
         "mode": "markers+text",
         "name": "market",
         "orientation": "v",
         "showlegend": true,
         "text": [
          "market",
          "stock",
          "share",
          "analysts",
          "growth",
          "prices",
          "however",
          "demand",
          "recent",
          "year",
          "business",
          "biggest",
          "firm",
          "firms",
          "exchange",
          "housing",
          "value",
          "companies",
          "europe",
          "may",
          "rise"
         ],
         "textposition": "top center",
         "type": "scatter",
         "x": {
          "bdata": "Kf001EUuMsDIylRFYgcowO0C1ehp0yfAlmKZmiz0LMA/pCoOE7YuwIWXsFpliCzAInIXTS4WJMCbRn9zLOYowJR1k0SLlRPA5wlNVCAFCMBPVqt5TfQowCx1fkdwyBDAgwGQgJYqMcDk2+5vVJ0zwHJRN8d6qibAVLOr9iI+JMCWGRQgbd8mwCdcSJR0IjDAXB1jtygrH8DLZJ43DRQiwEYOMAzd1CjA",
          "dtype": "f8"
         },
         "xaxis": "x",
         "y": {
          "bdata": "ezTZ5LEnAEC1pst6OnzXP+eBcctMBv4/QQ1tnz5N4T9+4NVSl8gDwKRhnyfFX/e/ZrZ2bDDdE8D3+HAVoXLTv/x78N2MFQjAjkN3xHfMCsDVBBY+iqubv7u2/3oPXe0/HcaBDk5KHkA5nogT62wmQJ43oHqzrfa/GctyHWcb+r9NDspFhjfbP/3FmhXhnBRAgCIN1ynMEcAByq9poYchwBjNKjy/FALA",
          "dtype": "f8"
         },
         "yaxis": "y"
        },
        {
         "hovertemplate": "category=film<br>x=%{x}<br>y=%{y}<br>word=%{text}<extra></extra>",
         "legendgroup": "film",
         "marker": {
          "color": "#EF553B",
          "symbol": "circle"
         },
         "mode": "markers+text",
         "name": "film",
         "orientation": "v",
         "showlegend": true,
         "text": [
          "film",
          "films",
          "movie",
          "best",
          "actress",
          "director",
          "awards",
          "actor",
          "directed",
          "award",
          "oscarnominated",
          "oscar",
          "nominated",
          "lowbudget",
          "drama",
          "festival",
          "category",
          "hollywood",
          "starring",
          "screenplay",
          "oscars"
         ],
         "textposition": "top center",
         "type": "scatter",
         "x": {
          "bdata": "TdsrRb53SEB0geKWd8g2QI9ZoKoWZDlAU4LSZQMlRkCmoA33EMlFQJYeWHXi7TxAR1HayxpMRECxiZJfwitFQA2VFyM+PzNAuxKZNhTqRED4c3nAQFEqQEQWi/YUPUBAQqVeKI4BQUD0sob1B9ooQAHfjNTCczlAfhhGRghhNUCO22KFpLg8QAXFKDR7PzlAjY1ijUo0PUAxbM89azwxQKSgTMNI9TlA",
          "dtype": "f8"
         },
         "xaxis": "x",
         "y": {
          "bdata": "8nCUuKYBIkC239ylzn8hQA+oqP9W4SRAq/KsoS2hC0AjnLc3EnMhQEi/Y5ZxABVAqcDlyYDFFkC/ckH/2B8gQHcgVh6XqxdAqs5plRmkF0CjwkuayIYXQAU80US9jxpAL182Uud3IEB7Wx9N+QUYQJCHqTdb/RdAKCyjDrnrDUBG6fc8q60eQMRZU+OgmB5AOkdgNwjKIUCXnnBhJnUdQAierI8M/xZA",
          "dtype": "f8"
         },
         "yaxis": "y"
        },
        {
         "hovertemplate": "category=election<br>x=%{x}<br>y=%{y}<br>word=%{text}<extra></extra>",
         "legendgroup": "election",
         "marker": {
          "color": "#00cc96",
          "symbol": "circle"
         },
         "mode": "markers+text",
         "name": "election",
         "orientation": "v",
         "showlegend": true,
         "text": [
          "election",
          "labour",
          "general",
          "partys",
          "labours",
          "campaign",
          "party",
          "blair",
          "manifesto",
          "voters",
          "kennedy",
          "conservatives",
          "slogan",
          "campaigning",
          "tories",
          "seats",
          "milburn",
          "prime",
          "preelection",
          "tony",
          "elections"
         ],
         "textposition": "top center",
         "type": "scatter",
         "x": {
          "bdata": "gn/VqZ11I8C2rxfwN9gkwMDJieo1YBzAFHjrS76PIMB/2VTCta4hwOwoffbt8xjASeD4baJEI8Bql4jhPm0gwHrRQw5HHxnA1yTq1YaZEcBH2JFvbuobwGLW1d4JGyHAjKZu5pCzEsDlRYLoO+wXwBK84Va6hiTAZUGbDifrGMAqpdOCN18YwBzBTtwfFSHAhI6yX46mFsB9oKczpwwUwC+WG31wzh3A",
          "dtype": "f8"
         },
         "xaxis": "x",
         "y": {
          "bdata": "CWuOQO9hO8CdBlhjV8w9wKuuaNn7wC7Awz+2FhXeMsAeLFd22/k0wNlbkZSoVzHAoZiuxbNlOcDs9j1Ik7Y5wF6ajn8FQCXAyamg5jsaMcBhccrcD6kwwEwOeqTs0y3AcZuaVcoSGcA502QSmvMlwCzp0nnT/DTA/8r+ew5cJ8BaMC7g4SQpwMX8Rooh+TXAczZuGeS0IcCVCv3gcuAywFZd93MDXiTA",
          "dtype": "f8"
         },
         "yaxis": "y"
        },
        {
         "hovertemplate": "category=game<br>x=%{x}<br>y=%{y}<br>word=%{text}<extra></extra>",
         "legendgroup": "game",
         "marker": {
          "color": "#ab63fa",
          "symbol": "circle"
         },
         "mode": "markers+text",
         "name": "game",
         "orientation": "v",
         "showlegend": true,
         "text": [
          "game",
          "play",
          "games",
          "playing",
          "players",
          "first",
          "time",
          "got",
          "good",
          "match",
          "win",
          "back",
          "side",
          "played",
          "going",
          "get",
          "two",
          "like",
          "well",
          "really",
          "team"
         ],
         "textposition": "top center",
         "type": "scatter",
         "x": {
          "bdata": "HuoJEFqRCkAA/HAF4OgWQJZczrrBft6/2NB9BQzPHEB4zPqtUvuuv/Q5xwiJvB9Al/2xtDY2yr9k2DJgYEETQE4XxC3BgM+/UUk5CklnCkDD/2HrlWUxQBaCBLMW4ee/YzxfLhQdBkBC6MqZSwInQIkNKJ9exf6/V1mffhJCBsCUQz6PtMISQMWbh/bWpgPAoU3g2YFo8z/DD3BiFxflP3PoRBbMNAZA",
          "dtype": "f8"
         },
         "xaxis": "x",
         "y": {
          "bdata": "jArqv1N3JsA1cxxCG7UhwI1lrE5dXvG/xoHgpJ+QHsCebHCGn1kfwMxBG6nhgSDALAM47IylHsA28rLzbDAmwOtIYUzFRCXAF5Dcj9wTL8CrfGA2Dl4rwIYVQTLYTyzAJBGxGhCmL8AN579XYfMmwIBBYhpsPybA+mg43xRuG8Cfitsmd5AiwOpNAonG1Q/AvVg/LTKIIMDTBhQwTfoewDEsWZgz/ybA",
          "dtype": "f8"
         },
         "yaxis": "y"
        },
        {
         "hovertemplate": "category=software<br>x=%{x}<br>y=%{y}<br>word=%{text}<extra></extra>",
         "legendgroup": "software",
         "marker": {
          "color": "#FFA15A",
          "symbol": "circle"
         },
         "mode": "markers+text",
         "name": "software",
         "orientation": "v",
         "showlegend": true,
         "text": [
          "software",
          "programs",
          "microsoft",
          "windows",
          "users",
          "program",
          "pcs",
          "linux",
          "antivirus",
          "microsofts",
          "computer",
          "security",
          "tools",
          "harbouring",
          "firewall",
          "spyware",
          "precursor",
          "system",
          "desktop",
          "internet",
          "manually"
         ],
         "textposition": "top center",
         "type": "scatter",
         "x": {
          "bdata": "VTmOxTPuNMDRI4Sb/+wxwLjszBU1HjLAmyQCsbZ0MMA32hyF1LAzwJ4/rX/LnzDAL0rNp9PPK8C9gVmG0iofwDsA63/KFCnA/cQWNbziKsC/50ecDUYswFHed+xEPzLA3gaID0nbJMDO3oMlFcIcwPGqdjBPfyDAlgysPFwbLMC+nUUE1ZUZwDQrrMe6fTDAUmKnCF+PJMCf+5JRoHMtwB7Khzs5RBzA",
          "dtype": "f8"
         },
         "xaxis": "x",
         "y": {
          "bdata": "WxgkCHKXP0DGfGRtK2k9QItcefXDKzpA49G5cU3FPECAj5WodI85QP2Z7Jy3rD1A/JdF3ZdxN0BhsdYqP7InQD67QF4MAzZAC0CVvRo1N0BFI7cnE28zQEnnyhWjrjRALByOwhelMEAus3WIWFspQG76n+6+/ipADFofM6XpN0D6voA5KjYlQO0Gg3X0XCNA3ajZkegoMUCa/k9TFkkxQOKogI6S9CdA",
          "dtype": "f8"
         },
         "yaxis": "y"
        }
       ],
       "layout": {
        "height": 700,
        "legend": {
         "title": {
          "text": "Query Word"
         },
         "tracegroupgap": 0
        },
        "template": {
         "data": {
          "bar": [
           {
            "error_x": {
             "color": "#2a3f5f"
            },
            "error_y": {
             "color": "#2a3f5f"
            },
            "marker": {
             "line": {
              "color": "#E5ECF6",
              "width": 0.5
             },
             "pattern": {
              "fillmode": "overlay",
              "size": 10,
              "solidity": 0.2
             }
            },
            "type": "bar"
           }
          ],
          "barpolar": [
           {
            "marker": {
             "line": {
              "color": "#E5ECF6",
              "width": 0.5
             },
             "pattern": {
              "fillmode": "overlay",
              "size": 10,
              "solidity": 0.2
             }
            },
            "type": "barpolar"
           }
          ],
          "carpet": [
           {
            "aaxis": {
             "endlinecolor": "#2a3f5f",
             "gridcolor": "white",
             "linecolor": "white",
             "minorgridcolor": "white",
             "startlinecolor": "#2a3f5f"
            },
            "baxis": {
             "endlinecolor": "#2a3f5f",
             "gridcolor": "white",
             "linecolor": "white",
             "minorgridcolor": "white",
             "startlinecolor": "#2a3f5f"
            },
            "type": "carpet"
           }
          ],
          "choropleth": [
           {
            "colorbar": {
             "outlinewidth": 0,
             "ticks": ""
            },
            "type": "choropleth"
           }
          ],
          "contour": [
           {
            "colorbar": {
             "outlinewidth": 0,
             "ticks": ""
            },
            "colorscale": [
             [
              0,
              "#0d0887"
             ],
             [
              0.1111111111111111,
              "#46039f"
             ],
             [
              0.2222222222222222,
              "#7201a8"
             ],
             [
              0.3333333333333333,
              "#9c179e"
             ],
             [
              0.4444444444444444,
              "#bd3786"
             ],
             [
              0.5555555555555556,
              "#d8576b"
             ],
             [
              0.6666666666666666,
              "#ed7953"
             ],
             [
              0.7777777777777778,
              "#fb9f3a"
             ],
             [
              0.8888888888888888,
              "#fdca26"
             ],
             [
              1,
              "#f0f921"
             ]
            ],
            "type": "contour"
           }
          ],
          "contourcarpet": [
           {
            "colorbar": {
             "outlinewidth": 0,
             "ticks": ""
            },
            "type": "contourcarpet"
           }
          ],
          "heatmap": [
           {
            "colorbar": {
             "outlinewidth": 0,
             "ticks": ""
            },
            "colorscale": [
             [
              0,
              "#0d0887"
             ],
             [
              0.1111111111111111,
              "#46039f"
             ],
             [
              0.2222222222222222,
              "#7201a8"
             ],
             [
              0.3333333333333333,
              "#9c179e"
             ],
             [
              0.4444444444444444,
              "#bd3786"
             ],
             [
              0.5555555555555556,
              "#d8576b"
             ],
             [
              0.6666666666666666,
              "#ed7953"
             ],
             [
              0.7777777777777778,
              "#fb9f3a"
             ],
             [
              0.8888888888888888,
              "#fdca26"
             ],
             [
              1,
              "#f0f921"
             ]
            ],
            "type": "heatmap"
           }
          ],
          "histogram": [
           {
            "marker": {
             "pattern": {
              "fillmode": "overlay",
              "size": 10,
              "solidity": 0.2
             }
            },
            "type": "histogram"
           }
          ],
          "histogram2d": [
           {
            "colorbar": {
             "outlinewidth": 0,
             "ticks": ""
            },
            "colorscale": [
             [
              0,
              "#0d0887"
             ],
             [
              0.1111111111111111,
              "#46039f"
             ],
             [
              0.2222222222222222,
              "#7201a8"
             ],
             [
              0.3333333333333333,
              "#9c179e"
             ],
             [
              0.4444444444444444,
              "#bd3786"
             ],
             [
              0.5555555555555556,
              "#d8576b"
             ],
             [
              0.6666666666666666,
              "#ed7953"
             ],
             [
              0.7777777777777778,
              "#fb9f3a"
             ],
             [
              0.8888888888888888,
              "#fdca26"
             ],
             [
              1,
              "#f0f921"
             ]
            ],
            "type": "histogram2d"
           }
          ],
          "histogram2dcontour": [
           {
            "colorbar": {
             "outlinewidth": 0,
             "ticks": ""
            },
            "colorscale": [
             [
              0,
              "#0d0887"
             ],
             [
              0.1111111111111111,
              "#46039f"
             ],
             [
              0.2222222222222222,
              "#7201a8"
             ],
             [
              0.3333333333333333,
              "#9c179e"
             ],
             [
              0.4444444444444444,
              "#bd3786"
             ],
             [
              0.5555555555555556,
              "#d8576b"
             ],
             [
              0.6666666666666666,
              "#ed7953"
             ],
             [
              0.7777777777777778,
              "#fb9f3a"
             ],
             [
              0.8888888888888888,
              "#fdca26"
             ],
             [
              1,
              "#f0f921"
             ]
            ],
            "type": "histogram2dcontour"
           }
          ],
          "mesh3d": [
           {
            "colorbar": {
             "outlinewidth": 0,
             "ticks": ""
            },
            "type": "mesh3d"
           }
          ],
          "parcoords": [
           {
            "line": {
             "colorbar": {
              "outlinewidth": 0,
              "ticks": ""
             }
            },
            "type": "parcoords"
           }
          ],
          "pie": [
           {
            "automargin": true,
            "type": "pie"
           }
          ],
          "scatter": [
           {
            "fillpattern": {
             "fillmode": "overlay",
             "size": 10,
             "solidity": 0.2
            },
            "type": "scatter"
           }
          ],
          "scatter3d": [
           {
            "line": {
             "colorbar": {
              "outlinewidth": 0,
              "ticks": ""
             }
            },
            "marker": {
             "colorbar": {
              "outlinewidth": 0,
              "ticks": ""
             }
            },
            "type": "scatter3d"
           }
          ],
          "scattercarpet": [
           {
            "marker": {
             "colorbar": {
              "outlinewidth": 0,
              "ticks": ""
             }
            },
            "type": "scattercarpet"
           }
          ],
          "scattergeo": [
           {
            "marker": {
             "colorbar": {
              "outlinewidth": 0,
              "ticks": ""
             }
            },
            "type": "scattergeo"
           }
          ],
          "scattergl": [
           {
            "marker": {
             "colorbar": {
              "outlinewidth": 0,
              "ticks": ""
             }
            },
            "type": "scattergl"
           }
          ],
          "scattermap": [
           {
            "marker": {
             "colorbar": {
              "outlinewidth": 0,
              "ticks": ""
             }
            },
            "type": "scattermap"
           }
          ],
          "scattermapbox": [
           {
            "marker": {
             "colorbar": {
              "outlinewidth": 0,
              "ticks": ""
             }
            },
            "type": "scattermapbox"
           }
          ],
          "scatterpolar": [
           {
            "marker": {
             "colorbar": {
              "outlinewidth": 0,
              "ticks": ""
             }
            },
            "type": "scatterpolar"
           }
          ],
          "scatterpolargl": [
           {
            "marker": {
             "colorbar": {
              "outlinewidth": 0,
              "ticks": ""
             }
            },
            "type": "scatterpolargl"
           }
          ],
          "scatterternary": [
           {
            "marker": {
             "colorbar": {
              "outlinewidth": 0,
              "ticks": ""
             }
            },
            "type": "scatterternary"
           }
          ],
          "surface": [
           {
            "colorbar": {
             "outlinewidth": 0,
             "ticks": ""
            },
            "colorscale": [
             [
              0,
              "#0d0887"
             ],
             [
              0.1111111111111111,
              "#46039f"
             ],
             [
              0.2222222222222222,
              "#7201a8"
             ],
             [
              0.3333333333333333,
              "#9c179e"
             ],
             [
              0.4444444444444444,
              "#bd3786"
             ],
             [
              0.5555555555555556,
              "#d8576b"
             ],
             [
              0.6666666666666666,
              "#ed7953"
             ],
             [
              0.7777777777777778,
              "#fb9f3a"
             ],
             [
              0.8888888888888888,
              "#fdca26"
             ],
             [
              1,
              "#f0f921"
             ]
            ],
            "type": "surface"
           }
          ],
          "table": [
           {
            "cells": {
             "fill": {
              "color": "#EBF0F8"
             },
             "line": {
              "color": "white"
             }
            },
            "header": {
             "fill": {
              "color": "#C8D4E3"
             },
             "line": {
              "color": "white"
             }
            },
            "type": "table"
           }
          ]
         },
         "layout": {
          "annotationdefaults": {
           "arrowcolor": "#2a3f5f",
           "arrowhead": 0,
           "arrowwidth": 1
          },
          "autotypenumbers": "strict",
          "coloraxis": {
           "colorbar": {
            "outlinewidth": 0,
            "ticks": ""
           }
          },
          "colorscale": {
           "diverging": [
            [
             0,
             "#8e0152"
            ],
            [
             0.1,
             "#c51b7d"
            ],
            [
             0.2,
             "#de77ae"
            ],
            [
             0.3,
             "#f1b6da"
            ],
            [
             0.4,
             "#fde0ef"
            ],
            [
             0.5,
             "#f7f7f7"
            ],
            [
             0.6,
             "#e6f5d0"
            ],
            [
             0.7,
             "#b8e186"
            ],
            [
             0.8,
             "#7fbc41"
            ],
            [
             0.9,
             "#4d9221"
            ],
            [
             1,
             "#276419"
            ]
           ],
           "sequential": [
            [
             0,
             "#0d0887"
            ],
            [
             0.1111111111111111,
             "#46039f"
            ],
            [
             0.2222222222222222,
             "#7201a8"
            ],
            [
             0.3333333333333333,
             "#9c179e"
            ],
            [
             0.4444444444444444,
             "#bd3786"
            ],
            [
             0.5555555555555556,
             "#d8576b"
            ],
            [
             0.6666666666666666,
             "#ed7953"
            ],
            [
             0.7777777777777778,
             "#fb9f3a"
            ],
            [
             0.8888888888888888,
             "#fdca26"
            ],
            [
             1,
             "#f0f921"
            ]
           ],
           "sequentialminus": [
            [
             0,
             "#0d0887"
            ],
            [
             0.1111111111111111,
             "#46039f"
            ],
            [
             0.2222222222222222,
             "#7201a8"
            ],
            [
             0.3333333333333333,
             "#9c179e"
            ],
            [
             0.4444444444444444,
             "#bd3786"
            ],
            [
             0.5555555555555556,
             "#d8576b"
            ],
            [
             0.6666666666666666,
             "#ed7953"
            ],
            [
             0.7777777777777778,
             "#fb9f3a"
            ],
            [
             0.8888888888888888,
             "#fdca26"
            ],
            [
             1,
             "#f0f921"
            ]
           ]
          },
          "colorway": [
           "#636efa",
           "#EF553B",
           "#00cc96",
           "#ab63fa",
           "#FFA15A",
           "#19d3f3",
           "#FF6692",
           "#B6E880",
           "#FF97FF",
           "#FECB52"
          ],
          "font": {
           "color": "#2a3f5f"
          },
          "geo": {
           "bgcolor": "white",
           "lakecolor": "white",
           "landcolor": "#E5ECF6",
           "showlakes": true,
           "showland": true,
           "subunitcolor": "white"
          },
          "hoverlabel": {
           "align": "left"
          },
          "hovermode": "closest",
          "mapbox": {
           "style": "light"
          },
          "paper_bgcolor": "white",
          "plot_bgcolor": "#E5ECF6",
          "polar": {
           "angularaxis": {
            "gridcolor": "white",
            "linecolor": "white",
            "ticks": ""
           },
           "bgcolor": "#E5ECF6",
           "radialaxis": {
            "gridcolor": "white",
            "linecolor": "white",
            "ticks": ""
           }
          },
          "scene": {
           "xaxis": {
            "backgroundcolor": "#E5ECF6",
            "gridcolor": "white",
            "gridwidth": 2,
            "linecolor": "white",
            "showbackground": true,
            "ticks": "",
            "zerolinecolor": "white"
           },
           "yaxis": {
            "backgroundcolor": "#E5ECF6",
            "gridcolor": "white",
            "gridwidth": 2,
            "linecolor": "white",
            "showbackground": true,
            "ticks": "",
            "zerolinecolor": "white"
           },
           "zaxis": {
            "backgroundcolor": "#E5ECF6",
            "gridcolor": "white",
            "gridwidth": 2,
            "linecolor": "white",
            "showbackground": true,
            "ticks": "",
            "zerolinecolor": "white"
           }
          },
          "shapedefaults": {
           "line": {
            "color": "#2a3f5f"
           }
          },
          "ternary": {
           "aaxis": {
            "gridcolor": "white",
            "linecolor": "white",
            "ticks": ""
           },
           "baxis": {
            "gridcolor": "white",
            "linecolor": "white",
            "ticks": ""
           },
           "bgcolor": "#E5ECF6",
           "caxis": {
            "gridcolor": "white",
            "linecolor": "white",
            "ticks": ""
           }
          },
          "title": {
           "x": 0.05
          },
          "xaxis": {
           "automargin": true,
           "gridcolor": "white",
           "linecolor": "white",
           "ticks": "",
           "title": {
            "standoff": 15
           },
           "zerolinecolor": "white",
           "zerolinewidth": 2
          },
          "yaxis": {
           "automargin": true,
           "gridcolor": "white",
           "linecolor": "white",
           "ticks": "",
           "title": {
            "standoff": 15
           },
           "zerolinecolor": "white",
           "zerolinewidth": 2
          }
         }
        },
        "title": {
         "text": "PCA of Word Neighborhoods - SVD"
        },
        "xaxis": {
         "anchor": "y",
         "domain": [
          0,
          1
         ],
         "title": {
          "text": "x"
         }
        },
        "yaxis": {
         "anchor": "x",
         "domain": [
          0,
          1
         ],
         "title": {
          "text": "y"
         }
        }
       }
      }
     },
     "metadata": {},
     "output_type": "display_data"
    },
    {
     "name": "stdout",
     "output_type": "stream",
     "text": [
      "\n",
      "--- Generating Neighborhood Plot for Word2Vec ---\n"
     ]
    },
    {
     "data": {
      "application/vnd.plotly.v1+json": {
       "config": {
        "plotlyServerURL": "https://plot.ly"
       },
       "data": [
        {
         "hovertemplate": "category=market<br>x=%{x}<br>y=%{y}<br>word=%{text}<extra></extra>",
         "legendgroup": "market",
         "marker": {
          "color": "#636efa",
          "symbol": "circle"
         },
         "mode": "markers+text",
         "name": "market",
         "orientation": "v",
         "showlegend": true,
         "text": [
          "market",
          "stock",
          "shares",
          "value",
          "detroit",
          "housing",
          "carmakers",
          "notebook",
          "luxury",
          "halifax",
          "steadily",
          "share",
          "boerse",
          "lse",
          "exchange",
          "investors",
          "reinsurance",
          "rapid",
          "kingfisher",
          "diageo",
          "banking"
         ],
         "textposition": "top center",
         "type": "scatter",
         "x": {
          "bdata": "1x0BwLQlt78OI/K/6+/bv9/xBEEkIZK/0QDDQMrXJUGqfAtA9uSdQJWxsUBB4wrAcf9KvfVqLL8aIBLAqAAPwGDcAkFbUq6+tP0aQQ7IP0FEGq+/",
          "dtype": "f4"
         },
         "xaxis": "x",
         "y": {
          "bdata": "xZq7P5ZfrD9Yyok/ZO8uP3Zp6EDzGP89N32mQAG+TkA+rdE/w4GmvpkHrL8xUbM/HQiFPonpmD8uNK0/lVpoP/CB/0AVFYE/YZ4RQU7KLUEQ+FU/",
          "dtype": "f4"
         },
         "yaxis": "y"
        },
        {
         "hovertemplate": "category=film<br>x=%{x}<br>y=%{y}<br>word=%{text}<extra></extra>",
         "legendgroup": "film",
         "marker": {
          "color": "#EF553B",
          "symbol": "circle"
         },
         "mode": "markers+text",
         "name": "film",
         "orientation": "v",
         "showlegend": true,
         "text": [
          "film",
          "movie",
          "awards",
          "festival",
          "oscar",
          "aviator",
          "actress",
          "starring",
          "films",
          "cinema",
          "documentary",
          "actor",
          "directed",
          "hollywood",
          "academy",
          "screenplay",
          "sideways",
          "award",
          "spacey",
          "filmmaker",
          "gritty"
         ],
         "textposition": "top center",
         "type": "scatter",
         "x": {
          "bdata": "WxwpwDPUDcCjtRTA6woFwGC/CMAcF26/UcLnv0pDnb/0GS7AUTzGv0ASsb8xAu2/cgCvv9L58L80qAbAlXNhP7StDL+GWBrAEGujQC1unz9c0T1A",
          "dtype": "f4"
         },
         "xaxis": "x",
         "y": {
          "bdata": "c3ViPnjt4D5bDxo9FDUYP/zQaT5iFwC90OW0Pl8sdz7enJ8+AYyUPADchD+HWBs/pCXAPaypnj6GsSU+FbamPuZE2D4QhpQ+Cb50wAbvPL972lrA",
          "dtype": "f4"
         },
         "yaxis": "y"
        },
        {
         "hovertemplate": "category=election<br>x=%{x}<br>y=%{y}<br>word=%{text}<extra></extra>",
         "legendgroup": "election",
         "marker": {
          "color": "#00cc96",
          "symbol": "circle"
         },
         "mode": "markers+text",
         "name": "election",
         "orientation": "v",
         "showlegend": true,
         "text": [
          "election",
          "general",
          "labour",
          "party",
          "blair",
          "campaign",
          "labours",
          "votes",
          "partys",
          "tories",
          "mock",
          "prime",
          "voters",
          "conservatives",
          "tax",
          "parties",
          "blairs",
          "elections",
          "turnout",
          "manifesto",
          "taxes"
         ],
         "textposition": "top center",
         "type": "scatter",
         "x": {
          "bdata": "rnIvwC2pJsCTZS3AG8gkwJnaHsAksjvASz0ewLqAA8DKceW/3uorwFvkv0DhhRvAU9UMwG/bGcClqiPAd5ofwJ+MoL915fK/XCLMP8/XvL85EAjA",
          "dtype": "f4"
         },
         "xaxis": "x",
         "y": {
          "bdata": "Z2qWPl/JDj4rlCo/kSYOPgxvaz7M7AU/7TAavpnnQb2hC+k+nGYJP+MDoL9EK2s+fro7P/scvj6H0Ok+kQhAP7BA7r4ZXHU+ZWShvqX5Sj69Wcs+",
          "dtype": "f4"
         },
         "yaxis": "y"
        },
        {
         "hovertemplate": "category=game<br>x=%{x}<br>y=%{y}<br>word=%{text}<extra></extra>",
         "legendgroup": "game",
         "marker": {
          "color": "#ab63fa",
          "symbol": "circle"
         },
         "mode": "markers+text",
         "name": "game",
         "orientation": "v",
         "showlegend": true,
         "text": [
          "game",
          "games",
          "players",
          "played",
          "match",
          "play",
          "halflife",
          "nadal",
          "hes",
          "referee",
          "teams",
          "score",
          "chelsea",
          "premiership",
          "moments",
          "toshack",
          "roddick",
          "points",
          "encounter",
          "magnificent",
          "halo"
         ],
         "textposition": "top center",
         "type": "scatter",
         "x": {
          "bdata": "zkU3wFnBKMC/4DDAePwrwG6CGMDghTTAkTuNP5czmL9Wbf+/IR+tvy+ZJsBHOxjAFoUmwG4lIcAE6hzA6TTGQM3O7r8BJzfAuF+kvjG1ekB+yJq/",
          "dtype": "f4"
         },
         "xaxis": "x",
         "y": {
          "bdata": "iHOvPQRrZ72s+KI+xoG0PsDe0j3FsTo9Mj9fv8tZXr9cgNc93a8Uvo3tuj4tcfC9M7RVPoGfGD+bhIK/j1Kbv2LUYL+q2rg+iDCsvN+3vMAId2C+",
          "dtype": "f4"
         },
         "yaxis": "y"
        },
        {
         "hovertemplate": "category=software<br>x=%{x}<br>y=%{y}<br>word=%{text}<extra></extra>",
         "legendgroup": "software",
         "marker": {
          "color": "#FFA15A",
          "symbol": "circle"
         },
         "mode": "markers+text",
         "name": "software",
         "orientation": "v",
         "showlegend": true,
         "text": [
          "software",
          "programs",
          "microsoft",
          "antivirus",
          "patent",
          "linux",
          "windows",
          "spyware",
          "program",
          "portable",
          "users",
          "dod",
          "surreptitious",
          "patents",
          "updates",
          "shipping",
          "browser",
          "programmers",
          "ibm",
          "spam",
          "tools"
         ],
         "textposition": "top center",
         "type": "scatter",
         "x": {
          "bdata": "RS/Xv5fZCL/JLtq/QEbUPusYBT9rdh5AvS6ev0FjfT7pj0e/N5tqv+BGE8Ahy/pAqURuQStbAr4K8OxAJTLtQEyKrj5uDsRACBYNv9Jhbr+0xaa/",
          "dtype": "f4"
         },
         "xaxis": "x",
         "y": {
          "bdata": "NmdSv2ciVL9J2pS+O7fhv2znNMBhKhPAX8Y3Pdoeqr9Z12q/eGGPvpdkYb5wT/DAcFTTwHp+n78E9QPB0pdOwMx8wr84qOjAuRfpvtJHHL4WcQy/",
          "dtype": "f4"
         },
         "yaxis": "y"
        }
       ],
       "layout": {
        "height": 700,
        "legend": {
         "title": {
          "text": "Query Word"
         },
         "tracegroupgap": 0
        },
        "template": {
         "data": {
          "bar": [
           {
            "error_x": {
             "color": "#2a3f5f"
            },
            "error_y": {
             "color": "#2a3f5f"
            },
            "marker": {
             "line": {
              "color": "#E5ECF6",
              "width": 0.5
             },
             "pattern": {
              "fillmode": "overlay",
              "size": 10,
              "solidity": 0.2
             }
            },
            "type": "bar"
           }
          ],
          "barpolar": [
           {
            "marker": {
             "line": {
              "color": "#E5ECF6",
              "width": 0.5
             },
             "pattern": {
              "fillmode": "overlay",
              "size": 10,
              "solidity": 0.2
             }
            },
            "type": "barpolar"
           }
          ],
          "carpet": [
           {
            "aaxis": {
             "endlinecolor": "#2a3f5f",
             "gridcolor": "white",
             "linecolor": "white",
             "minorgridcolor": "white",
             "startlinecolor": "#2a3f5f"
            },
            "baxis": {
             "endlinecolor": "#2a3f5f",
             "gridcolor": "white",
             "linecolor": "white",
             "minorgridcolor": "white",
             "startlinecolor": "#2a3f5f"
            },
            "type": "carpet"
           }
          ],
          "choropleth": [
           {
            "colorbar": {
             "outlinewidth": 0,
             "ticks": ""
            },
            "type": "choropleth"
           }
          ],
          "contour": [
           {
            "colorbar": {
             "outlinewidth": 0,
             "ticks": ""
            },
            "colorscale": [
             [
              0,
              "#0d0887"
             ],
             [
              0.1111111111111111,
              "#46039f"
             ],
             [
              0.2222222222222222,
              "#7201a8"
             ],
             [
              0.3333333333333333,
              "#9c179e"
             ],
             [
              0.4444444444444444,
              "#bd3786"
             ],
             [
              0.5555555555555556,
              "#d8576b"
             ],
             [
              0.6666666666666666,
              "#ed7953"
             ],
             [
              0.7777777777777778,
              "#fb9f3a"
             ],
             [
              0.8888888888888888,
              "#fdca26"
             ],
             [
              1,
              "#f0f921"
             ]
            ],
            "type": "contour"
           }
          ],
          "contourcarpet": [
           {
            "colorbar": {
             "outlinewidth": 0,
             "ticks": ""
            },
            "type": "contourcarpet"
           }
          ],
          "heatmap": [
           {
            "colorbar": {
             "outlinewidth": 0,
             "ticks": ""
            },
            "colorscale": [
             [
              0,
              "#0d0887"
             ],
             [
              0.1111111111111111,
              "#46039f"
             ],
             [
              0.2222222222222222,
              "#7201a8"
             ],
             [
              0.3333333333333333,
              "#9c179e"
             ],
             [
              0.4444444444444444,
              "#bd3786"
             ],
             [
              0.5555555555555556,
              "#d8576b"
             ],
             [
              0.6666666666666666,
              "#ed7953"
             ],
             [
              0.7777777777777778,
              "#fb9f3a"
             ],
             [
              0.8888888888888888,
              "#fdca26"
             ],
             [
              1,
              "#f0f921"
             ]
            ],
            "type": "heatmap"
           }
          ],
          "histogram": [
           {
            "marker": {
             "pattern": {
              "fillmode": "overlay",
              "size": 10,
              "solidity": 0.2
             }
            },
            "type": "histogram"
           }
          ],
          "histogram2d": [
           {
            "colorbar": {
             "outlinewidth": 0,
             "ticks": ""
            },
            "colorscale": [
             [
              0,
              "#0d0887"
             ],
             [
              0.1111111111111111,
              "#46039f"
             ],
             [
              0.2222222222222222,
              "#7201a8"
             ],
             [
              0.3333333333333333,
              "#9c179e"
             ],
             [
              0.4444444444444444,
              "#bd3786"
             ],
             [
              0.5555555555555556,
              "#d8576b"
             ],
             [
              0.6666666666666666,
              "#ed7953"
             ],
             [
              0.7777777777777778,
              "#fb9f3a"
             ],
             [
              0.8888888888888888,
              "#fdca26"
             ],
             [
              1,
              "#f0f921"
             ]
            ],
            "type": "histogram2d"
           }
          ],
          "histogram2dcontour": [
           {
            "colorbar": {
             "outlinewidth": 0,
             "ticks": ""
            },
            "colorscale": [
             [
              0,
              "#0d0887"
             ],
             [
              0.1111111111111111,
              "#46039f"
             ],
             [
              0.2222222222222222,
              "#7201a8"
             ],
             [
              0.3333333333333333,
              "#9c179e"
             ],
             [
              0.4444444444444444,
              "#bd3786"
             ],
             [
              0.5555555555555556,
              "#d8576b"
             ],
             [
              0.6666666666666666,
              "#ed7953"
             ],
             [
              0.7777777777777778,
              "#fb9f3a"
             ],
             [
              0.8888888888888888,
              "#fdca26"
             ],
             [
              1,
              "#f0f921"
             ]
            ],
            "type": "histogram2dcontour"
           }
          ],
          "mesh3d": [
           {
            "colorbar": {
             "outlinewidth": 0,
             "ticks": ""
            },
            "type": "mesh3d"
           }
          ],
          "parcoords": [
           {
            "line": {
             "colorbar": {
              "outlinewidth": 0,
              "ticks": ""
             }
            },
            "type": "parcoords"
           }
          ],
          "pie": [
           {
            "automargin": true,
            "type": "pie"
           }
          ],
          "scatter": [
           {
            "fillpattern": {
             "fillmode": "overlay",
             "size": 10,
             "solidity": 0.2
            },
            "type": "scatter"
           }
          ],
          "scatter3d": [
           {
            "line": {
             "colorbar": {
              "outlinewidth": 0,
              "ticks": ""
             }
            },
            "marker": {
             "colorbar": {
              "outlinewidth": 0,
              "ticks": ""
             }
            },
            "type": "scatter3d"
           }
          ],
          "scattercarpet": [
           {
            "marker": {
             "colorbar": {
              "outlinewidth": 0,
              "ticks": ""
             }
            },
            "type": "scattercarpet"
           }
          ],
          "scattergeo": [
           {
            "marker": {
             "colorbar": {
              "outlinewidth": 0,
              "ticks": ""
             }
            },
            "type": "scattergeo"
           }
          ],
          "scattergl": [
           {
            "marker": {
             "colorbar": {
              "outlinewidth": 0,
              "ticks": ""
             }
            },
            "type": "scattergl"
           }
          ],
          "scattermap": [
           {
            "marker": {
             "colorbar": {
              "outlinewidth": 0,
              "ticks": ""
             }
            },
            "type": "scattermap"
           }
          ],
          "scattermapbox": [
           {
            "marker": {
             "colorbar": {
              "outlinewidth": 0,
              "ticks": ""
             }
            },
            "type": "scattermapbox"
           }
          ],
          "scatterpolar": [
           {
            "marker": {
             "colorbar": {
              "outlinewidth": 0,
              "ticks": ""
             }
            },
            "type": "scatterpolar"
           }
          ],
          "scatterpolargl": [
           {
            "marker": {
             "colorbar": {
              "outlinewidth": 0,
              "ticks": ""
             }
            },
            "type": "scatterpolargl"
           }
          ],
          "scatterternary": [
           {
            "marker": {
             "colorbar": {
              "outlinewidth": 0,
              "ticks": ""
             }
            },
            "type": "scatterternary"
           }
          ],
          "surface": [
           {
            "colorbar": {
             "outlinewidth": 0,
             "ticks": ""
            },
            "colorscale": [
             [
              0,
              "#0d0887"
             ],
             [
              0.1111111111111111,
              "#46039f"
             ],
             [
              0.2222222222222222,
              "#7201a8"
             ],
             [
              0.3333333333333333,
              "#9c179e"
             ],
             [
              0.4444444444444444,
              "#bd3786"
             ],
             [
              0.5555555555555556,
              "#d8576b"
             ],
             [
              0.6666666666666666,
              "#ed7953"
             ],
             [
              0.7777777777777778,
              "#fb9f3a"
             ],
             [
              0.8888888888888888,
              "#fdca26"
             ],
             [
              1,
              "#f0f921"
             ]
            ],
            "type": "surface"
           }
          ],
          "table": [
           {
            "cells": {
             "fill": {
              "color": "#EBF0F8"
             },
             "line": {
              "color": "white"
             }
            },
            "header": {
             "fill": {
              "color": "#C8D4E3"
             },
             "line": {
              "color": "white"
             }
            },
            "type": "table"
           }
          ]
         },
         "layout": {
          "annotationdefaults": {
           "arrowcolor": "#2a3f5f",
           "arrowhead": 0,
           "arrowwidth": 1
          },
          "autotypenumbers": "strict",
          "coloraxis": {
           "colorbar": {
            "outlinewidth": 0,
            "ticks": ""
           }
          },
          "colorscale": {
           "diverging": [
            [
             0,
             "#8e0152"
            ],
            [
             0.1,
             "#c51b7d"
            ],
            [
             0.2,
             "#de77ae"
            ],
            [
             0.3,
             "#f1b6da"
            ],
            [
             0.4,
             "#fde0ef"
            ],
            [
             0.5,
             "#f7f7f7"
            ],
            [
             0.6,
             "#e6f5d0"
            ],
            [
             0.7,
             "#b8e186"
            ],
            [
             0.8,
             "#7fbc41"
            ],
            [
             0.9,
             "#4d9221"
            ],
            [
             1,
             "#276419"
            ]
           ],
           "sequential": [
            [
             0,
             "#0d0887"
            ],
            [
             0.1111111111111111,
             "#46039f"
            ],
            [
             0.2222222222222222,
             "#7201a8"
            ],
            [
             0.3333333333333333,
             "#9c179e"
            ],
            [
             0.4444444444444444,
             "#bd3786"
            ],
            [
             0.5555555555555556,
             "#d8576b"
            ],
            [
             0.6666666666666666,
             "#ed7953"
            ],
            [
             0.7777777777777778,
             "#fb9f3a"
            ],
            [
             0.8888888888888888,
             "#fdca26"
            ],
            [
             1,
             "#f0f921"
            ]
           ],
           "sequentialminus": [
            [
             0,
             "#0d0887"
            ],
            [
             0.1111111111111111,
             "#46039f"
            ],
            [
             0.2222222222222222,
             "#7201a8"
            ],
            [
             0.3333333333333333,
             "#9c179e"
            ],
            [
             0.4444444444444444,
             "#bd3786"
            ],
            [
             0.5555555555555556,
             "#d8576b"
            ],
            [
             0.6666666666666666,
             "#ed7953"
            ],
            [
             0.7777777777777778,
             "#fb9f3a"
            ],
            [
             0.8888888888888888,
             "#fdca26"
            ],
            [
             1,
             "#f0f921"
            ]
           ]
          },
          "colorway": [
           "#636efa",
           "#EF553B",
           "#00cc96",
           "#ab63fa",
           "#FFA15A",
           "#19d3f3",
           "#FF6692",
           "#B6E880",
           "#FF97FF",
           "#FECB52"
          ],
          "font": {
           "color": "#2a3f5f"
          },
          "geo": {
           "bgcolor": "white",
           "lakecolor": "white",
           "landcolor": "#E5ECF6",
           "showlakes": true,
           "showland": true,
           "subunitcolor": "white"
          },
          "hoverlabel": {
           "align": "left"
          },
          "hovermode": "closest",
          "mapbox": {
           "style": "light"
          },
          "paper_bgcolor": "white",
          "plot_bgcolor": "#E5ECF6",
          "polar": {
           "angularaxis": {
            "gridcolor": "white",
            "linecolor": "white",
            "ticks": ""
           },
           "bgcolor": "#E5ECF6",
           "radialaxis": {
            "gridcolor": "white",
            "linecolor": "white",
            "ticks": ""
           }
          },
          "scene": {
           "xaxis": {
            "backgroundcolor": "#E5ECF6",
            "gridcolor": "white",
            "gridwidth": 2,
            "linecolor": "white",
            "showbackground": true,
            "ticks": "",
            "zerolinecolor": "white"
           },
           "yaxis": {
            "backgroundcolor": "#E5ECF6",
            "gridcolor": "white",
            "gridwidth": 2,
            "linecolor": "white",
            "showbackground": true,
            "ticks": "",
            "zerolinecolor": "white"
           },
           "zaxis": {
            "backgroundcolor": "#E5ECF6",
            "gridcolor": "white",
            "gridwidth": 2,
            "linecolor": "white",
            "showbackground": true,
            "ticks": "",
            "zerolinecolor": "white"
           }
          },
          "shapedefaults": {
           "line": {
            "color": "#2a3f5f"
           }
          },
          "ternary": {
           "aaxis": {
            "gridcolor": "white",
            "linecolor": "white",
            "ticks": ""
           },
           "baxis": {
            "gridcolor": "white",
            "linecolor": "white",
            "ticks": ""
           },
           "bgcolor": "#E5ECF6",
           "caxis": {
            "gridcolor": "white",
            "linecolor": "white",
            "ticks": ""
           }
          },
          "title": {
           "x": 0.05
          },
          "xaxis": {
           "automargin": true,
           "gridcolor": "white",
           "linecolor": "white",
           "ticks": "",
           "title": {
            "standoff": 15
           },
           "zerolinecolor": "white",
           "zerolinewidth": 2
          },
          "yaxis": {
           "automargin": true,
           "gridcolor": "white",
           "linecolor": "white",
           "ticks": "",
           "title": {
            "standoff": 15
           },
           "zerolinecolor": "white",
           "zerolinewidth": 2
          }
         }
        },
        "title": {
         "text": "PCA of Word Neighborhoods - Word2Vec"
        },
        "xaxis": {
         "anchor": "y",
         "domain": [
          0,
          1
         ],
         "title": {
          "text": "x"
         }
        },
        "yaxis": {
         "anchor": "x",
         "domain": [
          0,
          1
         ],
         "title": {
          "text": "y"
         }
        }
       }
      }
     },
     "metadata": {},
     "output_type": "display_data"
    }
   ],
   "source": [
    "\n",
    "query_words = ['market', 'film', 'election', 'game', 'software']\n",
    "visualize_word_neighborhoods(query_words, svd_vectors, word_to_idx, idx_to_word, \"SVD\")\n",
    "visualize_word_neighborhoods(query_words, w2v_vectors, word_to_idx, idx_to_word, \"Word2Vec\")"
   ]
  }
 ],
 "metadata": {
  "kernelspec": {
   "display_name": "Python (spaCy Project)",
   "language": "python",
   "name": "spacy-project"
  },
  "language_info": {
   "codemirror_mode": {
    "name": "ipython",
    "version": 3
   },
   "file_extension": ".py",
   "mimetype": "text/x-python",
   "name": "python",
   "nbconvert_exporter": "python",
   "pygments_lexer": "ipython3",
   "version": "3.12.4"
  }
 },
 "nbformat": 4,
 "nbformat_minor": 5
}
