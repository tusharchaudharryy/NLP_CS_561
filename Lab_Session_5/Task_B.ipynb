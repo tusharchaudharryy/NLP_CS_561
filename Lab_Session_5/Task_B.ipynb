{
 "cells": [
  {
   "cell_type": "markdown",
   "id": "3905026c",
   "metadata": {},
   "source": [
    "# Task B: Node2Vec on Superhero Graph"
   ]
  },
  {
   "cell_type": "markdown",
   "id": "f4251973",
   "metadata": {},
   "source": [
    "1. Imports and Setup"
   ]
  },
  {
   "cell_type": "code",
   "execution_count": 2,
   "id": "33e72c74",
   "metadata": {},
   "outputs": [],
   "source": [
    "import os\n",
    "import networkx as nx\n",
    "import pandas as pd\n",
    "import numpy as np\n",
    "from node2vec import Node2Vec\n",
    "from sklearn.decomposition import PCA\n",
    "import plotly.express as px"
   ]
  },
  {
   "cell_type": "markdown",
   "id": "64d74027",
   "metadata": {},
   "source": [
    "2. Graph Construction"
   ]
  },
  {
   "cell_type": "code",
   "execution_count": 3,
   "id": "92d9bd47",
   "metadata": {},
   "outputs": [
    {
     "name": "stdout",
     "output_type": "stream",
     "text": [
      "Graph constructed successfully with 34 nodes and 51 edges.\n"
     ]
    }
   ],
   "source": [
    "edges = [\n",
    "    ('CAPTAIN AMERICA', 'IRON MAN'), ('CAPTAIN AMERICA', 'HAWKEYE'), ('CAPTAIN AMERICA', 'BLACK WIDOW'),\n",
    "    ('CAPTAIN AMERICA', 'THOR'), ('CAPTAIN AMERICA', 'HULK'), ('CAPTAIN AMERICA', 'SPIDER-MAN'),\n",
    "    ('IRON MAN', 'WAR MACHINE'), ('IRON MAN', 'BLACK WIDOW'), ('IRON MAN', 'THOR'), ('IRON MAN', 'HULK'),\n",
    "    ('IRON MAN', 'SPIDER-MAN'), ('BLACK WIDOW', 'HAWKEYE'), ('BLACK WIDOW', 'HULK'), ('THOR', 'HULK'),\n",
    "    ('WOLVERINE', 'BEAST'), ('WOLVERINE', 'COLOSSUS'), ('WOLVERINE', 'CYCLOPS'), ('WOLVERINE', 'ROGUE'),\n",
    "    ('WOLVERINE', 'STORM'), ('WOLVERINE', 'JEAN GREY'), ('WOLVERINE', 'PROFESSOR X'),\n",
    "    ('CYCLOPS', 'JEAN GREY'), ('CYCLOPS', 'PROFESSOR X'), ('JEAN GREY', 'PROFESSOR X'), ('JEAN GREY', 'STORM'),\n",
    "    ('ROGUE', 'ICEMAN'),\n",
    "    ('DAREDEVIL', 'ELEKTRA'), ('DAREDEVIL', 'PUNISHER'), ('LUKE CAGE', 'JESSICA JONES'),\n",
    "    ('LUKE CAGE', 'IRON FIST'), ('JESSICA JONES', 'IRON FIST'),\n",
    "    ('STAR-LORD', 'GAMORA'), ('STAR-LORD', 'DRAX'), ('STAR-LORD', 'ROCKET RACCOON'), ('STAR-LORD', 'GROOT'),\n",
    "    ('GAMORA', 'DRAX'), ('GAMORA', 'ROCKET RACCOON'), ('ROCKET RACCOON', 'GROOT'), ('NEBULA', 'GAMORA'),\n",
    "    ('MR. FANTASTIC', 'INVISIBLE WOMAN'), ('MR. FANTASTIC', 'THING'), ('MR. FANTASTIC', 'HUMAN TORCH'),\n",
    "    ('INVISIBLE WOMAN', 'THING'), ('INVISIBLE WOMAN', 'HUMAN TORCH'), ('THING', 'HUMAN TORCH'),\n",
    "    ('BLACK PANTHER', 'STORM'),\n",
    "    ('PROFESSOR X', 'CAPTAIN AMERICA'), ('SPIDER-MAN', 'DAREDEVIL'), ('HULK', 'ROCKET RACCOON'),\n",
    "    ('THING', 'HULK'), ('STORM', 'THOR')\n",
    "]\n",
    "\n",
    "graph = nx.Graph()\n",
    "graph.add_edges_from(edges)\n",
    "\n",
    "print(f\"Graph constructed successfully with {graph.number_of_nodes()} nodes and {graph.number_of_edges()} edges.\")"
   ]
  },
  {
   "cell_type": "markdown",
   "id": "46fbc31a",
   "metadata": {},
   "source": [
    "3. Train Node2Vec Model"
   ]
  },
  {
   "cell_type": "code",
   "execution_count": 4,
   "id": "9b298660",
   "metadata": {},
   "outputs": [
    {
     "data": {
      "application/vnd.jupyter.widget-view+json": {
       "model_id": "742a48b0e7bc41fea5889c08825edcbf",
       "version_major": 2,
       "version_minor": 0
      },
      "text/plain": [
       "Computing transition probabilities:   0%|          | 0/34 [00:00<?, ?it/s]"
      ]
     },
     "metadata": {},
     "output_type": "display_data"
    },
    {
     "name": "stdout",
     "output_type": "stream",
     "text": [
      "Node2Vec model trained successfully.\n"
     ]
    }
   ],
   "source": [
    "node2vec = Node2Vec(\n",
    "    graph,\n",
    "    dimensions=128,\n",
    "    walk_length=100,\n",
    "    num_walks=10,\n",
    "    workers=os.cpu_count()\n",
    ")\n",
    "\n",
    "model = node2vec.fit(window=5, min_count=1, sg=1)\n",
    "print(\"Node2Vec model trained successfully.\")"
   ]
  },
  {
   "cell_type": "markdown",
   "id": "bb1daa0d",
   "metadata": {},
   "source": [
    "4. Task B.a: Query for Similar Nodes"
   ]
  },
  {
   "cell_type": "code",
   "execution_count": 5,
   "id": "2682898b",
   "metadata": {},
   "outputs": [
    {
     "name": "stdout",
     "output_type": "stream",
     "text": [
      "\n",
      "Top 10 superheroes most similar to 'HULK':\n",
      "1. THOR (Similarity: 0.9135)\n",
      "2. CAPTAIN AMERICA (Similarity: 0.9087)\n",
      "3. BLACK WIDOW (Similarity: 0.9006)\n",
      "4. WAR MACHINE (Similarity: 0.8980)\n",
      "5. IRON MAN (Similarity: 0.8827)\n",
      "6. HAWKEYE (Similarity: 0.8818)\n",
      "7. ROCKET RACCOON (Similarity: 0.8027)\n",
      "8. THING (Similarity: 0.7970)\n",
      "9. GROOT (Similarity: 0.7780)\n",
      "10. GAMORA (Similarity: 0.7478)\n"
     ]
    }
   ],
   "source": [
    "query_node = 'HULK'\n",
    "\n",
    "try:\n",
    "    top_10_similar = model.wv.most_similar(query_node, topn=10)\n",
    "    print(f\"\\nTop 10 superheroes most similar to '{query_node}':\")\n",
    "    for i, (name, score) in enumerate(top_10_similar, 1):\n",
    "        print(f\"{i}. {name} (Similarity: {score:.4f})\")\n",
    "except KeyError:\n",
    "    print(f\"ERROR: Query node '{query_node}' not found in the model's vocabulary.\")\n"
   ]
  },
  {
   "cell_type": "markdown",
   "id": "209c2de9",
   "metadata": {},
   "source": [
    "5. Task B.b: Visualize Embeddings with PCA"
   ]
  },
  {
   "cell_type": "code",
   "execution_count": 6,
   "id": "385d6fe1",
   "metadata": {},
   "outputs": [
    {
     "name": "stdout",
     "output_type": "stream",
     "text": [
      "\n",
      "Generating interactive plot\n"
     ]
    },
    {
     "data": {
      "application/vnd.plotly.v1+json": {
       "config": {
        "plotlyServerURL": "https://plot.ly"
       },
       "data": [
        {
         "hovertemplate": "x=%{x}<br>y=%{y}<br>name=%{text}<extra></extra>",
         "legendgroup": "",
         "marker": {
          "color": "#636efa",
          "symbol": "circle"
         },
         "mode": "markers+text",
         "name": "",
         "orientation": "v",
         "showlegend": false,
         "text": [
          "WOLVERINE",
          "CAPTAIN AMERICA",
          "IRON MAN",
          "HULK",
          "GAMORA",
          "ROCKET RACCOON",
          "JEAN GREY",
          "STORM",
          "PROFESSOR X",
          "STAR-LORD",
          "THOR",
          "BLACK WIDOW",
          "THING",
          "DAREDEVIL",
          "CYCLOPS",
          "JESSICA JONES",
          "IRON FIST",
          "SPIDER-MAN",
          "LUKE CAGE",
          "HUMAN TORCH",
          "INVISIBLE WOMAN",
          "MR. FANTASTIC",
          "DRAX",
          "ROGUE",
          "HAWKEYE",
          "GROOT",
          "COLOSSUS",
          "PUNISHER",
          "NEBULA",
          "WAR MACHINE",
          "BLACK PANTHER",
          "ELEKTRA",
          "ICEMAN",
          "BEAST"
         ],
         "textposition": "top center",
         "type": "scatter",
         "x": {
          "bdata": "3/KfPkpROj+4iEQ/C3gfP5nwcjyOHIM+RMS6PpggBj+IbMw+OIwPOkvxMD/8KDY/rr+PPs+lmT4w+bY+vSBfwOjiXcAK/v8+8uZewAtQ/D0Vuhk+25EmPprQxLyPmgQ+P8U4P23OvD0iC38++dNyPtHa3L0lDmY/FSv+PpWzST5a9Fs9rNtmPg==",
          "dtype": "f4"
         },
         "xaxis": "x",
         "y": {
          "bdata": "m66QvzikNz0Id+Y82oPpPp8Usz9h14k/Qc6EvwnzWr9MdVi/DJOtP1f0N70jVAQ+yd9EP1qnFr6AonW/CGhBvhRBQL5xXxe980g5vk78NT9wRlE/dX4zP4Njqz9qba+/UhZ8PQblqD9dH5G/EKGXvb8wvD8MMTA9C+lsvx8R+j3TkMG/U1Kbvw==",
          "dtype": "f4"
         },
         "yaxis": "y"
        }
       ],
       "layout": {
        "height": 800,
        "legend": {
         "tracegroupgap": 0
        },
        "template": {
         "data": {
          "bar": [
           {
            "error_x": {
             "color": "#2a3f5f"
            },
            "error_y": {
             "color": "#2a3f5f"
            },
            "marker": {
             "line": {
              "color": "#E5ECF6",
              "width": 0.5
             },
             "pattern": {
              "fillmode": "overlay",
              "size": 10,
              "solidity": 0.2
             }
            },
            "type": "bar"
           }
          ],
          "barpolar": [
           {
            "marker": {
             "line": {
              "color": "#E5ECF6",
              "width": 0.5
             },
             "pattern": {
              "fillmode": "overlay",
              "size": 10,
              "solidity": 0.2
             }
            },
            "type": "barpolar"
           }
          ],
          "carpet": [
           {
            "aaxis": {
             "endlinecolor": "#2a3f5f",
             "gridcolor": "white",
             "linecolor": "white",
             "minorgridcolor": "white",
             "startlinecolor": "#2a3f5f"
            },
            "baxis": {
             "endlinecolor": "#2a3f5f",
             "gridcolor": "white",
             "linecolor": "white",
             "minorgridcolor": "white",
             "startlinecolor": "#2a3f5f"
            },
            "type": "carpet"
           }
          ],
          "choropleth": [
           {
            "colorbar": {
             "outlinewidth": 0,
             "ticks": ""
            },
            "type": "choropleth"
           }
          ],
          "contour": [
           {
            "colorbar": {
             "outlinewidth": 0,
             "ticks": ""
            },
            "colorscale": [
             [
              0,
              "#0d0887"
             ],
             [
              0.1111111111111111,
              "#46039f"
             ],
             [
              0.2222222222222222,
              "#7201a8"
             ],
             [
              0.3333333333333333,
              "#9c179e"
             ],
             [
              0.4444444444444444,
              "#bd3786"
             ],
             [
              0.5555555555555556,
              "#d8576b"
             ],
             [
              0.6666666666666666,
              "#ed7953"
             ],
             [
              0.7777777777777778,
              "#fb9f3a"
             ],
             [
              0.8888888888888888,
              "#fdca26"
             ],
             [
              1,
              "#f0f921"
             ]
            ],
            "type": "contour"
           }
          ],
          "contourcarpet": [
           {
            "colorbar": {
             "outlinewidth": 0,
             "ticks": ""
            },
            "type": "contourcarpet"
           }
          ],
          "heatmap": [
           {
            "colorbar": {
             "outlinewidth": 0,
             "ticks": ""
            },
            "colorscale": [
             [
              0,
              "#0d0887"
             ],
             [
              0.1111111111111111,
              "#46039f"
             ],
             [
              0.2222222222222222,
              "#7201a8"
             ],
             [
              0.3333333333333333,
              "#9c179e"
             ],
             [
              0.4444444444444444,
              "#bd3786"
             ],
             [
              0.5555555555555556,
              "#d8576b"
             ],
             [
              0.6666666666666666,
              "#ed7953"
             ],
             [
              0.7777777777777778,
              "#fb9f3a"
             ],
             [
              0.8888888888888888,
              "#fdca26"
             ],
             [
              1,
              "#f0f921"
             ]
            ],
            "type": "heatmap"
           }
          ],
          "histogram": [
           {
            "marker": {
             "pattern": {
              "fillmode": "overlay",
              "size": 10,
              "solidity": 0.2
             }
            },
            "type": "histogram"
           }
          ],
          "histogram2d": [
           {
            "colorbar": {
             "outlinewidth": 0,
             "ticks": ""
            },
            "colorscale": [
             [
              0,
              "#0d0887"
             ],
             [
              0.1111111111111111,
              "#46039f"
             ],
             [
              0.2222222222222222,
              "#7201a8"
             ],
             [
              0.3333333333333333,
              "#9c179e"
             ],
             [
              0.4444444444444444,
              "#bd3786"
             ],
             [
              0.5555555555555556,
              "#d8576b"
             ],
             [
              0.6666666666666666,
              "#ed7953"
             ],
             [
              0.7777777777777778,
              "#fb9f3a"
             ],
             [
              0.8888888888888888,
              "#fdca26"
             ],
             [
              1,
              "#f0f921"
             ]
            ],
            "type": "histogram2d"
           }
          ],
          "histogram2dcontour": [
           {
            "colorbar": {
             "outlinewidth": 0,
             "ticks": ""
            },
            "colorscale": [
             [
              0,
              "#0d0887"
             ],
             [
              0.1111111111111111,
              "#46039f"
             ],
             [
              0.2222222222222222,
              "#7201a8"
             ],
             [
              0.3333333333333333,
              "#9c179e"
             ],
             [
              0.4444444444444444,
              "#bd3786"
             ],
             [
              0.5555555555555556,
              "#d8576b"
             ],
             [
              0.6666666666666666,
              "#ed7953"
             ],
             [
              0.7777777777777778,
              "#fb9f3a"
             ],
             [
              0.8888888888888888,
              "#fdca26"
             ],
             [
              1,
              "#f0f921"
             ]
            ],
            "type": "histogram2dcontour"
           }
          ],
          "mesh3d": [
           {
            "colorbar": {
             "outlinewidth": 0,
             "ticks": ""
            },
            "type": "mesh3d"
           }
          ],
          "parcoords": [
           {
            "line": {
             "colorbar": {
              "outlinewidth": 0,
              "ticks": ""
             }
            },
            "type": "parcoords"
           }
          ],
          "pie": [
           {
            "automargin": true,
            "type": "pie"
           }
          ],
          "scatter": [
           {
            "fillpattern": {
             "fillmode": "overlay",
             "size": 10,
             "solidity": 0.2
            },
            "type": "scatter"
           }
          ],
          "scatter3d": [
           {
            "line": {
             "colorbar": {
              "outlinewidth": 0,
              "ticks": ""
             }
            },
            "marker": {
             "colorbar": {
              "outlinewidth": 0,
              "ticks": ""
             }
            },
            "type": "scatter3d"
           }
          ],
          "scattercarpet": [
           {
            "marker": {
             "colorbar": {
              "outlinewidth": 0,
              "ticks": ""
             }
            },
            "type": "scattercarpet"
           }
          ],
          "scattergeo": [
           {
            "marker": {
             "colorbar": {
              "outlinewidth": 0,
              "ticks": ""
             }
            },
            "type": "scattergeo"
           }
          ],
          "scattergl": [
           {
            "marker": {
             "colorbar": {
              "outlinewidth": 0,
              "ticks": ""
             }
            },
            "type": "scattergl"
           }
          ],
          "scattermap": [
           {
            "marker": {
             "colorbar": {
              "outlinewidth": 0,
              "ticks": ""
             }
            },
            "type": "scattermap"
           }
          ],
          "scattermapbox": [
           {
            "marker": {
             "colorbar": {
              "outlinewidth": 0,
              "ticks": ""
             }
            },
            "type": "scattermapbox"
           }
          ],
          "scatterpolar": [
           {
            "marker": {
             "colorbar": {
              "outlinewidth": 0,
              "ticks": ""
             }
            },
            "type": "scatterpolar"
           }
          ],
          "scatterpolargl": [
           {
            "marker": {
             "colorbar": {
              "outlinewidth": 0,
              "ticks": ""
             }
            },
            "type": "scatterpolargl"
           }
          ],
          "scatterternary": [
           {
            "marker": {
             "colorbar": {
              "outlinewidth": 0,
              "ticks": ""
             }
            },
            "type": "scatterternary"
           }
          ],
          "surface": [
           {
            "colorbar": {
             "outlinewidth": 0,
             "ticks": ""
            },
            "colorscale": [
             [
              0,
              "#0d0887"
             ],
             [
              0.1111111111111111,
              "#46039f"
             ],
             [
              0.2222222222222222,
              "#7201a8"
             ],
             [
              0.3333333333333333,
              "#9c179e"
             ],
             [
              0.4444444444444444,
              "#bd3786"
             ],
             [
              0.5555555555555556,
              "#d8576b"
             ],
             [
              0.6666666666666666,
              "#ed7953"
             ],
             [
              0.7777777777777778,
              "#fb9f3a"
             ],
             [
              0.8888888888888888,
              "#fdca26"
             ],
             [
              1,
              "#f0f921"
             ]
            ],
            "type": "surface"
           }
          ],
          "table": [
           {
            "cells": {
             "fill": {
              "color": "#EBF0F8"
             },
             "line": {
              "color": "white"
             }
            },
            "header": {
             "fill": {
              "color": "#C8D4E3"
             },
             "line": {
              "color": "white"
             }
            },
            "type": "table"
           }
          ]
         },
         "layout": {
          "annotationdefaults": {
           "arrowcolor": "#2a3f5f",
           "arrowhead": 0,
           "arrowwidth": 1
          },
          "autotypenumbers": "strict",
          "coloraxis": {
           "colorbar": {
            "outlinewidth": 0,
            "ticks": ""
           }
          },
          "colorscale": {
           "diverging": [
            [
             0,
             "#8e0152"
            ],
            [
             0.1,
             "#c51b7d"
            ],
            [
             0.2,
             "#de77ae"
            ],
            [
             0.3,
             "#f1b6da"
            ],
            [
             0.4,
             "#fde0ef"
            ],
            [
             0.5,
             "#f7f7f7"
            ],
            [
             0.6,
             "#e6f5d0"
            ],
            [
             0.7,
             "#b8e186"
            ],
            [
             0.8,
             "#7fbc41"
            ],
            [
             0.9,
             "#4d9221"
            ],
            [
             1,
             "#276419"
            ]
           ],
           "sequential": [
            [
             0,
             "#0d0887"
            ],
            [
             0.1111111111111111,
             "#46039f"
            ],
            [
             0.2222222222222222,
             "#7201a8"
            ],
            [
             0.3333333333333333,
             "#9c179e"
            ],
            [
             0.4444444444444444,
             "#bd3786"
            ],
            [
             0.5555555555555556,
             "#d8576b"
            ],
            [
             0.6666666666666666,
             "#ed7953"
            ],
            [
             0.7777777777777778,
             "#fb9f3a"
            ],
            [
             0.8888888888888888,
             "#fdca26"
            ],
            [
             1,
             "#f0f921"
            ]
           ],
           "sequentialminus": [
            [
             0,
             "#0d0887"
            ],
            [
             0.1111111111111111,
             "#46039f"
            ],
            [
             0.2222222222222222,
             "#7201a8"
            ],
            [
             0.3333333333333333,
             "#9c179e"
            ],
            [
             0.4444444444444444,
             "#bd3786"
            ],
            [
             0.5555555555555556,
             "#d8576b"
            ],
            [
             0.6666666666666666,
             "#ed7953"
            ],
            [
             0.7777777777777778,
             "#fb9f3a"
            ],
            [
             0.8888888888888888,
             "#fdca26"
            ],
            [
             1,
             "#f0f921"
            ]
           ]
          },
          "colorway": [
           "#636efa",
           "#EF553B",
           "#00cc96",
           "#ab63fa",
           "#FFA15A",
           "#19d3f3",
           "#FF6692",
           "#B6E880",
           "#FF97FF",
           "#FECB52"
          ],
          "font": {
           "color": "#2a3f5f"
          },
          "geo": {
           "bgcolor": "white",
           "lakecolor": "white",
           "landcolor": "#E5ECF6",
           "showlakes": true,
           "showland": true,
           "subunitcolor": "white"
          },
          "hoverlabel": {
           "align": "left"
          },
          "hovermode": "closest",
          "mapbox": {
           "style": "light"
          },
          "paper_bgcolor": "white",
          "plot_bgcolor": "#E5ECF6",
          "polar": {
           "angularaxis": {
            "gridcolor": "white",
            "linecolor": "white",
            "ticks": ""
           },
           "bgcolor": "#E5ECF6",
           "radialaxis": {
            "gridcolor": "white",
            "linecolor": "white",
            "ticks": ""
           }
          },
          "scene": {
           "xaxis": {
            "backgroundcolor": "#E5ECF6",
            "gridcolor": "white",
            "gridwidth": 2,
            "linecolor": "white",
            "showbackground": true,
            "ticks": "",
            "zerolinecolor": "white"
           },
           "yaxis": {
            "backgroundcolor": "#E5ECF6",
            "gridcolor": "white",
            "gridwidth": 2,
            "linecolor": "white",
            "showbackground": true,
            "ticks": "",
            "zerolinecolor": "white"
           },
           "zaxis": {
            "backgroundcolor": "#E5ECF6",
            "gridcolor": "white",
            "gridwidth": 2,
            "linecolor": "white",
            "showbackground": true,
            "ticks": "",
            "zerolinecolor": "white"
           }
          },
          "shapedefaults": {
           "line": {
            "color": "#2a3f5f"
           }
          },
          "ternary": {
           "aaxis": {
            "gridcolor": "white",
            "linecolor": "white",
            "ticks": ""
           },
           "baxis": {
            "gridcolor": "white",
            "linecolor": "white",
            "ticks": ""
           },
           "bgcolor": "#E5ECF6",
           "caxis": {
            "gridcolor": "white",
            "linecolor": "white",
            "ticks": ""
           }
          },
          "title": {
           "x": 0.05
          },
          "xaxis": {
           "automargin": true,
           "gridcolor": "white",
           "linecolor": "white",
           "ticks": "",
           "title": {
            "standoff": 15
           },
           "zerolinecolor": "white",
           "zerolinewidth": 2
          },
          "yaxis": {
           "automargin": true,
           "gridcolor": "white",
           "linecolor": "white",
           "ticks": "",
           "title": {
            "standoff": 15
           },
           "zerolinecolor": "white",
           "zerolinewidth": 2
          }
         }
        },
        "title": {
         "text": "2D PCA Visualization of Superhero Node Embeddings"
        },
        "xaxis": {
         "anchor": "y",
         "domain": [
          0,
          1
         ],
         "title": {
          "text": "Principal Component 1"
         }
        },
        "yaxis": {
         "anchor": "x",
         "domain": [
          0,
          1
         ],
         "title": {
          "text": "Principal Component 2"
         }
        }
       }
      }
     },
     "metadata": {},
     "output_type": "display_data"
    }
   ],
   "source": [
    "nodes = model.wv.index_to_key\n",
    "embeddings = model.wv.vectors\n",
    "\n",
    "pca = PCA(n_components=2)\n",
    "embeddings_2d = pca.fit_transform(embeddings)\n",
    "\n",
    "df = pd.DataFrame({\n",
    "    'name': nodes,\n",
    "    'x': embeddings_2d[:, 0],\n",
    "    'y': embeddings_2d[:, 1]\n",
    "})\n",
    "\n",
    "fig = px.scatter(\n",
    "    df,\n",
    "    x='x',\n",
    "    y='y',\n",
    "    text='name',\n",
    "    title='2D PCA Visualization of Superhero Node Embeddings'\n",
    ")\n",
    "fig.update_traces(textposition='top center')\n",
    "fig.update_layout(height=800, xaxis_title=\"Principal Component 1\", yaxis_title=\"Principal Component 2\")\n",
    "\n",
    "print(\"\\nGenerating interactive plot\")\n",
    "fig.show()"
   ]
  },
  {
   "cell_type": "code",
   "execution_count": null,
   "id": "163d7b1e",
   "metadata": {},
   "outputs": [],
   "source": []
  }
 ],
 "metadata": {
  "kernelspec": {
   "display_name": "cs561",
   "language": "python",
   "name": "python3"
  },
  "language_info": {
   "codemirror_mode": {
    "name": "ipython",
    "version": 3
   },
   "file_extension": ".py",
   "mimetype": "text/x-python",
   "name": "python",
   "nbconvert_exporter": "python",
   "pygments_lexer": "ipython3",
   "version": "3.11.13"
  }
 },
 "nbformat": 4,
 "nbformat_minor": 5
}
